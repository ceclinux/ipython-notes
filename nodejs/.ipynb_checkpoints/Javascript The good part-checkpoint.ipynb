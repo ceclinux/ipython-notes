{
 "cells": [
  {
   "cell_type": "markdown",
   "metadata": {},
   "source": [
    "In Javascript, pairs can also occur in regular expression literals, so black comments are not safe for commenting out blocks are not safe for commenting out blocks of code. For example:"
   ]
  },
  {
   "cell_type": "code",
   "execution_count": 25,
   "metadata": {},
   "outputs": [
    {
     "ename": "Javascript Error",
     "evalue": "Unexpected token .",
     "output_type": "error",
     "traceback": [
      "evalmachine.<anonymous>:2\n    var rm_a = /a*/.match(s);\n                   ^\nSyntaxError: Unexpected token .\n    at createScript (vm.js:53:10)\n    at Object.runInContext (vm.js:86:10)\n    at Context.rawRun (/home/ceclinux/jupyter-nodejs/build/context.js:184:30)\n    at Domain.<anonymous> (/home/ceclinux/jupyter-nodejs/build/context.js:204:27)\n    at Domain.run (domain.js:221:14)\n    at Context.rawEvaluate (/home/ceclinux/jupyter-nodejs/build/context.js:202:9)\n    at Context.execute (/home/ceclinux/jupyter-nodejs/build/context.js:354:21)\n    at Kernel.executeRequest (/home/ceclinux/jupyter-nodejs/build/kernel.js:224:16)\n    at Kernel.onShell (/home/ceclinux/jupyter-nodejs/build/kernel.js:126:14)\n    at emitMany (events.js:127:13)"
     ]
    }
   ],
   "source": [
    "/*\n",
    "    var rm_a = /a*/.match(s);\n",
    "*/"
   ]
  },
  {
   "cell_type": "markdown",
   "metadata": {},
   "source": [
    "1.0 and 1 are the same value"
   ]
  },
  {
   "cell_type": "code",
   "execution_count": 26,
   "metadata": {},
   "outputs": [
    {
     "data": {
      "text/plain": [
       "true"
      ]
     },
     "execution_count": 26,
     "metadata": {},
     "output_type": "execute_result"
    }
   ],
   "source": [
    "1.0 == 1"
   ]
  },
  {
   "cell_type": "code",
   "execution_count": 27,
   "metadata": {},
   "outputs": [
    {
     "data": {
      "text/plain": [
       "true"
      ]
     },
     "execution_count": 27,
     "metadata": {},
     "output_type": "execute_result"
    }
   ],
   "source": [
    "1.0 === 1"
   ]
  },
  {
   "cell_type": "markdown",
   "metadata": {},
   "source": [
    "The '\\u' convention allows for specifying character code points numerically"
   ]
  },
  {
   "cell_type": "code",
   "execution_count": 28,
   "metadata": {},
   "outputs": [
    {
     "data": {
      "text/plain": [
       "true"
      ]
     },
     "execution_count": 28,
     "metadata": {},
     "output_type": "execute_result"
    }
   ],
   "source": [
    "\"A\" === \"\\u0041\""
   ]
  },
  {
   "cell_type": "markdown",
   "metadata": {},
   "source": [
    "Two strings containing exactly the same characters in the same order are considered to be the same string."
   ]
  },
  {
   "cell_type": "code",
   "execution_count": 29,
   "metadata": {},
   "outputs": [
    {
     "data": {
      "text/plain": [
       "true"
      ]
     },
     "execution_count": 29,
     "metadata": {},
     "output_type": "execute_result"
    }
   ],
   "source": [
    "'c' + 'a' + 't' === 'cat'"
   ]
  },
  {
   "cell_type": "markdown",
   "metadata": {},
   "source": [
    "The if statement changes the flow of the program based on the value of the expression. The then block is executed is trunthy; otherwise, the optional else branch is taken"
   ]
  },
  {
   "cell_type": "markdown",
   "metadata": {},
   "source": [
    "Here are the falsy values:\n",
    "\n",
    "- false\n",
    "- null\n",
    "- undefined\n",
    "- The empty string ''\n",
    "- The number 0\n",
    "- The number NaN"
   ]
  },
  {
   "cell_type": "markdown",
   "metadata": {},
   "source": [
    "If a return expressio nis not specified, then the return value will be undefined"
   ]
  },
  {
   "cell_type": "code",
   "execution_count": 30,
   "metadata": {},
   "outputs": [
    {
     "data": {
      "text/plain": [
       "\"object\""
      ]
     },
     "execution_count": 30,
     "metadata": {},
     "output_type": "execute_result"
    }
   ],
   "source": [
    "typeof null"
   ]
  },
  {
   "cell_type": "markdown",
   "metadata": {},
   "source": [
    "The simple types of Javascript are numbers, strings, booleans(true and false), null, are undefined. All other values are objects."
   ]
  },
  {
   "cell_type": "markdown",
   "metadata": {},
   "source": [
    "The || operator can be used to fill in default values:"
   ]
  },
  {
   "cell_type": "code",
   "execution_count": 31,
   "metadata": {},
   "outputs": [
    {
     "name": "stdout",
     "output_type": "stream",
     "text": [
      "(none)\n"
     ]
    }
   ],
   "source": [
    "stooge = {}\n",
    "var middle = stooge[\"middle-name\"] || \"(none)\"\n",
    "console.log(middle);"
   ]
  },
  {
   "cell_type": "code",
   "execution_count": 32,
   "metadata": {
    "collapsed": true
   },
   "outputs": [],
   "source": [
    "if(typeof Object.create !== 'function'){\n",
    "    Object.create = function (o){\n",
    "        var F = function() {};\n",
    "        F.prototype = o;\n",
    "        return new F();\n",
    "    }\n",
    "}\n",
    "\n",
    "var another_stooge = Object.create(stooge);"
   ]
  },
  {
   "cell_type": "code",
   "execution_count": 33,
   "metadata": {},
   "outputs": [
    {
     "data": {
      "text/plain": [
       "\"Moe\""
      ]
     },
     "execution_count": 33,
     "metadata": {},
     "output_type": "execute_result"
    }
   ],
   "source": [
    "another_stooge['first-name'] = 'Harry';\n",
    "another_stooge['middle-name'] = 'Moses';\n",
    "another_stooge.nickname = 'Moe';"
   ]
  },
  {
   "cell_type": "code",
   "execution_count": 34,
   "metadata": {},
   "outputs": [
    {
     "data": {
      "text/plain": [
       "\"actor\""
      ]
     },
     "execution_count": 34,
     "metadata": {},
     "output_type": "execute_result"
    }
   ],
   "source": [
    "stooge.profession = 'actor';\n",
    "another_stooge.profession"
   ]
  },
  {
   "cell_type": "code",
   "execution_count": 35,
   "metadata": {},
   "outputs": [
    {
     "name": "stdout",
     "output_type": "stream",
     "text": [
      "function\n",
      "false\n"
     ]
    }
   ],
   "source": [
    "console.log(typeof another_stooge.toString)\n",
    "console.log(another_stooge.hasOwnProperty('toString'))"
   ]
  },
  {
   "cell_type": "code",
   "execution_count": 36,
   "metadata": {
    "collapsed": true
   },
   "outputs": [],
   "source": [
    "var fun = function(a, b){return a + b;}"
   ]
  },
  {
   "cell_type": "code",
   "execution_count": 37,
   "metadata": {},
   "outputs": [
    {
     "name": "stdout",
     "output_type": "stream",
     "text": [
      "null\n",
      "3\n",
      "3\n"
     ]
    }
   ],
   "source": [
    "console.log(fun(1));\n",
    "console.log(fun(1,2));\n",
    "console.log(fun(1,2,3));"
   ]
  },
  {
   "cell_type": "markdown",
   "metadata": {},
   "source": [
    "Function invocation is performed by invoking a function using ():\n",
    "\n",
    "```\n",
    "add(2,3); //5\n",
    "```\n",
    "When using the function invocation pattern, this is set to the global object. This was a mistake in the JavaScript language! Blindly binding this to the global object can destroy its current context. It is noticable when using an inner function within a method function. An example should explain things better:\n",
    "```\n",
    "var value = 500; //Global variable\n",
    "var obj = {\n",
    "    value: 0,\n",
    "    increment: function() {\n",
    "        this.value++;\n",
    "\n",
    "        var innerFunction = function() {\n",
    "            alert(this.value);\n",
    "        }\n",
    "\n",
    "        innerFunction(); //Function invocation pattern\n",
    "    }\n",
    "}\n",
    "obj.increment(); //Method invocation pattern\n",
    "```\n",
    "What do you think will be printed to screen? For those that answered 1, you are wrong (but don't be too hard on yourselves, this is because JavaScript does not do things very well). The real answer is 500. Note that innerFunction is called using the function invocation pattern, therefore this is set to the global object. The result is that innerFunction (again, it is important to note that it is invoked with function pattern) will not have this set to current object. Instead, it is set to the global object, where value is defined as 500. I stress that this is bad language design; the increment function was invoked with the method invocation pattern, and so it is natural to assume the this should always point to the current function when used inside it.\n",
    "\n",
    "There is an easy way to get round this problem, but it is in my opinion a hack. One gets around this problem by assigning a variable (by convention, it is named that) to this inside the function (aside: This works because functions in JavaScript are closures):\n",
    "\n",
    "```\n",
    "var value = 500; //Global variable\n",
    "var obj = {\n",
    "    value: 0,\n",
    "    increment: function() {\n",
    "        var that = this;\n",
    "        that.value++;\n",
    "\n",
    "        var innerFunction = function() {\n",
    "            alert(that.value);\n",
    "        }\n",
    "\n",
    "        innerFunction(); //Function invocation pattern\n",
    "    }\n",
    "}\n",
    "obj.increment();\n",
    "```\n",
    "If this could be bound to the current object whose scope it is called in, function and method invocations would be identical."
   ]
  },
  {
   "cell_type": "code",
   "execution_count": 38,
   "metadata": {},
   "outputs": [
    {
     "name": "stdout",
     "output_type": "stream",
     "text": [
      "confused\n"
     ]
    }
   ],
   "source": [
    "var Quo = function(string){\n",
    "    this.status = string;\n",
    "}\n",
    "\n",
    "Quo.prototype.get_status = function(){\n",
    "    return this.status;\n",
    "}\n",
    "\n",
    "var myQuo= new Quo(\"confused\");\n",
    "\n",
    "console.log(myQuo.get_status());"
   ]
  },
  {
   "cell_type": "markdown",
   "metadata": {},
   "source": [
    "Functions that are intended to be used with the new prefix are called constuctors. By convention, they are kept in variables with a capitalized name."
   ]
  },
  {
   "cell_type": "code",
   "execution_count": 39,
   "metadata": {
    "collapsed": true
   },
   "outputs": [],
   "source": [
    "var add = function(a, b){return a+b;}\n",
    "var array = [3,4]\n",
    "var sum = add.apply(null, array);"
   ]
  },
  {
   "cell_type": "code",
   "execution_count": 40,
   "metadata": {},
   "outputs": [
    {
     "name": "stdout",
     "output_type": "stream",
     "text": [
      "A-OK\n"
     ]
    }
   ],
   "source": [
    "var statusObject = {\n",
    "    status: 'A-OK'\n",
    "}\n",
    "\n",
    "var status = Quo.prototype.get_status.apply(statusObject);\n",
    "console.log(status);"
   ]
  },
  {
   "cell_type": "markdown",
   "metadata": {},
   "source": [
    "Javascript doesnt has block scope, it has function scope. That means that the paramenters and variables defined in  a function are not visible outside of the function, and that a variable defined anywhere within a function is visible everywhere within the function."
   ]
  },
  {
   "cell_type": "markdown",
   "metadata": {},
   "source": [
    "Instead of initializing `myObject` with an object literal, we will initialize `myObject` by calling a function that returns an object literal. That function defines a value variable. That variable is always available to the `increment` and `getValue` methods, but the function's scope keeps it hidden form the rest of the program:"
   ]
  },
  {
   "cell_type": "code",
   "execution_count": 41,
   "metadata": {
    "collapsed": true
   },
   "outputs": [],
   "source": [
    "var myObject = function(){\n",
    "    var value = 0;\n",
    "    \n",
    "    return {\n",
    "        increment: function(inc){\n",
    "            value += typeof inc === 'number' ? inc:1;\n",
    "        },\n",
    "        getValue: function(){\n",
    "            return value;\n",
    "        }\n",
    "    }\n",
    "}();"
   ]
  },
  {
   "cell_type": "code",
   "execution_count": 42,
   "metadata": {},
   "outputs": [
    {
     "data": {
      "text/plain": [
       "null"
      ]
     },
     "execution_count": 42,
     "metadata": {},
     "output_type": "execute_result"
    }
   ],
   "source": [
    "myObject.value++;"
   ]
  },
  {
   "cell_type": "code",
   "execution_count": 43,
   "metadata": {},
   "outputs": [
    {
     "data": {
      "text/plain": [
       "0"
      ]
     },
     "execution_count": 43,
     "metadata": {},
     "output_type": "execute_result"
    }
   ],
   "source": [
    "myObject.getValue();"
   ]
  },
  {
   "cell_type": "code",
   "execution_count": 44,
   "metadata": {},
   "outputs": [
    {
     "data": {
      "text/plain": [
       "1"
      ]
     },
     "execution_count": 44,
     "metadata": {},
     "output_type": "execute_result"
    }
   ],
   "source": [
    "myObject.increment();\n",
    "myObject.getValue();"
   ]
  },
  {
   "cell_type": "code",
   "execution_count": 45,
   "metadata": {
    "collapsed": true
   },
   "outputs": [],
   "source": [
    "var add_the_handlers = function(nodes){\n",
    "    var i;\n",
    "    for(i = 0; i < nodes.length; i+= 1){\n",
    "        nodes[i].onclick = function(e){\n",
    "            alert(i);\n",
    "        }\n",
    "    }\n",
    "}"
   ]
  },
  {
   "cell_type": "markdown",
   "metadata": {},
   "source": [
    "The `add_the_handlers` function was intended to give each handler a unique number (i). It fails because the handler functions are bound to the variable i, not the value of the variable i at the time the function was made."
   ]
  },
  {
   "cell_type": "code",
   "execution_count": 46,
   "metadata": {
    "collapsed": true
   },
   "outputs": [],
   "source": [
    "var add_the_handlers = function(nodes){\n",
    "    var i;\n",
    "    for(i = 0; i < nodes.length; i+= 1){\n",
    "        nodes[i].onclick = function(i){\n",
    "            return function(e){\n",
    "                alert(e);\n",
    "            }\n",
    "        }(i);\n",
    "    }\n",
    "}"
   ]
  },
  {
   "cell_type": "markdown",
   "metadata": {},
   "source": [
    "Now, instead of assigning a function to `onclick`, we define a function and immediately invoke it, passing in i. That function will return an event handler function that is bound to the vaue of i hat was passed in, not to the `i` defined in `add_the_handelers`. "
   ]
  },
  {
   "cell_type": "markdown",
   "metadata": {},
   "source": [
    "We can use functions and closure to make modules. A module is a function or object that presents an inheritance but that hides its state and implementation. By using functions to produce modules, we can almost completely eliminate our use of global vairables, thereby mitigating one of Javascript worst features."
   ]
  },
  {
   "cell_type": "markdown",
   "metadata": {},
   "source": [
    "For example, suppose we want to augment String with a `deentityify` method. Its job is to look for HTML entitiies in a string and replace them with their equivalents in an object. But where should we keep the object? We could put it in a global variable, but global variables are evil. We could define it in the function itself, but that has a runtime cost because the literal must be evaluated every time the function was invoked. The ideal approach is to put it in a closure, and perhaps provide an extra method that can add additional entities:"
   ]
  },
  {
   "cell_type": "code",
   "execution_count": 47,
   "metadata": {},
   "outputs": [
    {
     "ename": "Javascript Error",
     "evalue": "String.method is not a function",
     "output_type": "error",
     "traceback": [
      "TypeError: String.method is not a function\n    at evalmachine.<anonymous>:7:8\n    at ContextifyScript.Script.runInContext (vm.js:32:29)\n    at Object.runInContext (vm.js:87:6)\n    at Context.rawRun (/home/ceclinux/jupyter-nodejs/build/context.js:184:30)\n    at Domain.<anonymous> (/home/ceclinux/jupyter-nodejs/build/context.js:204:27)\n    at Domain.run (domain.js:221:14)\n    at Context.rawEvaluate (/home/ceclinux/jupyter-nodejs/build/context.js:202:9)\n    at Context.execute (/home/ceclinux/jupyter-nodejs/build/context.js:354:21)\n    at Kernel.executeRequest (/home/ceclinux/jupyter-nodejs/build/kernel.js:224:16)\n    at Kernel.onShell (/home/ceclinux/jupyter-nodejs/build/kernel.js:126:14)"
     ]
    }
   ],
   "source": [
    "\n",
    "Function.prototype.method = function (name, func) {\n",
    "    this.prototype[name] = func;\n",
    "    return this;\n",
    "}\n",
    "\n",
    "String.method('deentityify', function () {\n",
    "    var entity = {\n",
    "        quot: '\"\"',\n",
    "        lt: '<',\n",
    "        gt: '>'\n",
    "    };\n",
    "    return function () {\n",
    "        return this.replace(/&([^&;]+);/g,\n",
    "            function (a, b) {\n",
    "                var r = entity[b];\n",
    "                return typeof r === 'string' ? r : a;\n",
    "            }\n",
    "        )\n",
    "    }\n",
    "} ());\n"
   ]
  },
  {
   "cell_type": "code",
   "execution_count": 55,
   "metadata": {},
   "outputs": [
    {
     "data": {
      "text/plain": [
       "function Function() { [native code] }"
      ]
     },
     "execution_count": 55,
     "metadata": {},
     "output_type": "execute_result"
    }
   ],
   "source": [
    "\n",
    "Function.method('curry', function(){\n",
    "var slice = Array.prototype.slice,\n",
    "    args = slice.apply(arguments),\n",
    "    that = this;\n",
    "    return function(){\n",
    "\t\treturn that.apply(null, args.concat(slice.apply(arguments)));\n",
    "    }\n",
    "});\n"
   ]
  },
  {
   "cell_type": "code",
   "execution_count": 57,
   "metadata": {},
   "outputs": [
    {
     "name": "stdout",
     "output_type": "stream",
     "text": [
      "7\n"
     ]
    }
   ],
   "source": [
    "var add1 = add.curry(1);\n",
    "console.log(add1(6));"
   ]
  },
  {
   "cell_type": "markdown",
   "metadata": {},
   "source": [
    "# Memorization"
   ]
  },
  {
   "cell_type": "code",
   "execution_count": 59,
   "metadata": {
    "collapsed": true
   },
   "outputs": [],
   "source": [
    "var fibonacci = function(n) {\n",
    "    return n < 2 ? n : fibonacci(n - 1) + fibonacci(n - 2);\n",
    "}"
   ]
  },
  {
   "cell_type": "code",
   "execution_count": 61,
   "metadata": {},
   "outputs": [
    {
     "name": "stdout",
     "output_type": "stream",
     "text": [
      "//0:undefined\n",
      "//1:undefined\n",
      "//2:undefined\n",
      "//3:undefined\n",
      "//4:undefined\n",
      "//5:undefined\n",
      "//6:undefined\n",
      "//7:undefined\n",
      "//8:undefined\n",
      "//9:undefined\n",
      "//10:undefined\n"
     ]
    }
   ],
   "source": [
    "for(var i = 0; i <= 10; i += 1){\n",
    "    console.log('//' + i + ':' + fibonacci(i));\n",
    "}"
   ]
  },
  {
   "cell_type": "markdown",
   "metadata": {},
   "source": [
    "That works, but it is doing a lot of unnecessary work. The `fibonacci` function is called 453 times. We call it 11 times, and it called itself 442 times."
   ]
  },
  {
   "cell_type": "code",
   "execution_count": 64,
   "metadata": {
    "collapsed": true
   },
   "outputs": [],
   "source": [
    "var fibonacci = function(){\n",
    "    var memo = [0, 1];\n",
    "    var fib = function(n){\n",
    "        var result = memo[n];\n",
    "        if(typeof result !== 'number'){\n",
    "            result = fib(n - 1) + fib(n - 2);\n",
    "            memo[n] = result;\n",
    "        }\n",
    "        return result;\n",
    "    };\n",
    "    return fib;\n",
    "}();"
   ]
  },
  {
   "cell_type": "code",
   "execution_count": 67,
   "metadata": {},
   "outputs": [
    {
     "data": {
      "text/plain": [
       "8"
      ]
     },
     "execution_count": 67,
     "metadata": {},
     "output_type": "execute_result"
    }
   ],
   "source": [
    "fibonacci(6)"
   ]
  },
  {
   "cell_type": "code",
   "execution_count": 70,
   "metadata": {
    "collapsed": true
   },
   "outputs": [],
   "source": [
    "var memoizer = function(memo, fundamental){\n",
    "    var shell = function(n){\n",
    "        var result = memo[n];\n",
    "        if(typeof result !== 'number'){\n",
    "            result = fundamental(shell, n);\n",
    "            memo[n] = result;\n",
    "        }\n",
    "        return result;\n",
    "    };\n",
    "    return shell;\n",
    "}"
   ]
  },
  {
   "cell_type": "code",
   "execution_count": 76,
   "metadata": {
    "collapsed": true
   },
   "outputs": [],
   "source": [
    "var fib = memoizer([0, 1], function(shell, n){\n",
    "    return shell(n - 1) + shell(n - 2);\n",
    "});"
   ]
  },
  {
   "cell_type": "code",
   "execution_count": 78,
   "metadata": {},
   "outputs": [
    {
     "data": {
      "text/plain": [
       "13"
      ]
     },
     "execution_count": 78,
     "metadata": {},
     "output_type": "execute_result"
    }
   ],
   "source": [
    "fib(7)"
   ]
  },
  {
   "cell_type": "markdown",
   "metadata": {
    "collapsed": true
   },
   "source": [
    "Let's apply this pattern to our mammal example. The `name` and `saying` properties are now completely private. They are accessible only via the privileged `get_name` and `says` methods:"
   ]
  },
  {
   "cell_type": "code",
   "execution_count": 79,
   "metadata": {
    "collapsed": true
   },
   "outputs": [],
   "source": [
    "var mammal = function(spec){\n",
    "    var that = {};\n",
    "    \n",
    "    that.get_name = function(){\n",
    "        return spec.name;\n",
    "    }\n",
    "    \n",
    "    that.says = function(){\n",
    "        return spec.saying || '';\n",
    "    }\n",
    "    \n",
    "    return that;\n",
    "};"
   ]
  },
  {
   "cell_type": "code",
   "execution_count": 80,
   "metadata": {
    "collapsed": true
   },
   "outputs": [],
   "source": [
    "var myMammal = mammal({name: 'Herb'});"
   ]
  },
  {
   "cell_type": "code",
   "execution_count": 81,
   "metadata": {
    "collapsed": true
   },
   "outputs": [],
   "source": [
    "var cat = function(spec){\n",
    "    spec.saying = spec.saying || 'meow';\n",
    "    var that = mammal(spec);\n",
    "    that.purr = function(n){\n",
    "        var i, s = '';\n",
    "        for(i = 0; i < n; i+=1){\n",
    "            if(s){\n",
    "                s += '-';\n",
    "            }\n",
    "            s += 'r';\n",
    "        }\n",
    "        return s;\n",
    "    };\n",
    "    that.get_name = function(){\n",
    "        return that.says() + ' ' + spec.name + \n",
    "            ' ' + that.says();\n",
    "        return that;\n",
    "    }\n",
    "}"
   ]
  },
  {
   "cell_type": "markdown",
   "metadata": {},
   "source": [
    "## super methods"
   ]
  },
  {
   "cell_type": "code",
   "execution_count": 82,
   "metadata": {},
   "outputs": [
    {
     "data": {
      "text/plain": [
       "function Object() { [native code] }"
      ]
     },
     "execution_count": 82,
     "metadata": {},
     "output_type": "execute_result"
    }
   ],
   "source": [
    "Object.method('superior', function(name){\n",
    "    var that = this,\n",
    "        method = that[name];\n",
    "    return function(){\n",
    "        return method.apply(that, arguments);\n",
    "    };\n",
    "});"
   ]
  },
  {
   "cell_type": "code",
   "execution_count": 83,
   "metadata": {
    "collapsed": true
   },
   "outputs": [],
   "source": [
    "var coolcat = function(spec){\n",
    "    var that = cat(spec),\n",
    "        super_get_name = that.superior('get_name');\n",
    "    that.get_name = function(n){\n",
    "        return 'like' + super_get_name() + ' baby';\n",
    "    };\n",
    "    return that;\n",
    "};"
   ]
  },
  {
   "cell_type": "code",
   "execution_count": 84,
   "metadata": {},
   "outputs": [
    {
     "ename": "Javascript Error",
     "evalue": "Cannot read property 'superior' of undefined",
     "output_type": "error",
     "traceback": [
      "TypeError: Cannot read property 'superior' of undefined\n    at coolcat (evalmachine.<anonymous>:3:30)\n    at evalmachine.<anonymous>:1:17\n    at ContextifyScript.Script.runInContext (vm.js:32:29)\n    at Object.runInContext (vm.js:87:6)\n    at Context.rawRun (/home/ceclinux/jupyter-nodejs/build/context.js:184:30)\n    at Domain.<anonymous> (/home/ceclinux/jupyter-nodejs/build/context.js:204:27)\n    at Domain.run (domain.js:221:14)\n    at Context.rawEvaluate (/home/ceclinux/jupyter-nodejs/build/context.js:202:9)\n    at Context.execute (/home/ceclinux/jupyter-nodejs/build/context.js:354:21)\n    at Kernel.executeRequest (/home/ceclinux/jupyter-nodejs/build/kernel.js:224:16)"
     ]
    }
   ],
   "source": [
    "var myCoolCat = coolcat({name: 'Bix'});\n",
    "var name = myCoolCat.get_name();"
   ]
  },
  {
   "cell_type": "markdown",
   "metadata": {},
   "source": [
    "# Array"
   ]
  },
  {
   "cell_type": "code",
   "execution_count": 85,
   "metadata": {},
   "outputs": [
    {
     "data": {
      "text/plain": [
       "[Array] [\"zero\",\"one\",\"two\",\"three\",\"four\",\"five\",\"six\",\"seven\",\"eight\",\"nine\"]"
      ]
     },
     "execution_count": 85,
     "metadata": {},
     "output_type": "execute_result"
    }
   ],
   "source": [
    "numbers = ['zero', 'one', 'two', 'three', 'four', 'five', 'six', 'seven', 'eight', 'nine'];"
   ]
  },
  {
   "cell_type": "code",
   "execution_count": 87,
   "metadata": {
    "collapsed": true
   },
   "outputs": [],
   "source": [
    "var numbers_object = {'0': 'zero', '1': 'one', '2': 'two', '3': 'three', '4': 'four', '5': 'five', '6': 'six', '7': 'seven',\n",
    "                     '8': 'eight', '9': 'nine'};"
   ]
  },
  {
   "cell_type": "markdown",
   "metadata": {},
   "source": [
    "these two produces similar result. Both `numbers` and `number_object` are objects containg 10 properties, and those properties  have exactly the same names and values."
   ]
  },
  {
   "cell_type": "markdown",
   "metadata": {},
   "source": [
    "But there are also significant diffierences. `numbers` inherits from `Array.prototype`, whereas `number_object` inherits from `Object.protptye`, so `numbers` inherits a larget set of useful methods. Also, `numbers` get mysterious `length` property, while `number_object` does not."
   ]
  },
  {
   "cell_type": "markdown",
   "metadata": {},
   "source": [
    "Every array has a length property. Unlike most other languages, Javascript's  array `length` is not an upper bound. If you store an element with a subscript that is greater than or equal to the current length, the length will increase to contain the new element. There is not array bounds error."
   ]
  },
  {
   "cell_type": "markdown",
   "metadata": {},
   "source": [
    "The length property is the largest integer property name in the array plus one. This is not necessarily the number of properties in the array."
   ]
  },
  {
   "cell_type": "code",
   "execution_count": 90,
   "metadata": {},
   "outputs": [
    {
     "name": "stdout",
     "output_type": "stream",
     "text": [
      "0\n"
     ]
    },
    {
     "data": {
      "text/plain": [
       "100001"
      ]
     },
     "execution_count": 90,
     "metadata": {},
     "output_type": "execute_result"
    }
   ],
   "source": [
    "var myArray = [];\n",
    "console.log(myArray.length);\n",
    "\n",
    "myArray[100000] = true;\n",
    "myArray.length"
   ]
  },
  {
   "cell_type": "code",
   "execution_count": 92,
   "metadata": {
    "collapsed": true
   },
   "outputs": [],
   "source": [
    "var is_array = function(value){\n",
    "    return value && \n",
    "        typeof value == 'object' &&\n",
    "        typeof value.length === 'number' &&\n",
    "        typeof value.splice === 'function' &&\n",
    "        !(value.propertyIsEmumerable('length'))\n",
    "}"
   ]
  },
  {
   "cell_type": "markdown",
   "metadata": {},
   "source": [
    "\n",
    "The symbol \"Array\" is something that's local to each window. Checking to see if an object constructed in a different window has a particular native constructor therefore doesn't work.\n",
    "\n",
    "That is: in window #1, there's an \"Array\" constructor function. There's also one in window #2. They're the same, of course, but they're different because they're distinct objects. When the comparison is made, it's made the way any object comparison is made: either the two values are references to exactly the same object, or they're not.\n",
    "\n",
    "It's kind-of odd that JavaScript works this way, but it's the nature of the language.\n"
   ]
  },
  {
   "cell_type": "markdown",
   "metadata": {},
   "source": [
    "push can be implemented like this:"
   ]
  },
  {
   "cell_type": "code",
   "execution_count": 95,
   "metadata": {},
   "outputs": [
    {
     "ename": "Javascript Error",
     "evalue": "missing ) after argument list",
     "output_type": "error",
     "traceback": [
      "evalmachine.<anonymous>:3\n        this, [this.length, 0].concat(Array.prototype.slice.apply(arguments));\n                                                                            ^\nSyntaxError: missing ) after argument list\n    at createScript (vm.js:53:10)\n    at Object.runInContext (vm.js:86:10)\n    at Context.rawRun (/home/ceclinux/jupyter-nodejs/build/context.js:184:30)\n    at Domain.<anonymous> (/home/ceclinux/jupyter-nodejs/build/context.js:204:27)\n    at Domain.run (domain.js:221:14)\n    at Context.rawEvaluate (/home/ceclinux/jupyter-nodejs/build/context.js:202:9)\n    at Context.execute (/home/ceclinux/jupyter-nodejs/build/context.js:354:21)\n    at Kernel.executeRequest (/home/ceclinux/jupyter-nodejs/build/kernel.js:224:16)\n    at Kernel.onShell (/home/ceclinux/jupyter-nodejs/build/kernel.js:126:14)\n    at emitMany (events.js:127:13)"
     ]
    }
   ],
   "source": [
    "Array.method('push', function(){\n",
    "    this.splice.apply(\n",
    "        this, [this.length, 0].concat(Array.prototype.slice.apply(arguments));\n",
    "    )\n",
    "    return this.length;\n",
    "})"
   ]
  },
  {
   "cell_type": "code",
   "execution_count": 99,
   "metadata": {},
   "outputs": [
    {
     "name": "stdout",
     "output_type": "stream",
     "text": [
      "[Array] [12,4,8]\n"
     ]
    }
   ],
   "source": [
    "var a = [12,8,4].sort()\n",
    "console.log(a)"
   ]
  },
  {
   "cell_type": "code",
   "execution_count": 100,
   "metadata": {},
   "outputs": [
    {
     "data": {
      "text/plain": [
       "[Array] [4,8,12]"
      ]
     },
     "execution_count": 100,
     "metadata": {},
     "output_type": "execute_result"
    }
   ],
   "source": [
    "a.sort(function(a, b){\n",
    "    return a - b;\n",
    "})"
   ]
  },
  {
   "cell_type": "markdown",
   "metadata": {},
   "source": [
    "To make things easier for the general case, we will write a function tha twill make comparison functions:"
   ]
  },
  {
   "cell_type": "code",
   "execution_count": 108,
   "metadata": {},
   "outputs": [],
   "source": [
    "var by = function(name){\n",
    "    return function(o, p){\n",
    "        var a, b;\n",
    "        if(typeof o === 'object' && typeof p === 'object' && o && p){\n",
    "            a = o[name];\n",
    "            b = p[name];\n",
    "            if(a === b){\n",
    "                return 0;\n",
    "            }\n",
    "            if(typeof a === typeof b){\n",
    "                return a < b ? -1 : 1;\n",
    "            }\n",
    "            return typeof a < typeof b? -1: 1;\n",
    "        }else{\n",
    "            throw {\n",
    "                name : 'Error',\n",
    "                message: ' Expected an object when sorting by ' + name\n",
    "            }\n",
    "        }\n",
    "    }\n",
    "}"
   ]
  },
  {
   "cell_type": "code",
   "execution_count": 109,
   "metadata": {},
   "outputs": [
    {
     "data": {
      "text/plain": [
       "[Array] [{\"first\":\"Curly\",\"last\":\"Howard\"},{\"first\":\"Joe\",\"last\":\"Besser\"},{\"first\":\"Joe\",\"last\":\"DeRita\"},{\"first\":\"Larry\",\"last\":\"Fine\"},{\"first\":\"Moe\",\"last\":\"Howard\"},{\"first\":\"Shemp\",\"last\":\"Howard\"}]"
      ]
     },
     "execution_count": 109,
     "metadata": {},
     "output_type": "execute_result"
    }
   ],
   "source": [
    "var s = [\n",
    "{first: 'Joe', last: 'Besser'},\n",
    "{first: 'Moe', last: 'Howard'},\n",
    "{first: 'Joe', last: 'DeRita'},\n",
    "{first: 'Shemp', last: 'Howard'},\n",
    "{first: 'Larry', last: 'Fine'},\n",
    "{first: 'Curly', last: 'Howard'}\n",
    "];\n",
    "s.sort(by('first'));"
   ]
  }
 ],
 "metadata": {
  "kernelspec": {
   "display_name": "NodeJS",
   "language": "javascript",
   "name": "nodejs"
  },
  "language_info": {
   "codemirror_mode": "javascript",
   "file_extension": ".js",
   "mimetype": "text/javascript",
   "name": "nodejs",
   "pygments_lexer": "javascript",
   "version": "0.10"
  }
 },
 "nbformat": 4,
 "nbformat_minor": 2
}
