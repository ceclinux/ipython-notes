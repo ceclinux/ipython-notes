{
 "cells": [
  {
   "cell_type": "code",
   "execution_count": 379,
   "metadata": {
    "collapsed": true
   },
   "outputs": [],
   "source": [
    "# A=[4,3,2,1]\n",
    "num = 0"
   ]
  },
  {
   "cell_type": "code",
   "execution_count": 380,
   "metadata": {
    "collapsed": true
   },
   "outputs": [],
   "source": [
    "import time"
   ]
  },
  {
   "cell_type": "code",
   "execution_count": 394,
   "metadata": {
    "collapsed": false
   },
   "outputs": [],
   "source": [
    "def merge(A, p, q ,r):\n",
    "    \"\"\"\n",
    "    Let A[1 .. n] be an array of n distinct numbers. If i < j and A[i] > A[j], then the pair (i, j) is\n",
    "    called an inversion of A.\n",
    "    Calculate the number of inversions in Θ(n) time\n",
    "    in CLRS 2-4\n",
    "    \"\"\"\n",
    "    global num\n",
    "    n1 = q - p + 1\n",
    "    n2 = r - q\n",
    "    L = A[p:p+n1-1] + [float(\"inf\")]\n",
    "    R = A[q:q+n2] + [float(\"inf\")]\n",
    "    i = j = 0\n",
    "    FLAG = False\n",
    "    for k in range(p,r):\n",
    "        if L[i] <= R[j]:\n",
    "            A[k] = L[i]\n",
    "            i += 1\n",
    "        else:\n",
    "            A[k] = R[j]\n",
    "            j += 1\n",
    "            FLAG = True\n",
    "        if FLAG is True and R[j-1] < L[i]:\n",
    "            num = n1 - i + num - 1\n",
    "            FLAG = False"
   ]
  },
  {
   "cell_type": "code",
   "execution_count": 382,
   "metadata": {
    "collapsed": true
   },
   "outputs": [],
   "source": [
    "def merge_inversion(A,p,r):\n",
    "    if p<r:\n",
    "        q = (p+r)//2\n",
    "        merge_inversion(A,p,q)\n",
    "        if q!=p:\n",
    "            merge_inversion(A,q,r)\n",
    "        merge(A,p,q,r)"
   ]
  },
  {
   "cell_type": "code",
   "execution_count": 383,
   "metadata": {
    "collapsed": false
   },
   "outputs": [],
   "source": [
    "def measure_merge_sort(num_var):\n",
    "    global num\n",
    "    start = time.time()\n",
    "    A = [ i for i in range(num_var,0,-1)]\n",
    "#     print(A)\n",
    "    num = 0\n",
    "    merge_inversion(A,0,num_var)\n",
    "    end = time.time()\n",
    "    print(num)\n",
    "#     print(A)\n",
    "    elapsed = end - start\n",
    "    print(elapsed)"
   ]
  },
  {
   "cell_type": "code",
   "execution_count": 384,
   "metadata": {
    "collapsed": false
   },
   "outputs": [
    {
     "name": "stdout",
     "output_type": "stream",
     "text": [
      "4999950000\n",
      "1.8292782306671143\n",
      "19999900000\n",
      "3.874403953552246\n",
      "79999800000\n",
      "7.860819578170776\n",
      "319999600000\n",
      "17.462807655334473\n"
     ]
    }
   ],
   "source": [
    "measure_merge_sort(100000)\n",
    "measure_merge_sort(200000)\n",
    "measure_merge_sort(400000)\n",
    "measure_merge_sort(800000)"
   ]
  },
  {
   "cell_type": "code",
   "execution_count": 385,
   "metadata": {
    "collapsed": false
   },
   "outputs": [
    {
     "name": "stdout",
     "output_type": "stream",
     "text": [
      "[2, 3]\n"
     ]
    }
   ],
   "source": [
    "a=[1,2,3]\n",
    "print(a[1:2]+[3])"
   ]
  },
  {
   "cell_type": "code",
   "execution_count": 386,
   "metadata": {
    "collapsed": false
   },
   "outputs": [
    {
     "name": "stdout",
     "output_type": "stream",
     "text": [
      "2\n",
      "3\n",
      "4\n",
      "5\n",
      "6\n"
     ]
    }
   ],
   "source": [
    "for i in range(2,7):\n",
    "    print(i)"
   ]
  }
 ],
 "metadata": {
  "kernelspec": {
   "display_name": "Python 3",
   "language": "python",
   "name": "python3"
  },
  "language_info": {
   "codemirror_mode": {
    "name": "ipython",
    "version": 3
   },
   "file_extension": ".py",
   "mimetype": "text/x-python",
   "name": "python",
   "nbconvert_exporter": "python",
   "pygments_lexer": "ipython3",
   "version": "3.4.3"
  }
 },
 "nbformat": 4,
 "nbformat_minor": 0
}
