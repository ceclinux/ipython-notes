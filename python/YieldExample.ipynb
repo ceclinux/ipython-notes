{
 "cells": [
  {
   "cell_type": "code",
   "execution_count": 48,
   "metadata": {
    "collapsed": false
   },
   "outputs": [],
   "source": [
    "def fab(max):\n",
    "    n,a,b = 0,0,1\n",
    "    while n < max:\n",
    "        print(b)\n",
    "        a,b = b, a + b\n",
    "        n = n + 1"
   ]
  },
  {
   "cell_type": "code",
   "execution_count": 49,
   "metadata": {
    "collapsed": false
   },
   "outputs": [
    {
     "name": "stdout",
     "output_type": "stream",
     "text": [
      "1\n",
      "1\n",
      "2\n",
      "3\n",
      "5\n"
     ]
    }
   ],
   "source": [
    "fab(5)"
   ]
  },
  {
   "cell_type": "markdown",
   "metadata": {},
   "source": [
    "结果没有问题，但有经验的开发者会指出，直接在 fab 函数中用 print 打印数字会导致该函数可复用性较差，因为 fab 函数返回 None，其他函数无法获得该函数生成的数列。\n",
    "\n",
    "要提高 fab 函数的可复用性，最好不要直接打印出数列，而是返回一个 List。以下是 fab 函数改写后的第二个版本："
   ]
  },
  {
   "cell_type": "code",
   "execution_count": 50,
   "metadata": {
    "collapsed": true
   },
   "outputs": [],
   "source": [
    "def fab(max):\n",
    "    n, a, b = 0, 0, 1\n",
    "    L = []\n",
    "    while n < max:\n",
    "        L.append(b)\n",
    "        a, b = b, a + b\n",
    "        n = n + 1\n",
    "    return L"
   ]
  },
  {
   "cell_type": "code",
   "execution_count": 51,
   "metadata": {
    "collapsed": false
   },
   "outputs": [
    {
     "name": "stdout",
     "output_type": "stream",
     "text": [
      "1\n",
      "1\n",
      "2\n",
      "3\n",
      "5\n"
     ]
    }
   ],
   "source": [
    "for n in fab(5):\n",
    "    print(n)"
   ]
  },
  {
   "cell_type": "markdown",
   "metadata": {},
   "source": [
    "改写后的 fab 函数通过返回 List 能满足复用性的要求，但是更有经验的开发者会指出，该函数在运行中占用的内存会随着参数 max 的增大而增大，如果要控制内存占用，最好不要用 List\n",
    "\n",
    "来保存中间结果，而是通过 iterable 对象来迭代。例如，在 Python3.x 中，代码："
   ]
  },
  {
   "cell_type": "code",
   "execution_count": 52,
   "metadata": {
    "collapsed": false
   },
   "outputs": [],
   "source": [
    " class Fab(object): \n",
    "\n",
    "    def __init__(self, max): \n",
    "        self.max = max \n",
    "        self.n, self.a, self.b = 0, 0, 1 \n",
    "\n",
    "    def __iter__(self): \n",
    "        return self \n",
    "\n",
    "    def __next__(self): \n",
    "        if self.n < self.max: \n",
    "            r = self.b \n",
    "            self.a, self.b = self.b, self.a + self.b \n",
    "            self.n = self.n + 1 \n",
    "            return r \n",
    "        raise StopIteration()"
   ]
  },
  {
   "cell_type": "code",
   "execution_count": 53,
   "metadata": {
    "collapsed": false
   },
   "outputs": [
    {
     "name": "stdout",
     "output_type": "stream",
     "text": [
      "1\n",
      "1\n",
      "2\n",
      "3\n",
      "5\n"
     ]
    }
   ],
   "source": [
    "for n in Fab(5):\n",
    "    print(n)"
   ]
  },
  {
   "cell_type": "markdown",
   "metadata": {},
   "source": [
    "**使用yield**"
   ]
  },
  {
   "cell_type": "code",
   "execution_count": 54,
   "metadata": {
    "collapsed": false
   },
   "outputs": [],
   "source": [
    "def fab(max):\n",
    "    n, a, b = 0, 0, 1\n",
    "    while n < max:\n",
    "        yield b\n",
    "        a, b = b, a + b\n",
    "        n = n + 1"
   ]
  },
  {
   "cell_type": "markdown",
   "metadata": {},
   "source": [
    "**第四个版本的fab和第一版相比，仅仅把print b改为了yield b，就在保持简洁性的同时获得了iterable的效果**"
   ]
  },
  {
   "cell_type": "code",
   "execution_count": 55,
   "metadata": {
    "collapsed": false
   },
   "outputs": [
    {
     "name": "stdout",
     "output_type": "stream",
     "text": [
      "1\n",
      "1\n",
      "2\n",
      "3\n",
      "5\n"
     ]
    }
   ],
   "source": [
    "for n in fab(5):\n",
    "    print(n)"
   ]
  },
  {
   "cell_type": "markdown",
   "metadata": {},
   "source": [
    "简单的讲，yield的作用就是把一个函数变成一个generator，带有yield的函数不再是一个普通函数，Python解释器会将其视为一个generator，调用fab(5)不会执行fab函数，而是返回一个generator，调用fab(5)不会执行fab函数，而是返回一个iterable对象！在for循环执行的时，每次循环都会执行fab函数内部的代码，执行到yield b时，fab函数就返回一个迭代值，下次迭代时，代码从yield b的下一条语句继续执行，而函数的本地变量看起来和上次中断执行前是完全一样的，于是函数继续执行，直到再次遇到yield。"
   ]
  },
  {
   "cell_type": "code",
   "execution_count": 56,
   "metadata": {
    "collapsed": false
   },
   "outputs": [
    {
     "name": "stdout",
     "output_type": "stream",
     "text": [
      "1\n",
      "1\n",
      "2\n",
      "3\n",
      "5\n"
     ]
    },
    {
     "ename": "StopIteration",
     "evalue": "",
     "output_type": "error",
     "traceback": [
      "\u001b[1;31m---------------------------------------------------------------------------\u001b[0m",
      "\u001b[1;31mStopIteration\u001b[0m                             Traceback (most recent call last)",
      "\u001b[1;32m<ipython-input-56-8f0eedf9b966>\u001b[0m in \u001b[0;36m<module>\u001b[1;34m()\u001b[0m\n\u001b[0;32m      5\u001b[0m \u001b[0mprint\u001b[0m\u001b[1;33m(\u001b[0m\u001b[0mf\u001b[0m\u001b[1;33m.\u001b[0m\u001b[0m__next__\u001b[0m\u001b[1;33m(\u001b[0m\u001b[1;33m)\u001b[0m\u001b[1;33m)\u001b[0m\u001b[1;33m\u001b[0m\u001b[0m\n\u001b[0;32m      6\u001b[0m \u001b[0mprint\u001b[0m\u001b[1;33m(\u001b[0m\u001b[0mf\u001b[0m\u001b[1;33m.\u001b[0m\u001b[0m__next__\u001b[0m\u001b[1;33m(\u001b[0m\u001b[1;33m)\u001b[0m\u001b[1;33m)\u001b[0m\u001b[1;33m\u001b[0m\u001b[0m\n\u001b[1;32m----> 7\u001b[1;33m \u001b[0mprint\u001b[0m\u001b[1;33m(\u001b[0m\u001b[0mf\u001b[0m\u001b[1;33m.\u001b[0m\u001b[0m__next__\u001b[0m\u001b[1;33m(\u001b[0m\u001b[1;33m)\u001b[0m\u001b[1;33m)\u001b[0m\u001b[1;33m\u001b[0m\u001b[0m\n\u001b[0m",
      "\u001b[1;31mStopIteration\u001b[0m: "
     ]
    }
   ],
   "source": [
    "f = fab(5)\n",
    "print(f.__next__())\n",
    "print(f.__next__())\n",
    "print(f.__next__())\n",
    "print(f.__next__())\n",
    "print(f.__next__())\n",
    "print(f.__next__())"
   ]
  },
  {
   "cell_type": "markdown",
   "metadata": {},
   "source": [
    "在函数执行结束时，generator自动抛出StopIteration异常，表示迭代完成。在for循环里，无需处理StopIteration异常，循环会自动结束。"
   ]
  },
  {
   "cell_type": "markdown",
   "metadata": {},
   "source": [
    "一个带有 yield 的函数就是一个 generator，它和普通函数不同，生成一个 generator 看起来像函数调用，但不会执行任何函数代码，直到对其调用 next()（在 for 循环中会自动调用 next()）才开始执行。虽然执行流程仍按函数的流程执行，但每执行到一个 yield 语句就会中断，并返回一个迭代值，下次执行时从 yield 的下一个语句继续执行。看起来就好像一个函数在正常执行的过程中被 yield 中断了数次，每次中断都会通过 yield 返回当前的迭代值。"
   ]
  },
  {
   "cell_type": "markdown",
   "metadata": {},
   "source": [
    "yield 的好处是显而易见的，把一个函数改写为一个 generator 就获得了迭代能力，比起用类的实例保存状态来计算下一个 next() 的值，不仅代码简洁，而且执行流程异常清晰。\n",
    "\n",
    "如何判断一个函数是否是一个特殊的 generator 函数？可以利用 isgeneratorfunction 判断：\n",
    "\n"
   ]
  },
  {
   "cell_type": "code",
   "execution_count": null,
   "metadata": {
    "collapsed": false
   },
   "outputs": [],
   "source": [
    "from inspect import isgeneratorfunction\n",
    "isgeneratorfunction(fab)"
   ]
  },
  {
   "cell_type": "markdown",
   "metadata": {},
   "source": [
    "要注意区分fab和fab(5)，fab是generator function，而fab(5)是调用fab返回的一个generator，好比类的定义和类的实粒的区别："
   ]
  },
  {
   "cell_type": "code",
   "execution_count": null,
   "metadata": {
    "collapsed": false
   },
   "outputs": [],
   "source": [
    "import types\n",
    "print(isinstance(fab,types.GeneratorType))\n",
    "print(isinstance(fab(5),types.GeneratorType))"
   ]
  },
  {
   "cell_type": "markdown",
   "metadata": {},
   "source": [
    "每次调用fab函数都会生成一个新的generator实例，各实例互不影响:"
   ]
  },
  {
   "cell_type": "code",
   "execution_count": 60,
   "metadata": {
    "collapsed": false
   },
   "outputs": [
    {
     "name": "stdout",
     "output_type": "stream",
     "text": [
      "f1: 1\n",
      "f2: 1\n",
      "f1: 1\n",
      "f2: 1\n",
      "f1: 2\n",
      "f2: 2\n",
      "f1: 3\n",
      "f2: 3\n",
      "f1: 5\n",
      "f2: 5\n"
     ]
    }
   ],
   "source": [
    "f1 = fab(7)\n",
    "f2 = fab(5)\n",
    "print('f1:',f1.__next__())\n",
    "print('f2:',f2.__next__())\n",
    "print('f1:',f1.__next__())\n",
    "print('f2:',f2.__next__())\n",
    "print('f1:',f1.__next__())\n",
    "print('f2:',f2.__next__())\n",
    "print('f1:',f1.__next__())\n",
    "print('f2:',f2.__next__())\n",
    "print('f1:',f1.__next__())\n",
    "print('f2:',f2.__next__())"
   ]
  },
  {
   "cell_type": "markdown",
   "metadata": {},
   "source": [
    "在一个generator function中，如果没有return，则默认执行至函数执行完毕，如果在执行过程中return，则直接抛出StopIteration终止迭代"
   ]
  },
  {
   "cell_type": "code",
   "execution_count": 62,
   "metadata": {
    "collapsed": true
   },
   "outputs": [],
   "source": [
    "def fab(max):\n",
    "    n, a, b = 0, 0, 1\n",
    "    while n < max:\n",
    "        yield b\n",
    "        a, b = b, a + b\n",
    "        n = n + 1\n",
    "        return b"
   ]
  },
  {
   "cell_type": "code",
   "execution_count": 65,
   "metadata": {
    "collapsed": false
   },
   "outputs": [
    {
     "name": "stdout",
     "output_type": "stream",
     "text": [
      "f1: 1\n"
     ]
    },
    {
     "ename": "StopIteration",
     "evalue": "1",
     "output_type": "error",
     "traceback": [
      "\u001b[1;31m---------------------------------------------------------------------------\u001b[0m",
      "\u001b[1;31mStopIteration\u001b[0m                             Traceback (most recent call last)",
      "\u001b[1;32m<ipython-input-65-9d2ddff768f4>\u001b[0m in \u001b[0;36m<module>\u001b[1;34m()\u001b[0m\n\u001b[0;32m      1\u001b[0m \u001b[0mf1\u001b[0m \u001b[1;33m=\u001b[0m \u001b[0mfab\u001b[0m\u001b[1;33m(\u001b[0m\u001b[1;36m7\u001b[0m\u001b[1;33m)\u001b[0m\u001b[1;33m\u001b[0m\u001b[0m\n\u001b[0;32m      2\u001b[0m \u001b[0mprint\u001b[0m\u001b[1;33m(\u001b[0m\u001b[1;34m'f1:'\u001b[0m\u001b[1;33m,\u001b[0m\u001b[0mf1\u001b[0m\u001b[1;33m.\u001b[0m\u001b[0m__next__\u001b[0m\u001b[1;33m(\u001b[0m\u001b[1;33m)\u001b[0m\u001b[1;33m)\u001b[0m\u001b[1;33m\u001b[0m\u001b[0m\n\u001b[1;32m----> 3\u001b[1;33m \u001b[0mprint\u001b[0m\u001b[1;33m(\u001b[0m\u001b[1;34m'f1:'\u001b[0m\u001b[1;33m,\u001b[0m\u001b[0mf1\u001b[0m\u001b[1;33m.\u001b[0m\u001b[0m__next__\u001b[0m\u001b[1;33m(\u001b[0m\u001b[1;33m)\u001b[0m\u001b[1;33m)\u001b[0m\u001b[1;33m\u001b[0m\u001b[0m\n\u001b[0m",
      "\u001b[1;31mStopIteration\u001b[0m: 1"
     ]
    }
   ],
   "source": [
    "f1 = fab(7)\n",
    "print('f1:',f1.__next__())\n",
    "print('f1:',f1.__next__())"
   ]
  },
  {
   "cell_type": "markdown",
   "metadata": {},
   "source": [
    "另一个yield的例子来源于文件读取。如果直接对文件对象调用read()方法,会导致不可预测的内存占用。好的方法是利用固定长度的缓冲区不断读取文件内容。通过yield，我们不再需要编写读文件迭代类，就可以轻松实现文件读取:"
   ]
  },
  {
   "cell_type": "code",
   "execution_count": 67,
   "metadata": {
    "collapsed": false
   },
   "outputs": [],
   "source": [
    "def read_file(fpath):\n",
    "    BLOCK_SIZE = 1024\n",
    "    with open(fpath,'rb') as f:\n",
    "        while True:\n",
    "            block = f.read(BLOCK_SIZE)\n",
    "            if block:\n",
    "                yield block\n",
    "            else:\n",
    "                return"
   ]
  },
  {
   "cell_type": "code",
   "execution_count": 73,
   "metadata": {
    "collapsed": false
   },
   "outputs": [
    {
     "name": "stdout",
     "output_type": "stream",
     "text": [
      "b'{\\n \"cells\": [\\n  {\\n   \"cell_type\": \"code\",\\n   \"execution_count\": 48,\\n   \"metadata\": {\\n    \"collapsed\": false\\n   },\\n   \"outputs\": [],\\n   \"source\": [\\n    \"def fab(max):\\\\n\",\\n    \"    n,a,b = 0,0,1\\\\n\",\\n    \"    while n < max:\\\\n\",\\n    \"        print(b)\\\\n\",\\n    \"        a,b = b, a + b\\\\n\",\\n    \"        n = n + 1\"\\n   ]\\n  },\\n  {\\n   \"cell_type\": \"code\",\\n   \"execution_count\": 49,\\n   \"metadata\": {\\n    \"collapsed\": false\\n   },\\n   \"outputs\": [\\n    {\\n     \"name\": \"stdout\",\\n     \"output_type\": \"stream\",\\n     \"text\": [\\n      \"1\\\\n\",\\n      \"1\\\\n\",\\n      \"2\\\\n\",\\n      \"3\\\\n\",\\n      \"5\\\\n\"\\n     ]\\n    }\\n   ],\\n   \"source\": [\\n    \"fab(5)\"\\n   ]\\n  },\\n  {\\n   \"cell_type\": \"markdown\",\\n   \"metadata\": {},\\n   \"source\": [\\n    \"\\xe7\\xbb\\x93\\xe6\\x9e\\x9c\\xe6\\xb2\\xa1\\xe6\\x9c\\x89\\xe9\\x97\\xae\\xe9\\xa2\\x98\\xef\\xbc\\x8c\\xe4\\xbd\\x86\\xe6\\x9c\\x89\\xe7\\xbb\\x8f\\xe9\\xaa\\x8c\\xe7\\x9a\\x84\\xe5\\xbc\\x80\\xe5\\x8f\\x91\\xe8\\x80\\x85\\xe4\\xbc\\x9a\\xe6\\x8c\\x87\\xe5\\x87\\xba\\xef\\xbc\\x8c\\xe7\\x9b\\xb4\\xe6\\x8e\\xa5\\xe5\\x9c\\xa8 fab \\xe5\\x87\\xbd\\xe6\\x95\\xb0\\xe4\\xb8\\xad\\xe7\\x94\\xa8 print \\xe6\\x89\\x93\\xe5\\x8d\\xb0\\xe6\\x95\\xb0\\xe5\\xad\\x97\\xe4\\xbc\\x9a\\xe5\\xaf\\xbc\\xe8\\x87\\xb4\\xe8\\xaf\\xa5\\xe5\\x87\\xbd\\xe6\\x95\\xb0\\xe5\\x8f\\xaf\\xe5\\xa4\\x8d\\xe7\\x94\\xa8\\xe6\\x80\\xa7\\xe8\\xbe\\x83\\xe5\\xb7\\xae\\xef\\xbc\\x8c\\xe5\\x9b\\xa0\\xe4\\xb8\\xba fab \\xe5\\x87\\xbd\\xe6\\x95\\xb0\\xe8\\xbf\\x94\\xe5\\x9b\\x9e None\\xef\\xbc\\x8c\\xe5\\x85\\xb6\\xe4\\xbb\\x96\\xe5\\x87\\xbd\\xe6\\x95\\xb0\\xe6\\x97\\xa0\\xe6\\xb3\\x95\\xe8\\x8e\\xb7\\xe5\\xbe\\x97\\xe8\\xaf\\xa5\\xe5\\x87\\xbd\\xe6\\x95\\xb0\\xe7\\x94\\x9f\\xe6\\x88\\x90\\xe7\\x9a\\x84\\xe6\\x95\\xb0\\xe5\\x88\\x97\\xe3\\x80\\x82\\\\n\",\\n    \"\\\\n\",\\n    \"\\xe8\\xa6\\x81\\xe6\\x8f\\x90\\xe9\\xab\\x98 fab \\xe5\\x87\\xbd\\xe6\\x95\\xb0\\xe7\\x9a\\x84\\xe5\\x8f\\xaf\\xe5\\xa4\\x8d\\xe7\\x94\\xa8\\xe6\\x80\\xa7\\xef\\xbc\\x8c\\xe6\\x9c\\x80\\xe5\\xa5\\xbd\\xe4\\xb8\\x8d\\xe8\\xa6\\x81\\xe7\\x9b\\xb4\\xe6\\x8e\\xa5\\xe6\\x89\\x93\\xe5\\x8d\\xb0\\xe5\\x87\\xba\\xe6\\x95\\xb0\\xe5\\x88\\x97\\xef\\xbc\\x8c\\xe8\\x80\\x8c\\xe6\\x98\\xaf\\xe8\\xbf'\n",
      "b'\\x94\\xe5\\x9b\\x9e\\xe4\\xb8\\x80\\xe4\\xb8\\xaa List\\xe3\\x80\\x82\\xe4\\xbb\\xa5\\xe4\\xb8\\x8b\\xe6\\x98\\xaf fab \\xe5\\x87\\xbd\\xe6\\x95\\xb0\\xe6\\x94\\xb9\\xe5\\x86\\x99\\xe5\\x90\\x8e\\xe7\\x9a\\x84\\xe7\\xac\\xac\\xe4\\xba\\x8c\\xe4\\xb8\\xaa\\xe7\\x89\\x88\\xe6\\x9c\\xac\\xef\\xbc\\x9a\"\\n   ]\\n  },\\n  {\\n   \"cell_type\": \"code\",\\n   \"execution_count\": 50,\\n   \"metadata\": {\\n    \"collapsed\": true\\n   },\\n   \"outputs\": [],\\n   \"source\": [\\n    \"def fab(max):\\\\n\",\\n    \"    n, a, b = 0, 0, 1\\\\n\",\\n    \"    L = []\\\\n\",\\n    \"    while n < max:\\\\n\",\\n    \"        L.append(b)\\\\n\",\\n    \"        a, b = b, a + b\\\\n\",\\n    \"        n = n + 1\\\\n\",\\n    \"    return L\"\\n   ]\\n  },\\n  {\\n   \"cell_type\": \"code\",\\n   \"execution_count\": 51,\\n   \"metadata\": {\\n    \"collapsed\": false\\n   },\\n   \"outputs\": [\\n    {\\n     \"name\": \"stdout\",\\n     \"output_type\": \"stream\",\\n     \"text\": [\\n      \"1\\\\n\",\\n      \"1\\\\n\",\\n      \"2\\\\n\",\\n      \"3\\\\n\",\\n      \"5\\\\n\"\\n     ]\\n    }\\n   ],\\n   \"source\": [\\n    \"for n in fab(5):\\\\n\",\\n    \"    print(n)\"\\n   ]\\n  },\\n  {\\n   \"cell_type\": \"markdown\",\\n   \"metadata\": {},\\n   \"source\": [\\n    \"\\xe6\\x94\\xb9\\xe5\\x86\\x99\\xe5\\x90\\x8e\\xe7\\x9a\\x84 fab \\xe5\\x87\\xbd\\xe6\\x95\\xb0\\xe9\\x80\\x9a\\xe8\\xbf\\x87\\xe8\\xbf\\x94\\xe5\\x9b\\x9e List \\xe8\\x83\\xbd\\xe6\\xbb\\xa1\\xe8\\xb6\\xb3\\xe5\\xa4\\x8d\\xe7\\x94\\xa8\\xe6\\x80\\xa7\\xe7\\x9a\\x84\\xe8\\xa6\\x81\\xe6\\xb1\\x82\\xef\\xbc\\x8c\\xe4\\xbd\\x86\\xe6\\x98\\xaf\\xe6\\x9b\\xb4\\xe6\\x9c\\x89\\xe7\\xbb\\x8f\\xe9\\xaa\\x8c\\xe7\\x9a\\x84\\xe5\\xbc\\x80\\xe5\\x8f\\x91\\xe8\\x80\\x85\\xe4\\xbc\\x9a\\xe6\\x8c\\x87\\xe5\\x87\\xba\\xef\\xbc\\x8c\\xe8\\xaf\\xa5\\xe5\\x87\\xbd\\xe6\\x95\\xb0\\xe5\\x9c\\xa8\\xe8\\xbf\\x90\\xe8\\xa1\\x8c\\xe4\\xb8\\xad\\xe5\\x8d\\xa0\\xe7\\x94\\xa8\\xe7\\x9a\\x84\\xe5\\x86\\x85\\xe5\\xad\\x98\\xe4\\xbc\\x9a\\xe9\\x9a\\x8f\\xe7\\x9d\\x80\\xe5\\x8f\\x82\\xe6\\x95\\xb0 max \\xe7\\x9a\\x84\\xe5\\xa2\\x9e\\xe5\\xa4\\xa7'\n",
      "b'\\xe8\\x80\\x8c\\xe5\\xa2\\x9e\\xe5\\xa4\\xa7\\xef\\xbc\\x8c\\xe5\\xa6\\x82\\xe6\\x9e\\x9c\\xe8\\xa6\\x81\\xe6\\x8e\\xa7\\xe5\\x88\\xb6\\xe5\\x86\\x85\\xe5\\xad\\x98\\xe5\\x8d\\xa0\\xe7\\x94\\xa8\\xef\\xbc\\x8c\\xe6\\x9c\\x80\\xe5\\xa5\\xbd\\xe4\\xb8\\x8d\\xe8\\xa6\\x81\\xe7\\x94\\xa8 List\\\\n\",\\n    \"\\\\n\",\\n    \"\\xe6\\x9d\\xa5\\xe4\\xbf\\x9d\\xe5\\xad\\x98\\xe4\\xb8\\xad\\xe9\\x97\\xb4\\xe7\\xbb\\x93\\xe6\\x9e\\x9c\\xef\\xbc\\x8c\\xe8\\x80\\x8c\\xe6\\x98\\xaf\\xe9\\x80\\x9a\\xe8\\xbf\\x87 iterable \\xe5\\xaf\\xb9\\xe8\\xb1\\xa1\\xe6\\x9d\\xa5\\xe8\\xbf\\xad\\xe4\\xbb\\xa3\\xe3\\x80\\x82\\xe4\\xbe\\x8b\\xe5\\xa6\\x82\\xef\\xbc\\x8c\\xe5\\x9c\\xa8 Python3.x \\xe4\\xb8\\xad\\xef\\xbc\\x8c\\xe4\\xbb\\xa3\\xe7\\xa0\\x81\\xef\\xbc\\x9a\"\\n   ]\\n  },\\n  {\\n   \"cell_type\": \"code\",\\n   \"execution_count\": 52,\\n   \"metadata\": {\\n    \"collapsed\": false\\n   },\\n   \"outputs\": [],\\n   \"source\": [\\n    \" class Fab(object): \\\\n\",\\n    \"\\\\n\",\\n    \"    def __init__(self, max): \\\\n\",\\n    \"        self.max = max \\\\n\",\\n    \"        self.n, self.a, self.b = 0, 0, 1 \\\\n\",\\n    \"\\\\n\",\\n    \"    def __iter__(self): \\\\n\",\\n    \"        return self \\\\n\",\\n    \"\\\\n\",\\n    \"    def __next__(self): \\\\n\",\\n    \"        if self.n < self.max: \\\\n\",\\n    \"            r = self.b \\\\n\",\\n    \"            self.a, self.b = self.b, self.a + self.b \\\\n\",\\n    \"            self.n = self.n + 1 \\\\n\",\\n    \"            return r \\\\n\",\\n    \"        raise StopIteration()\"\\n   ]\\n  },\\n  {\\n   \"cell_type\": \"code\",\\n   \"execution_count\": 53,\\n   \"metadata\": {\\n    \"collapsed\": false\\n   },\\n   \"outputs\": [\\n    {\\n     \"name\": \"stdout\",\\n     \"output_t'\n",
      "b'ype\": \"stream\",\\n     \"text\": [\\n      \"1\\\\n\",\\n      \"1\\\\n\",\\n      \"2\\\\n\",\\n      \"3\\\\n\",\\n      \"5\\\\n\"\\n     ]\\n    }\\n   ],\\n   \"source\": [\\n    \"for n in Fab(5):\\\\n\",\\n    \"    print(n)\"\\n   ]\\n  },\\n  {\\n   \"cell_type\": \"markdown\",\\n   \"metadata\": {},\\n   \"source\": [\\n    \"**\\xe4\\xbd\\xbf\\xe7\\x94\\xa8yield**\"\\n   ]\\n  },\\n  {\\n   \"cell_type\": \"code\",\\n   \"execution_count\": 54,\\n   \"metadata\": {\\n    \"collapsed\": false\\n   },\\n   \"outputs\": [],\\n   \"source\": [\\n    \"def fab(max):\\\\n\",\\n    \"    n, a, b = 0, 0, 1\\\\n\",\\n    \"    while n < max:\\\\n\",\\n    \"        yield b\\\\n\",\\n    \"        a, b = b, a + b\\\\n\",\\n    \"        n = n + 1\"\\n   ]\\n  },\\n  {\\n   \"cell_type\": \"markdown\",\\n   \"metadata\": {},\\n   \"source\": [\\n    \"**\\xe7\\xac\\xac\\xe5\\x9b\\x9b\\xe4\\xb8\\xaa\\xe7\\x89\\x88\\xe6\\x9c\\xac\\xe7\\x9a\\x84fab\\xe5\\x92\\x8c\\xe7\\xac\\xac\\xe4\\xb8\\x80\\xe7\\x89\\x88\\xe7\\x9b\\xb8\\xe6\\xaf\\x94\\xef\\xbc\\x8c\\xe4\\xbb\\x85\\xe4\\xbb\\x85\\xe6\\x8a\\x8aprint b\\xe6\\x94\\xb9\\xe4\\xb8\\xba\\xe4\\xba\\x86yield b\\xef\\xbc\\x8c\\xe5\\xb0\\xb1\\xe5\\x9c\\xa8\\xe4\\xbf\\x9d\\xe6\\x8c\\x81\\xe7\\xae\\x80\\xe6\\xb4\\x81\\xe6\\x80\\xa7\\xe7\\x9a\\x84\\xe5\\x90\\x8c\\xe6\\x97\\xb6\\xe8\\x8e\\xb7\\xe5\\xbe\\x97\\xe4\\xba\\x86iterable\\xe7\\x9a\\x84\\xe6\\x95\\x88\\xe6\\x9e\\x9c**\"\\n   ]\\n  },\\n  {\\n   \"cell_type\": \"code\",\\n   \"execution_count\": 55,\\n   \"metadata\": {\\n    \"collapsed\": false\\n   },\\n   \"outputs\": [\\n    {\\n     \"name\": \"stdout\",\\n     \"output_type\": \"stream\",\\n     \"text\": [\\n      \"1\\\\n\",\\n      \"1\\\\n\",'\n",
      "b'\\n      \"2\\\\n\",\\n      \"3\\\\n\",\\n      \"5\\\\n\"\\n     ]\\n    }\\n   ],\\n   \"source\": [\\n    \"for n in fab(5):\\\\n\",\\n    \"    print(n)\"\\n   ]\\n  },\\n  {\\n   \"cell_type\": \"markdown\",\\n   \"metadata\": {},\\n   \"source\": [\\n    \"\\xe7\\xae\\x80\\xe5\\x8d\\x95\\xe7\\x9a\\x84\\xe8\\xae\\xb2\\xef\\xbc\\x8cyield\\xe7\\x9a\\x84\\xe4\\xbd\\x9c\\xe7\\x94\\xa8\\xe5\\xb0\\xb1\\xe6\\x98\\xaf\\xe6\\x8a\\x8a\\xe4\\xb8\\x80\\xe4\\xb8\\xaa\\xe5\\x87\\xbd\\xe6\\x95\\xb0\\xe5\\x8f\\x98\\xe6\\x88\\x90\\xe4\\xb8\\x80\\xe4\\xb8\\xaagenerator\\xef\\xbc\\x8c\\xe5\\xb8\\xa6\\xe6\\x9c\\x89yield\\xe7\\x9a\\x84\\xe5\\x87\\xbd\\xe6\\x95\\xb0\\xe4\\xb8\\x8d\\xe5\\x86\\x8d\\xe6\\x98\\xaf\\xe4\\xb8\\x80\\xe4\\xb8\\xaa\\xe6\\x99\\xae\\xe9\\x80\\x9a\\xe5\\x87\\xbd\\xe6\\x95\\xb0\\xef\\xbc\\x8cPython\\xe8\\xa7\\xa3\\xe9\\x87\\x8a\\xe5\\x99\\xa8\\xe4\\xbc\\x9a\\xe5\\xb0\\x86\\xe5\\x85\\xb6\\xe8\\xa7\\x86\\xe4\\xb8\\xba\\xe4\\xb8\\x80\\xe4\\xb8\\xaagenerator\\xef\\xbc\\x8c\\xe8\\xb0\\x83\\xe7\\x94\\xa8fab(5)\\xe4\\xb8\\x8d\\xe4\\xbc\\x9a\\xe6\\x89\\xa7\\xe8\\xa1\\x8cfab\\xe5\\x87\\xbd\\xe6\\x95\\xb0\\xef\\xbc\\x8c\\xe8\\x80\\x8c\\xe6\\x98\\xaf\\xe8\\xbf\\x94\\xe5\\x9b\\x9e\\xe4\\xb8\\x80\\xe4\\xb8\\xaagenerator\\xef\\xbc\\x8c\\xe8\\xb0\\x83\\xe7\\x94\\xa8fab(5)\\xe4\\xb8\\x8d\\xe4\\xbc\\x9a\\xe6\\x89\\xa7\\xe8\\xa1\\x8cfab\\xe5\\x87\\xbd\\xe6\\x95\\xb0\\xef\\xbc\\x8c\\xe8\\x80\\x8c\\xe6\\x98\\xaf\\xe8\\xbf\\x94\\xe5\\x9b\\x9e\\xe4\\xb8\\x80\\xe4\\xb8\\xaaiterable\\xe5\\xaf\\xb9\\xe8\\xb1\\xa1\\xef\\xbc\\x81\\xe5\\x9c\\xa8for\\xe5\\xbe\\xaa\\xe7\\x8e\\xaf\\xe6\\x89\\xa7\\xe8\\xa1\\x8c\\xe7\\x9a\\x84\\xe6\\x97\\xb6\\xef\\xbc\\x8c\\xe6\\xaf\\x8f\\xe6\\xac\\xa1\\xe5\\xbe\\xaa\\xe7\\x8e\\xaf\\xe9\\x83\\xbd\\xe4\\xbc\\x9a\\xe6\\x89\\xa7\\xe8\\xa1\\x8cfab\\xe5\\x87\\xbd\\xe6\\x95\\xb0\\xe5\\x86\\x85\\xe9\\x83\\xa8\\xe7\\x9a\\x84\\xe4\\xbb\\xa3\\xe7\\xa0\\x81\\xef\\xbc\\x8c\\xe6\\x89\\xa7\\xe8\\xa1\\x8c\\xe5\\x88\\xb0yield b\\xe6\\x97\\xb6\\xef\\xbc\\x8cfab\\xe5\\x87\\xbd\\xe6\\x95\\xb0\\xe5\\xb0\\xb1\\xe8\\xbf\\x94\\xe5\\x9b\\x9e\\xe4\\xb8\\x80\\xe4\\xb8\\xaa\\xe8\\xbf\\xad\\xe4\\xbb\\xa3\\xe5\\x80\\xbc\\xef\\xbc\\x8c\\xe4\\xb8\\x8b\\xe6\\xac\\xa1\\xe8\\xbf\\xad\\xe4\\xbb\\xa3\\xe6\\x97\\xb6\\xef\\xbc\\x8c\\xe4\\xbb\\xa3\\xe7\\xa0\\x81\\xe4\\xbb\\x8eyield b\\xe7\\x9a\\x84\\xe4\\xb8\\x8b\\xe4\\xb8\\x80\\xe6\\x9d\\xa1\\xe8\\xaf\\xad\\xe5\\x8f\\xa5\\xe7\\xbb\\xa7\\xe7\\xbb\\xad\\xe6\\x89\\xa7\\xe8\\xa1\\x8c\\xef\\xbc\\x8c\\xe8\\x80\\x8c\\xe5\\x87\\xbd\\xe6\\x95\\xb0\\xe7\\x9a\\x84\\xe6\\x9c\\xac\\xe5\\x9c\\xb0\\xe5\\x8f\\x98\\xe9\\x87\\x8f\\xe7\\x9c\\x8b\\xe8\\xb5\\xb7\\xe6\\x9d\\xa5\\xe5\\x92\\x8c\\xe4\\xb8\\x8a\\xe6\\xac\\xa1\\xe4\\xb8\\xad\\xe6\\x96\\xad\\xe6\\x89\\xa7\\xe8\\xa1\\x8c\\xe5\\x89\\x8d\\xe6\\x98\\xaf\\xe5\\xae\\x8c\\xe5\\x85\\xa8\\xe4\\xb8\\x80\\xe6\\xa0\\xb7\\xe7\\x9a\\x84\\xef\\xbc\\x8c\\xe4\\xba\\x8e\\xe6\\x98\\xaf\\xe5\\x87\\xbd\\xe6\\x95\\xb0\\xe7\\xbb\\xa7\\xe7\\xbb\\xad\\xe6\\x89\\xa7\\xe8\\xa1\\x8c\\xef\\xbc\\x8c\\xe7\\x9b\\xb4\\xe5\\x88\\xb0\\xe5\\x86\\x8d\\xe6\\xac\\xa1\\xe9\\x81\\x87\\xe5\\x88\\xb0yield\\xe3\\x80\\x82\"\\n   ]\\n  },\\n  {\\n   \"cell_type\": \"code\",\\n   \"execution_count\": 56,\\n   \"metadata\": {\\n    \"collapsed\": false\\n   },\\n   \"outputs\": [\\n    {\\n     \"name\": \"stdout\",\\n     \"output_type\": \"stre'\n",
      "b'am\",\\n     \"text\": [\\n      \"1\\\\n\",\\n      \"1\\\\n\",\\n      \"2\\\\n\",\\n      \"3\\\\n\",\\n      \"5\\\\n\"\\n     ]\\n    },\\n    {\\n     \"ename\": \"StopIteration\",\\n     \"evalue\": \"\",\\n     \"output_type\": \"error\",\\n     \"traceback\": [\\n      \"\\\\u001b[1;31m---------------------------------------------------------------------------\\\\u001b[0m\",\\n      \"\\\\u001b[1;31mStopIteration\\\\u001b[0m                             Traceback (most recent call last)\",\\n      \"\\\\u001b[1;32m<ipython-input-56-8f0eedf9b966>\\\\u001b[0m in \\\\u001b[0;36m<module>\\\\u001b[1;34m()\\\\u001b[0m\\\\n\\\\u001b[0;32m      5\\\\u001b[0m \\\\u001b[0mprint\\\\u001b[0m\\\\u001b[1;33m(\\\\u001b[0m\\\\u001b[0mf\\\\u001b[0m\\\\u001b[1;33m.\\\\u001b[0m\\\\u001b[0m__next__\\\\u001b[0m\\\\u001b[1;33m(\\\\u001b[0m\\\\u001b[1;33m)\\\\u001b[0m\\\\u001b[1;33m)\\\\u001b[0m\\\\u001b[1;33m\\\\u001b[0m\\\\u001b[0m\\\\n\\\\u001b[0;32m      6\\\\u001b[0m \\\\u001b[0mprint\\\\u001b[0m\\\\u001b[1;33m(\\\\u001b[0m\\\\u001b[0mf\\\\u001b[0m\\\\u001b[1;33m.\\\\u001b[0m\\\\u001b[0m__next__\\\\u001b[0m\\\\u001b[1;33m(\\\\u001b[0m\\\\u001b[1;33m)\\\\u001b[0m\\\\u001b[1;33m)\\\\u001b[0m\\\\u001b[1;33m\\\\u001b[0m\\\\u001b[0m\\\\n\\\\u001b[1;32m----> 7\\\\u00'\n",
      "b'1b[1;33m \\\\u001b[0mprint\\\\u001b[0m\\\\u001b[1;33m(\\\\u001b[0m\\\\u001b[0mf\\\\u001b[0m\\\\u001b[1;33m.\\\\u001b[0m\\\\u001b[0m__next__\\\\u001b[0m\\\\u001b[1;33m(\\\\u001b[0m\\\\u001b[1;33m)\\\\u001b[0m\\\\u001b[1;33m)\\\\u001b[0m\\\\u001b[1;33m\\\\u001b[0m\\\\u001b[0m\\\\n\\\\u001b[0m\",\\n      \"\\\\u001b[1;31mStopIteration\\\\u001b[0m: \"\\n     ]\\n    }\\n   ],\\n   \"source\": [\\n    \"f = fab(5)\\\\n\",\\n    \"print(f.__next__())\\\\n\",\\n    \"print(f.__next__())\\\\n\",\\n    \"print(f.__next__())\\\\n\",\\n    \"print(f.__next__())\\\\n\",\\n    \"print(f.__next__())\\\\n\",\\n    \"print(f.__next__())\"\\n   ]\\n  },\\n  {\\n   \"cell_type\": \"markdown\",\\n   \"metadata\": {},\\n   \"source\": [\\n    \"\\xe5\\x9c\\xa8\\xe5\\x87\\xbd\\xe6\\x95\\xb0\\xe6\\x89\\xa7\\xe8\\xa1\\x8c\\xe7\\xbb\\x93\\xe6\\x9d\\x9f\\xe6\\x97\\xb6\\xef\\xbc\\x8cgenerator\\xe8\\x87\\xaa\\xe5\\x8a\\xa8\\xe6\\x8a\\x9b\\xe5\\x87\\xbaStopIteration\\xe5\\xbc\\x82\\xe5\\xb8\\xb8\\xef\\xbc\\x8c\\xe8\\xa1\\xa8\\xe7\\xa4\\xba\\xe8\\xbf\\xad\\xe4\\xbb\\xa3\\xe5\\xae\\x8c\\xe6\\x88\\x90\\xe3\\x80\\x82\\xe5\\x9c\\xa8for\\xe5\\xbe\\xaa\\xe7\\x8e\\xaf\\xe9\\x87\\x8c\\xef\\xbc\\x8c\\xe6\\x97\\xa0\\xe9\\x9c\\x80\\xe5\\xa4\\x84\\xe7\\x90\\x86StopIteration\\xe5\\xbc\\x82\\xe5\\xb8\\xb8\\xef\\xbc\\x8c\\xe5\\xbe\\xaa\\xe7\\x8e\\xaf\\xe4\\xbc\\x9a\\xe8\\x87\\xaa\\xe5\\x8a\\xa8\\xe7\\xbb\\x93\\xe6\\x9d\\x9f\\xe3\\x80\\x82\"\\n   ]\\n  },\\n  {\\n   \"cell_type\": \"markdown\",\\n   \"metadata\": {},\\n   \"source\": [\\n    \"\\xe4\\xb8\\x80\\xe4\\xb8\\xaa\\xe5\\xb8\\xa6\\xe6\\x9c\\x89 yield \\xe7\\x9a\\x84\\xe5\\x87\\xbd\\xe6\\x95\\xb0\\xe5\\xb0\\xb1\\xe6\\x98\\xaf\\xe4\\xb8\\x80\\xe4\\xb8\\xaa generator\\xef\\xbc\\x8c\\xe5\\xae\\x83\\xe5\\x92\\x8c\\xe6\\x99\\xae\\xe9\\x80\\x9a\\xe5\\x87\\xbd\\xe6\\x95\\xb0\\xe4\\xb8\\x8d\\xe5\\x90\\x8c\\xef\\xbc\\x8c\\xe7\\x94\\x9f\\xe6\\x88\\x90\\xe4\\xb8\\x80\\xe4\\xb8\\xaa generator \\xe7\\x9c\\x8b\\xe8\\xb5\\xb7\\xe6\\x9d\\xa5\\xe5\\x83\\x8f\\xe5\\x87\\xbd\\xe6\\x95\\xb0\\xe8\\xb0\\x83\\xe7\\x94\\xa8\\xef\\xbc\\x8c\\xe4\\xbd\\x86\\xe4\\xb8\\x8d\\xe4\\xbc\\x9a\\xe6\\x89\\xa7\\xe8\\xa1\\x8c\\xe4\\xbb\\xbb\\xe4\\xbd\\x95\\xe5\\x87\\xbd\\xe6\\x95\\xb0\\xe4\\xbb\\xa3\\xe7\\xa0\\x81\\xef\\xbc\\x8c\\xe7\\x9b\\xb4\\xe5\\x88\\xb0\\xe5\\xaf\\xb9\\xe5\\x85\\xb6\\xe8\\xb0\\x83\\xe7\\x94\\xa8 next()\\xef'\n",
      "b'\\xbc\\x88\\xe5\\x9c\\xa8 for \\xe5\\xbe\\xaa\\xe7\\x8e\\xaf\\xe4\\xb8\\xad\\xe4\\xbc\\x9a\\xe8\\x87\\xaa\\xe5\\x8a\\xa8\\xe8\\xb0\\x83\\xe7\\x94\\xa8 next()\\xef\\xbc\\x89\\xe6\\x89\\x8d\\xe5\\xbc\\x80\\xe5\\xa7\\x8b\\xe6\\x89\\xa7\\xe8\\xa1\\x8c\\xe3\\x80\\x82\\xe8\\x99\\xbd\\xe7\\x84\\xb6\\xe6\\x89\\xa7\\xe8\\xa1\\x8c\\xe6\\xb5\\x81\\xe7\\xa8\\x8b\\xe4\\xbb\\x8d\\xe6\\x8c\\x89\\xe5\\x87\\xbd\\xe6\\x95\\xb0\\xe7\\x9a\\x84\\xe6\\xb5\\x81\\xe7\\xa8\\x8b\\xe6\\x89\\xa7\\xe8\\xa1\\x8c\\xef\\xbc\\x8c\\xe4\\xbd\\x86\\xe6\\xaf\\x8f\\xe6\\x89\\xa7\\xe8\\xa1\\x8c\\xe5\\x88\\xb0\\xe4\\xb8\\x80\\xe4\\xb8\\xaa yield \\xe8\\xaf\\xad\\xe5\\x8f\\xa5\\xe5\\xb0\\xb1\\xe4\\xbc\\x9a\\xe4\\xb8\\xad\\xe6\\x96\\xad\\xef\\xbc\\x8c\\xe5\\xb9\\xb6\\xe8\\xbf\\x94\\xe5\\x9b\\x9e\\xe4\\xb8\\x80\\xe4\\xb8\\xaa\\xe8\\xbf\\xad\\xe4\\xbb\\xa3\\xe5\\x80\\xbc\\xef\\xbc\\x8c\\xe4\\xb8\\x8b\\xe6\\xac\\xa1\\xe6\\x89\\xa7\\xe8\\xa1\\x8c\\xe6\\x97\\xb6\\xe4\\xbb\\x8e yield \\xe7\\x9a\\x84\\xe4\\xb8\\x8b\\xe4\\xb8\\x80\\xe4\\xb8\\xaa\\xe8\\xaf\\xad\\xe5\\x8f\\xa5\\xe7\\xbb\\xa7\\xe7\\xbb\\xad\\xe6\\x89\\xa7\\xe8\\xa1\\x8c\\xe3\\x80\\x82\\xe7\\x9c\\x8b\\xe8\\xb5\\xb7\\xe6\\x9d\\xa5\\xe5\\xb0\\xb1\\xe5\\xa5\\xbd\\xe5\\x83\\x8f\\xe4\\xb8\\x80\\xe4\\xb8\\xaa\\xe5\\x87\\xbd\\xe6\\x95\\xb0\\xe5\\x9c\\xa8\\xe6\\xad\\xa3\\xe5\\xb8\\xb8\\xe6\\x89\\xa7\\xe8\\xa1\\x8c\\xe7\\x9a\\x84\\xe8\\xbf\\x87\\xe7\\xa8\\x8b\\xe4\\xb8\\xad\\xe8\\xa2\\xab yield \\xe4\\xb8\\xad\\xe6\\x96\\xad\\xe4\\xba\\x86\\xe6\\x95\\xb0\\xe6\\xac\\xa1\\xef\\xbc\\x8c\\xe6\\xaf\\x8f\\xe6\\xac\\xa1\\xe4\\xb8\\xad\\xe6\\x96\\xad\\xe9\\x83\\xbd\\xe4\\xbc\\x9a\\xe9\\x80\\x9a\\xe8\\xbf\\x87 yield \\xe8\\xbf\\x94\\xe5\\x9b\\x9e\\xe5\\xbd\\x93\\xe5\\x89\\x8d\\xe7\\x9a\\x84\\xe8\\xbf\\xad\\xe4\\xbb\\xa3\\xe5\\x80\\xbc\\xe3\\x80\\x82\"\\n   ]\\n  },\\n  {\\n   \"cell_type\": \"markdown\",\\n   \"metadata\": {},\\n   \"source\": [\\n    \"yield \\xe7\\x9a\\x84\\xe5\\xa5\\xbd\\xe5\\xa4\\x84\\xe6\\x98\\xaf\\xe6\\x98\\xbe\\xe8\\x80\\x8c\\xe6\\x98\\x93\\xe8\\xa7\\x81\\xe7\\x9a\\x84\\xef\\xbc\\x8c\\xe6\\x8a\\x8a\\xe4\\xb8\\x80\\xe4\\xb8\\xaa\\xe5\\x87\\xbd\\xe6\\x95\\xb0\\xe6\\x94\\xb9\\xe5\\x86\\x99\\xe4\\xb8\\xba\\xe4\\xb8\\x80\\xe4\\xb8\\xaa generator \\xe5\\xb0\\xb1\\xe8\\x8e\\xb7\\xe5\\xbe\\x97\\xe4\\xba\\x86\\xe8\\xbf\\xad\\xe4\\xbb\\xa3\\xe8\\x83\\xbd\\xe5\\x8a\\x9b\\xef\\xbc\\x8c\\xe6\\xaf\\x94\\xe8\\xb5\\xb7\\xe7\\x94\\xa8\\xe7\\xb1\\xbb\\xe7\\x9a\\x84\\xe5\\xae\\x9e\\xe4\\xbe\\x8b\\xe4\\xbf\\x9d\\xe5\\xad\\x98\\xe7\\x8a\\xb6\\xe6\\x80\\x81\\xe6\\x9d\\xa5\\xe8\\xae\\xa1\\xe7\\xae\\x97\\xe4\\xb8\\x8b\\xe4\\xb8\\x80\\xe4\\xb8\\xaa next() \\xe7\\x9a\\x84\\xe5\\x80\\xbc\\xef\\xbc\\x8c\\xe4\\xb8\\x8d\\xe4\\xbb\\x85\\xe4\\xbb\\xa3\\xe7\\xa0\\x81\\xe7\\xae\\x80\\xe6\\xb4\\x81\\xef\\xbc\\x8c\\xe8\\x80\\x8c\\xe4\\xb8\\x94\\xe6\\x89\\xa7\\xe8\\xa1\\x8c\\xe6\\xb5\\x81\\xe7\\xa8\\x8b\\xe5\\xbc\\x82\\xe5\\xb8\\xb8\\xe6\\xb8\\x85\\xe6\\x99\\xb0\\xe3\\x80\\x82\\\\n\",\\n    \"\\\\n\",\\n    \"\\xe5\\xa6\\x82\\xe4\\xbd\\x95\\xe5\\x88\\xa4\\xe6\\x96\\xad\\xe4\\xb8\\x80\\xe4\\xb8\\xaa\\xe5\\x87\\xbd\\xe6\\x95\\xb0\\xe6\\x98\\xaf\\xe5\\x90\\xa6\\xe6\\x98\\xaf\\xe4\\xb8\\x80\\xe4\\xb8\\xaa\\xe7\\x89\\xb9\\xe6\\xae\\x8a\\xe7\\x9a\\x84 generator \\xe5\\x87\\xbd\\xe6\\x95\\xb0\\xef\\xbc\\x9f\\xe5\\x8f\\xaf\\xe4\\xbb\\xa5\\xe5\\x88\\xa9\\xe7\\x94\\xa8 isgeneratorfunction \\xe5\\x88\\xa4\\xe6\\x96\\xad\\xef\\xbc\\x9a\\\\n\",\\n    \"\\\\n\"\\n   ]\\n  },\\n  {\\n   \"cell_type\": \"code\",\\n   \"execution_count\": null,\\n   \"metadata\": {\\n    \"collapsed\": false\\n   },\\n   \"outputs\": [],\\n   \"source\": [\\n    \"from inspect import isgeneratorfun'\n",
      "b'ction\\\\n\",\\n    \"isgeneratorfunction(fab)\"\\n   ]\\n  },\\n  {\\n   \"cell_type\": \"markdown\",\\n   \"metadata\": {},\\n   \"source\": [\\n    \"\\xe8\\xa6\\x81\\xe6\\xb3\\xa8\\xe6\\x84\\x8f\\xe5\\x8c\\xba\\xe5\\x88\\x86fab\\xe5\\x92\\x8cfab(5)\\xef\\xbc\\x8cfab\\xe6\\x98\\xafgenerator function\\xef\\xbc\\x8c\\xe8\\x80\\x8cfab(5)\\xe6\\x98\\xaf\\xe8\\xb0\\x83\\xe7\\x94\\xa8fab\\xe8\\xbf\\x94\\xe5\\x9b\\x9e\\xe7\\x9a\\x84\\xe4\\xb8\\x80\\xe4\\xb8\\xaagenerator\\xef\\xbc\\x8c\\xe5\\xa5\\xbd\\xe6\\xaf\\x94\\xe7\\xb1\\xbb\\xe7\\x9a\\x84\\xe5\\xae\\x9a\\xe4\\xb9\\x89\\xe5\\x92\\x8c\\xe7\\xb1\\xbb\\xe7\\x9a\\x84\\xe5\\xae\\x9e\\xe7\\xb2\\x92\\xe7\\x9a\\x84\\xe5\\x8c\\xba\\xe5\\x88\\xab\\xef\\xbc\\x9a\"\\n   ]\\n  },\\n  {\\n   \"cell_type\": \"code\",\\n   \"execution_count\": null,\\n   \"metadata\": {\\n    \"collapsed\": false\\n   },\\n   \"outputs\": [],\\n   \"source\": [\\n    \"import types\\\\n\",\\n    \"print(isinstance(fab,types.GeneratorType))\\\\n\",\\n    \"print(isinstance(fab(5),types.GeneratorType))\"\\n   ]\\n  },\\n  {\\n   \"cell_type\": \"markdown\",\\n   \"metadata\": {},\\n   \"source\": [\\n    \"\\xe6\\xaf\\x8f\\xe6\\xac\\xa1\\xe8\\xb0\\x83\\xe7\\x94\\xa8fab\\xe5\\x87\\xbd\\xe6\\x95\\xb0\\xe9\\x83\\xbd\\xe4\\xbc\\x9a\\xe7\\x94\\x9f\\xe6\\x88\\x90\\xe4\\xb8\\x80\\xe4\\xb8\\xaa\\xe6\\x96\\xb0\\xe7\\x9a\\x84generator\\xe5\\xae\\x9e\\xe4\\xbe\\x8b\\xef\\xbc\\x8c\\xe5\\x90\\x84\\xe5\\xae\\x9e\\xe4\\xbe\\x8b\\xe4\\xba\\x92\\xe4\\xb8\\x8d\\xe5\\xbd\\xb1\\xe5\\x93\\x8d:\"\\n   ]\\n  },\\n  {\\n   \"cell_type\": \"code\",\\n   \"execution_count\": 60,\\n   \"metadata\": {\\n    \"collapsed\": false\\n   },\\n   \"outputs\": [\\n    {\\n     \"name\": \"stdout\",\\n     \"output_type\": \"stream\",\\n     \"text\": [\\n      \"f1: 1\\\\n\",\\n      \"f2: 1\\\\n\",\\n      \"f1: 1\\\\n\",\\n      \"f2: 1\\\\n\",\\n      \"f1: 2\\\\n\",\\n      \"f2: 2\\\\n\",\\n      \"f1'\n",
      "b': 3\\\\n\",\\n      \"f2: 3\\\\n\",\\n      \"f1: 5\\\\n\",\\n      \"f2: 5\\\\n\"\\n     ]\\n    }\\n   ],\\n   \"source\": [\\n    \"f1 = fab(7)\\\\n\",\\n    \"f2 = fab(5)\\\\n\",\\n    \"print(\\'f1:\\',f1.__next__())\\\\n\",\\n    \"print(\\'f2:\\',f2.__next__())\\\\n\",\\n    \"print(\\'f1:\\',f1.__next__())\\\\n\",\\n    \"print(\\'f2:\\',f2.__next__())\\\\n\",\\n    \"print(\\'f1:\\',f1.__next__())\\\\n\",\\n    \"print(\\'f2:\\',f2.__next__())\\\\n\",\\n    \"print(\\'f1:\\',f1.__next__())\\\\n\",\\n    \"print(\\'f2:\\',f2.__next__())\\\\n\",\\n    \"print(\\'f1:\\',f1.__next__())\\\\n\",\\n    \"print(\\'f2:\\',f2.__next__())\"\\n   ]\\n  },\\n  {\\n   \"cell_type\": \"markdown\",\\n   \"metadata\": {},\\n   \"source\": [\\n    \"\\xe5\\x9c\\xa8\\xe4\\xb8\\x80\\xe4\\xb8\\xaagenerator function\\xe4\\xb8\\xad\\xef\\xbc\\x8c\\xe5\\xa6\\x82\\xe6\\x9e\\x9c\\xe6\\xb2\\xa1\\xe6\\x9c\\x89return\\xef\\xbc\\x8c\\xe5\\x88\\x99\\xe9\\xbb\\x98\\xe8\\xae\\xa4\\xe6\\x89\\xa7\\xe8\\xa1\\x8c\\xe8\\x87\\xb3\\xe5\\x87\\xbd\\xe6\\x95\\xb0\\xe6\\x89\\xa7\\xe8\\xa1\\x8c\\xe5\\xae\\x8c\\xe6\\xaf\\x95\\xef\\xbc\\x8c\\xe5\\xa6\\x82\\xe6\\x9e\\x9c\\xe5\\x9c\\xa8\\xe6\\x89\\xa7\\xe8\\xa1\\x8c\\xe8\\xbf\\x87\\xe7\\xa8\\x8b\\xe4\\xb8\\xadreturn\\xef\\xbc\\x8c\\xe5\\x88\\x99\\xe7\\x9b\\xb4\\xe6\\x8e\\xa5\\xe6\\x8a\\x9b\\xe5\\x87\\xbaStopIteration\\xe7\\xbb\\x88\\xe6\\xad\\xa2\\xe8\\xbf\\xad\\xe4\\xbb\\xa3\"\\n   ]\\n  },\\n  {\\n   \"cell_type\": \"code\",\\n   \"execution_count\": 62,\\n   \"metadata\": {\\n    \"collapsed\": true\\n   },\\n   \"outputs\": [],\\n   \"source\": [\\n    \"def fab(max):\\\\n\",\\n    \"    n, a, b = 0, 0, 1\\\\n\",\\n    \"    while n < max:\\\\n\",\\n    \"        yield b\\\\n\",\\n    \"        a, b = b, a + b\\\\n\",\\n  '\n",
      "b'  \"        n = n + 1\\\\n\",\\n    \"        return b\"\\n   ]\\n  },\\n  {\\n   \"cell_type\": \"code\",\\n   \"execution_count\": 65,\\n   \"metadata\": {\\n    \"collapsed\": false\\n   },\\n   \"outputs\": [\\n    {\\n     \"name\": \"stdout\",\\n     \"output_type\": \"stream\",\\n     \"text\": [\\n      \"f1: 1\\\\n\"\\n     ]\\n    },\\n    {\\n     \"ename\": \"StopIteration\",\\n     \"evalue\": \"1\",\\n     \"output_type\": \"error\",\\n     \"traceback\": [\\n      \"\\\\u001b[1;31m---------------------------------------------------------------------------\\\\u001b[0m\",\\n      \"\\\\u001b[1;31mStopIteration\\\\u001b[0m                             Traceback (most recent call last)\",\\n      \"\\\\u001b[1;32m<ipython-input-65-9d2ddff768f4>\\\\u001b[0m in \\\\u001b[0;36m<module>\\\\u001b[1;34m()\\\\u001b[0m\\\\n\\\\u001b[0;32m      1\\\\u001b[0m \\\\u001b[0mf1\\\\u001b[0m \\\\u001b[1;33m=\\\\u001b[0m \\\\u001b[0mfab\\\\u001b[0m\\\\u001b[1;33m(\\\\u001b[0m\\\\u001b[1;36m7\\\\u001b[0m\\\\u001b[1;33m)\\\\u001b[0m\\\\u001b[1;33m\\\\u001b[0m\\\\u001b[0m\\\\n\\\\u001b[0;32m      2\\\\u001b[0m \\\\u001b[0mprint\\\\u001b[0m\\\\u001b[1;33m(\\\\u001b[0m\\\\u001b[1;34m\\'f1:\\'\\\\u001b[0m\\\\u001b[1;33m,\\\\u001b[0m\\\\u001b'\n",
      "b'[0mf1\\\\u001b[0m\\\\u001b[1;33m.\\\\u001b[0m\\\\u001b[0m__next__\\\\u001b[0m\\\\u001b[1;33m(\\\\u001b[0m\\\\u001b[1;33m)\\\\u001b[0m\\\\u001b[1;33m)\\\\u001b[0m\\\\u001b[1;33m\\\\u001b[0m\\\\u001b[0m\\\\n\\\\u001b[1;32m----> 3\\\\u001b[1;33m \\\\u001b[0mprint\\\\u001b[0m\\\\u001b[1;33m(\\\\u001b[0m\\\\u001b[1;34m\\'f1:\\'\\\\u001b[0m\\\\u001b[1;33m,\\\\u001b[0m\\\\u001b[0mf1\\\\u001b[0m\\\\u001b[1;33m.\\\\u001b[0m\\\\u001b[0m__next__\\\\u001b[0m\\\\u001b[1;33m(\\\\u001b[0m\\\\u001b[1;33m)\\\\u001b[0m\\\\u001b[1;33m)\\\\u001b[0m\\\\u001b[1;33m\\\\u001b[0m\\\\u001b[0m\\\\n\\\\u001b[0m\",\\n      \"\\\\u001b[1;31mStopIteration\\\\u001b[0m: 1\"\\n     ]\\n    }\\n   ],\\n   \"source\": [\\n    \"f1 = fab(7)\\\\n\",\\n    \"print(\\'f1:\\',f1.__next__())\\\\n\",\\n    \"print(\\'f1:\\',f1.__next__())\"\\n   ]\\n  },\\n  {\\n   \"cell_type\": \"markdown\",\\n   \"metadata\": {},\\n   \"source\": [\\n    \"\\xe5\\x8f\\xa6\\xe4\\xb8\\x80\\xe4\\xb8\\xaayield\\xe7\\x9a\\x84\\xe4\\xbe\\x8b\\xe5\\xad\\x90\\xe6\\x9d\\xa5\\xe6\\xba\\x90\\xe4\\xba\\x8e\\xe6\\x96\\x87\\xe4\\xbb\\xb6\\xe8\\xaf\\xbb\\xe5\\x8f\\x96\\xe3\\x80\\x82\\xe5\\xa6\\x82\\xe6\\x9e\\x9c\\xe7\\x9b\\xb4\\xe6\\x8e\\xa5\\xe5\\xaf\\xb9\\xe6\\x96\\x87\\xe4\\xbb\\xb6\\xe5\\xaf\\xb9\\xe8\\xb1\\xa1\\xe8\\xb0\\x83\\xe7\\x94\\xa8read()\\xe6\\x96\\xb9\\xe6\\xb3\\x95,\\xe4\\xbc\\x9a\\xe5\\xaf\\xbc\\xe8\\x87\\xb4\\xe4\\xb8\\x8d\\xe5\\x8f\\xaf\\xe9\\xa2\\x84\\xe6\\xb5\\x8b\\xe7\\x9a\\x84\\xe5\\x86\\x85\\xe5\\xad\\x98\\xe5\\x8d\\xa0\\xe7\\x94\\xa8\\xe3\\x80\\x82\\xe5\\xa5\\xbd\\xe7\\x9a\\x84\\xe6\\x96\\xb9\\xe6\\xb3\\x95\\xe6\\x98\\xaf\\xe5\\x88\\xa9\\xe7\\x94\\xa8\\xe5\\x9b\\xba\\xe5\\xae\\x9a\\xe9\\x95\\xbf\\xe5\\xba\\xa6\\xe7\\x9a\\x84\\xe7\\xbc\\x93\\xe5\\x86\\xb2\\xe5\\x8c\\xba\\xe4\\xb8\\x8d\\xe6\\x96\\xad\\xe8\\xaf\\xbb\\xe5\\x8f\\x96\\xe6\\x96\\x87\\xe4\\xbb\\xb6\\xe5\\x86\\x85\\xe5\\xae\\xb9\\xe3\\x80\\x82\\xe9\\x80\\x9a\\xe8\\xbf\\x87yield\\xef\\xbc\\x8c\\xe6\\x88\\x91\\xe4\\xbb\\xac\\xe4\\xb8\\x8d\\xe5\\x86\\x8d\\xe9\\x9c\\x80\\xe8\\xa6\\x81\\xe7\\xbc\\x96\\xe5\\x86\\x99\\xe8\\xaf\\xbb\\xe6\\x96\\x87\\xe4\\xbb\\xb6\\xe8\\xbf\\xad\\xe4\\xbb\\xa3\\xe7\\xb1\\xbb\\xef\\xbc\\x8c\\xe5\\xb0\\xb1\\xe5\\x8f\\xaf\\xe4\\xbb\\xa5\\xe8\\xbd\\xbb\\xe6\\x9d\\xbe\\xe5\\xae\\x9e\\xe7\\x8e\\xb0\\xe6\\x96\\x87\\xe4\\xbb\\xb6\\xe8\\xaf\\xbb\\xe5\\x8f\\x96:\"\\n   ]\\n  },\\n '\n",
      "b' {\\n   \"cell_type\": \"code\",\\n   \"execution_count\": 67,\\n   \"metadata\": {\\n    \"collapsed\": false\\n   },\\n   \"outputs\": [],\\n   \"source\": [\\n    \"def read_file(fpath):\\\\n\",\\n    \"    BLOCK_SIZE = 1024\\\\n\",\\n    \"    with open(fpath,\\'rb\\') as f:\\\\n\",\\n    \"        while True:\\\\n\",\\n    \"            block = f.read(BLOCK_SIZE)\\\\n\",\\n    \"            if block:\\\\n\",\\n    \"                yield block\\\\n\",\\n    \"            else:\\\\n\",\\n    \"                return\"\\n   ]\\n  },\\n  {\\n   \"cell_type\": \"code\",\\n   \"execution_count\": 72,\\n   \"metadata\": {\\n    \"collapsed\": false\\n   },\\n   \"outputs\": [\\n    {\\n     \"name\": \"stdout\",\\n     \"output_type\": \"stream\",\\n     \"text\": [\\n      \"b\\'{\\\\\\\\n \\\\\"cells\\\\\": [\\\\\\\\n  {\\\\\\\\n   \\\\\"cell_type\\\\\": \\\\\"code\\\\\",\\\\\\\\n   \\\\\"execution_count\\\\\": 48,\\\\\\\\n   \\\\\"metadata\\\\\": {\\\\\\\\n    \\\\\"collapsed\\\\\": false\\\\\\\\n   },\\\\\\\\n   \\\\\"outputs\\\\\": [],\\\\\\\\n   \\\\\"source\\\\\": [\\\\\\\\n    \\\\\"def fab(max):\\\\\\\\\\\\\\\\n\\\\\",\\\\\\\\n    \\\\\"    n,a,b = 0,0,1\\\\\\\\\\\\\\\\n\\\\\",\\\\\\\\n    \\\\\"    while n < max:\\\\\\\\\\\\\\\\n\\\\\",\\\\\\\\n    \\\\\"        print(b)\\\\\\\\\\\\\\\\n\\\\\",\\\\\\\\n    \\\\\"        a,b = b, a + b\\\\\\\\\\\\\\\\n\\\\\",\\\\\\\\n    \\\\\"        n = n + 1\\\\\"'\n",
      "b'\\\\\\\\n   ]\\\\\\\\n  },\\\\\\\\n  {\\\\\\\\n   \\\\\"cell_type\\\\\": \\\\\"code\\\\\",\\\\\\\\n   \\\\\"execution_count\\\\\": 49,\\\\\\\\n   \\\\\"metadata\\\\\": {\\\\\\\\n    \\\\\"collapsed\\\\\": false\\\\\\\\n   },\\\\\\\\n   \\\\\"outputs\\\\\": [\\\\\\\\n    {\\\\\\\\n     \\\\\"name\\\\\": \\\\\"stdout\\\\\",\\\\\\\\n     \\\\\"output_type\\\\\": \\\\\"stream\\\\\",\\\\\\\\n     \\\\\"text\\\\\": [\\\\\\\\n      \\\\\"1\\\\\\\\\\\\\\\\n\\\\\",\\\\\\\\n      \\\\\"1\\\\\\\\\\\\\\\\n\\\\\",\\\\\\\\n      \\\\\"2\\\\\\\\\\\\\\\\n\\\\\",\\\\\\\\n      \\\\\"3\\\\\\\\\\\\\\\\n\\\\\",\\\\\\\\n      \\\\\"5\\\\\\\\\\\\\\\\n\\\\\"\\\\\\\\n     ]\\\\\\\\n    }\\\\\\\\n   ],\\\\\\\\n   \\\\\"source\\\\\": [\\\\\\\\n    \\\\\"fab(5)\\\\\"\\\\\\\\n   ]\\\\\\\\n  },\\\\\\\\n  {\\\\\\\\n   \\\\\"cell_type\\\\\": \\\\\"markdown\\\\\",\\\\\\\\n   \\\\\"metadata\\\\\": {},\\\\\\\\n   \\\\\"source\\\\\": [\\\\\\\\n    \\\\\"\\\\\\\\xe7\\\\\\\\xbb\\\\\\\\x93\\\\\\\\xe6\\\\\\\\x9e\\\\\\\\x9c\\\\\\\\xe6\\\\\\\\xb2\\\\\\\\xa1\\\\\\\\xe6\\\\\\\\x9c\\\\\\\\x89\\\\\\\\xe9\\\\\\\\x97\\\\\\\\xae\\\\\\\\xe9\\\\\\\\xa2\\\\\\\\x98\\\\\\\\xef\\\\\\\\xbc\\\\\\\\x8c\\\\\\\\xe4\\\\\\\\xbd\\\\\\\\x86\\\\\\\\xe6\\\\\\\\x9c\\\\\\\\x89\\\\\\\\xe7\\\\\\\\xbb\\\\\\\\x8f\\\\\\\\xe9\\\\\\\\xaa\\\\\\\\x8c\\\\\\\\xe7\\\\\\\\x9a\\\\\\\\x84\\\\\\\\xe5\\\\\\\\xbc\\\\\\\\x80\\\\\\\\xe5\\\\\\\\x8f\\\\\\\\x91\\\\\\\\xe8\\\\\\\\x80\\\\\\\\x85\\\\\\\\xe4\\\\\\\\xbc\\\\\\\\x9a\\\\\\\\xe6\\\\\\\\x8c\\\\\\\\x87\\\\\\\\xe5\\\\\\\\x87\\\\\\\\xba\\\\\\\\xef\\\\\\\\xbc\\\\\\\\x8c\\\\\\\\xe7\\\\\\\\x9b\\\\\\\\xb4\\\\\\\\xe6\\\\\\\\x8e\\\\\\\\xa5\\\\\\\\xe5\\\\\\\\x9c\\\\\\\\xa8 fab \\\\\\\\xe5\\\\\\\\x87\\\\\\\\xbd\\\\\\\\xe6\\\\\\\\x95\\\\\\\\xb0\\\\\\\\xe4\\\\\\\\xb8\\\\\\\\xad\\\\\\\\xe7\\\\\\\\x94\\\\\\\\xa8 print \\\\\\\\xe6\\\\\\\\x89\\\\\\\\x93\\\\\\\\xe5\\\\\\\\x8d\\\\\\\\xb0\\\\\\\\xe6\\\\\\\\x95\\\\\\\\xb0\\\\\\\\xe5\\\\\\\\xad\\\\\\\\x97\\\\\\\\xe4\\\\\\\\xbc\\\\\\\\x9a\\\\\\\\xe5\\\\\\\\xaf\\\\\\\\xbc\\\\\\\\xe8\\\\\\\\x87\\\\\\\\xb4\\\\\\\\xe'\n",
      "b'8\\\\\\\\xaf\\\\\\\\xa5\\\\\\\\xe5\\\\\\\\x87\\\\\\\\xbd\\\\\\\\xe6\\\\\\\\x95\\\\\\\\xb0\\\\\\\\xe5\\\\\\\\x8f\\\\\\\\xaf\\\\\\\\xe5\\\\\\\\xa4\\\\\\\\x8d\\\\\\\\xe7\\\\\\\\x94\\\\\\\\xa8\\\\\\\\xe6\\\\\\\\x80\\\\\\\\xa7\\\\\\\\xe8\\\\\\\\xbe\\\\\\\\x83\\\\\\\\xe5\\\\\\\\xb7\\\\\\\\xae\\\\\\\\xef\\\\\\\\xbc\\\\\\\\x8c\\\\\\\\xe5\\\\\\\\x9b\\\\\\\\xa0\\\\\\\\xe4\\\\\\\\xb8\\\\\\\\xba fab \\\\\\\\xe5\\\\\\\\x87\\\\\\\\xbd\\\\\\\\xe6\\\\\\\\x95\\\\\\\\xb0\\\\\\\\xe8\\\\\\\\xbf\\\\\\\\x94\\\\\\\\xe5\\\\\\\\x9b\\\\\\\\x9e None\\\\\\\\xef\\\\\\\\xbc\\\\\\\\x8c\\\\\\\\xe5\\\\\\\\x85\\\\\\\\xb6\\\\\\\\xe4\\\\\\\\xbb\\\\\\\\x96\\\\\\\\xe5\\\\\\\\x87\\\\\\\\xbd\\\\\\\\xe6\\\\\\\\x95\\\\\\\\xb0\\\\\\\\xe6\\\\\\\\x97\\\\\\\\xa0\\\\\\\\xe6\\\\\\\\xb3\\\\\\\\x95\\\\\\\\xe8\\\\\\\\x8e\\\\\\\\xb7\\\\\\\\xe5\\\\\\\\xbe\\\\\\\\x97\\\\\\\\xe8\\\\\\\\xaf\\\\\\\\xa5\\\\\\\\xe5\\\\\\\\x87\\\\\\\\xbd\\\\\\\\xe6\\\\\\\\x95\\\\\\\\xb0\\\\\\\\xe7\\\\\\\\x94\\\\\\\\x9f\\\\\\\\xe6\\\\\\\\x88\\\\\\\\x90\\\\\\\\xe7\\\\\\\\x9a\\\\\\\\x84\\\\\\\\xe6\\\\\\\\x95\\\\\\\\xb0\\\\\\\\xe5\\\\\\\\x88\\\\\\\\x97\\\\\\\\xe3\\\\\\\\x80\\\\\\\\x82\\\\\\\\\\\\\\\\n\\\\\",\\\\\\\\n    \\\\\"\\\\\\\\\\\\\\\\n\\\\\",\\\\\\\\n    \\\\\"\\\\\\\\xe8\\\\\\\\xa6\\\\\\\\x81\\\\\\\\xe6\\\\\\\\x8f\\\\\\\\x90\\\\\\\\xe9\\\\\\\\xab\\\\\\\\x98 fab \\\\\\\\xe5\\\\\\\\x87\\\\\\\\xbd\\\\\\\\xe6\\\\\\\\x95\\\\\\\\xb0\\\\\\\\xe7\\\\\\\\x9a\\\\\\\\x84\\\\\\\\xe5\\\\\\\\x8f\\\\\\\\xaf\\\\\\\\xe5\\\\\\\\xa4\\\\\\\\x8d\\\\\\\\xe7\\\\\\\\x94\\\\\\\\xa8\\\\\\\\xe6\\\\\\\\x80\\\\\\\\xa7\\\\\\\\xef\\\\\\\\xbc\\\\\\\\x8c\\\\\\\\xe6\\\\\\\\x9c\\\\\\\\x80\\\\\\\\xe5\\\\\\\\xa5\\\\\\\\xbd\\\\\\\\xe4\\\\\\\\xb8\\\\\\\\x8d\\\\\\\\xe8\\\\\\\\xa6\\\\\\\\x81\\\\\\\\xe7\\\\\\\\x9b\\\\\\\\xb4\\\\\\\\xe6\\\\\\\\x8e\\\\\\\\xa5\\\\\\\\xe6\\\\\\\\x89\\\\\\\\x93\\\\\\\\xe5\\\\\\\\x8d\\\\\\\\xb0\\\\\\\\xe5\\\\\\\\x87\\\\\\\\xba\\\\\\\\xe6\\\\\\\\x95\\\\\\\\xb0\\\\\\\\xe5\\\\\\\\x88\\\\\\\\x97\\\\\\\\xef\\\\\\\\xbc\\\\\\\\x8c\\\\\\\\xe8\\\\\\\\x80\\\\\\\\x8c\\\\\\\\xe6\\\\\\\\x98\\\\\\\\xaf\\\\\\\\xe8\\\\\\\\xbf\\'\\\\n\",\\n      \"b\\'\\\\\\\\x94\\\\\\\\xe5\\\\\\\\x9b\\\\\\\\x9e\\\\\\\\xe4\\\\\\\\xb8\\\\\\\\x80\\\\\\\\xe4\\\\\\\\xb8\\\\\\\\xaa List\\\\\\\\xe3\\\\\\\\x80\\\\\\\\x8'\n",
      "b'2\\\\\\\\xe4\\\\\\\\xbb\\\\\\\\xa5\\\\\\\\xe4\\\\\\\\xb8\\\\\\\\x8b\\\\\\\\xe6\\\\\\\\x98\\\\\\\\xaf fab \\\\\\\\xe5\\\\\\\\x87\\\\\\\\xbd\\\\\\\\xe6\\\\\\\\x95\\\\\\\\xb0\\\\\\\\xe6\\\\\\\\x94\\\\\\\\xb9\\\\\\\\xe5\\\\\\\\x86\\\\\\\\x99\\\\\\\\xe5\\\\\\\\x90\\\\\\\\x8e\\\\\\\\xe7\\\\\\\\x9a\\\\\\\\x84\\\\\\\\xe7\\\\\\\\xac\\\\\\\\xac\\\\\\\\xe4\\\\\\\\xba\\\\\\\\x8c\\\\\\\\xe4\\\\\\\\xb8\\\\\\\\xaa\\\\\\\\xe7\\\\\\\\x89\\\\\\\\x88\\\\\\\\xe6\\\\\\\\x9c\\\\\\\\xac\\\\\\\\xef\\\\\\\\xbc\\\\\\\\x9a\\\\\"\\\\\\\\n   ]\\\\\\\\n  },\\\\\\\\n  {\\\\\\\\n   \\\\\"cell_type\\\\\": \\\\\"code\\\\\",\\\\\\\\n   \\\\\"execution_count\\\\\": 50,\\\\\\\\n   \\\\\"metadata\\\\\": {\\\\\\\\n    \\\\\"collapsed\\\\\": true\\\\\\\\n   },\\\\\\\\n   \\\\\"outputs\\\\\": [],\\\\\\\\n   \\\\\"source\\\\\": [\\\\\\\\n    \\\\\"def fab(max):\\\\\\\\\\\\\\\\n\\\\\",\\\\\\\\n    \\\\\"    n, a, b = 0, 0, 1\\\\\\\\\\\\\\\\n\\\\\",\\\\\\\\n    \\\\\"    L = []\\\\\\\\\\\\\\\\n\\\\\",\\\\\\\\n    \\\\\"    while n < max:\\\\\\\\\\\\\\\\n\\\\\",\\\\\\\\n    \\\\\"        L.append(b)\\\\\\\\\\\\\\\\n\\\\\",\\\\\\\\n    \\\\\"        a, b = b, a + b\\\\\\\\\\\\\\\\n\\\\\",\\\\\\\\n    \\\\\"        n = n + 1\\\\\\\\\\\\\\\\n\\\\\",\\\\\\\\n    \\\\\"    return L\\\\\"\\\\\\\\n   ]\\\\\\\\n  },\\\\\\\\n  {\\\\\\\\n   \\\\\"cell_type\\\\\": \\\\\"code\\\\\",\\\\\\\\n   \\\\\"execution_count\\\\\": 51,\\\\\\\\n   \\\\\"metadata\\\\\": {\\\\\\\\n    \\\\\"collapsed\\\\\": false\\\\\\\\n   },\\\\\\\\n   \\\\\"outputs\\\\\": [\\\\\\\\n    {\\\\\\\\n     \\\\\"name\\\\\": \\\\\"stdout\\\\\",\\\\\\\\n     \\\\\"output_type\\\\\": \\\\\"stream\\\\\",\\\\\\\\n     \\\\\"text\\\\\": [\\\\\\\\n      \\\\\"1\\\\\\\\\\\\\\\\n\\\\\",\\\\\\\\n      \\\\\"1\\\\\\\\\\\\\\\\n\\\\\",\\\\\\\\n      \\\\\"2\\\\\\\\\\\\\\\\n\\\\\",\\\\\\\\n      \\\\\"3\\\\\\\\\\\\\\\\n\\\\\",\\\\\\\\n      \\\\\"5\\\\\\\\\\\\\\\\n\\\\\"\\\\\\\\n  '\n",
      "b'   ]\\\\\\\\n    }\\\\\\\\n   ],\\\\\\\\n   \\\\\"source\\\\\": [\\\\\\\\n    \\\\\"for n in fab(5):\\\\\\\\\\\\\\\\n\\\\\",\\\\\\\\n    \\\\\"    print(n)\\\\\"\\\\\\\\n   ]\\\\\\\\n  },\\\\\\\\n  {\\\\\\\\n   \\\\\"cell_type\\\\\": \\\\\"markdown\\\\\",\\\\\\\\n   \\\\\"metadata\\\\\": {},\\\\\\\\n   \\\\\"source\\\\\": [\\\\\\\\n    \\\\\"\\\\\\\\xe6\\\\\\\\x94\\\\\\\\xb9\\\\\\\\xe5\\\\\\\\x86\\\\\\\\x99\\\\\\\\xe5\\\\\\\\x90\\\\\\\\x8e\\\\\\\\xe7\\\\\\\\x9a\\\\\\\\x84 fab \\\\\\\\xe5\\\\\\\\x87\\\\\\\\xbd\\\\\\\\xe6\\\\\\\\x95\\\\\\\\xb0\\\\\\\\xe9\\\\\\\\x80\\\\\\\\x9a\\\\\\\\xe8\\\\\\\\xbf\\\\\\\\x87\\\\\\\\xe8\\\\\\\\xbf\\\\\\\\x94\\\\\\\\xe5\\\\\\\\x9b\\\\\\\\x9e List \\\\\\\\xe8\\\\\\\\x83\\\\\\\\xbd\\\\\\\\xe6\\\\\\\\xbb\\\\\\\\xa1\\\\\\\\xe8\\\\\\\\xb6\\\\\\\\xb3\\\\\\\\xe5\\\\\\\\xa4\\\\\\\\x8d\\\\\\\\xe7\\\\\\\\x94\\\\\\\\xa8\\\\\\\\xe6\\\\\\\\x80\\\\\\\\xa7\\\\\\\\xe7\\\\\\\\x9a\\\\\\\\x84\\\\\\\\xe8\\\\\\\\xa6\\\\\\\\x81\\\\\\\\xe6\\\\\\\\xb1\\\\\\\\x82\\\\\\\\xef\\\\\\\\xbc\\\\\\\\x8c\\\\\\\\xe4\\\\\\\\xbd\\\\\\\\x86\\\\\\\\xe6\\\\\\\\x98\\\\\\\\xaf\\\\\\\\xe6\\\\\\\\x9b\\\\\\\\xb4\\\\\\\\xe6\\\\\\\\x9c\\\\\\\\x89\\\\\\\\xe7\\\\\\\\xbb\\\\\\\\x8f\\\\\\\\xe9\\\\\\\\xaa\\\\\\\\x8c\\\\\\\\xe7\\\\\\\\x9a\\\\\\\\x84\\\\\\\\xe5\\\\\\\\xbc\\\\\\\\x80\\\\\\\\xe5\\\\\\\\x8f\\\\\\\\x91\\\\\\\\xe8\\\\\\\\x80\\\\\\\\x85\\\\\\\\xe4\\\\\\\\xbc\\\\\\\\x9a\\\\\\\\xe6\\\\\\\\x8c\\\\\\\\x87\\\\\\\\xe5\\\\\\\\x87\\\\\\\\xba\\\\\\\\xef\\\\\\\\xbc\\\\\\\\x8c\\\\\\\\xe8\\\\\\\\xaf\\\\\\\\xa5\\\\\\\\xe5\\\\\\\\x87\\\\\\\\xbd\\\\\\\\xe6\\\\\\\\x95\\\\\\\\xb0\\\\\\\\xe5\\\\\\\\x9c\\\\\\\\xa8\\\\\\\\xe8\\\\\\\\xbf\\\\\\\\x90\\\\\\\\xe8\\\\\\\\xa1\\\\\\\\x8c\\\\\\\\xe4\\\\\\\\xb8\\\\\\\\xad\\\\\\\\xe5\\\\\\\\x8d\\\\\\\\xa0\\\\\\\\xe7\\\\\\\\x94\\\\\\\\xa8\\\\\\\\xe7\\\\\\\\x9a\\\\\\\\x84\\\\\\\\xe5\\\\\\\\x86\\\\\\\\x85\\\\\\\\xe5\\\\\\\\xad\\\\\\\\x98\\\\\\\\xe4\\\\\\\\xbc\\\\\\\\x9a\\\\\\\\xe9\\\\\\\\x9a\\\\\\\\x8f\\\\\\\\xe7\\\\\\\\x9d\\\\\\\\x80\\\\\\\\xe5\\\\\\\\x8f\\\\\\\\x82\\\\\\\\xe6\\\\\\\\x95\\\\\\\\xb0 max \\\\\\\\xe7\\\\\\\\x9a\\\\\\\\x84\\\\\\\\xe5\\\\\\\\xa2\\\\\\\\x9e\\\\\\\\xe5\\\\\\\\xa4\\\\\\\\x'\n",
      "b'a7\\'\\\\n\",\\n      \"b\\'\\\\\\\\xe8\\\\\\\\x80\\\\\\\\x8c\\\\\\\\xe5\\\\\\\\xa2\\\\\\\\x9e\\\\\\\\xe5\\\\\\\\xa4\\\\\\\\xa7\\\\\\\\xef\\\\\\\\xbc\\\\\\\\x8c\\\\\\\\xe5\\\\\\\\xa6\\\\\\\\x82\\\\\\\\xe6\\\\\\\\x9e\\\\\\\\x9c\\\\\\\\xe8\\\\\\\\xa6\\\\\\\\x81\\\\\\\\xe6\\\\\\\\x8e\\\\\\\\xa7\\\\\\\\xe5\\\\\\\\x88\\\\\\\\xb6\\\\\\\\xe5\\\\\\\\x86\\\\\\\\x85\\\\\\\\xe5\\\\\\\\xad\\\\\\\\x98\\\\\\\\xe5\\\\\\\\x8d\\\\\\\\xa0\\\\\\\\xe7\\\\\\\\x94\\\\\\\\xa8\\\\\\\\xef\\\\\\\\xbc\\\\\\\\x8c\\\\\\\\xe6\\\\\\\\x9c\\\\\\\\x80\\\\\\\\xe5\\\\\\\\xa5\\\\\\\\xbd\\\\\\\\xe4\\\\\\\\xb8\\\\\\\\x8d\\\\\\\\xe8\\\\\\\\xa6\\\\\\\\x81\\\\\\\\xe7\\\\\\\\x94\\\\\\\\xa8 List\\\\\\\\\\\\\\\\n\\\\\",\\\\\\\\n    \\\\\"\\\\\\\\\\\\\\\\n\\\\\",\\\\\\\\n    \\\\\"\\\\\\\\xe6\\\\\\\\x9d\\\\\\\\xa5\\\\\\\\xe4\\\\\\\\xbf\\\\\\\\x9d\\\\\\\\xe5\\\\\\\\xad\\\\\\\\x98\\\\\\\\xe4\\\\\\\\xb8\\\\\\\\xad\\\\\\\\xe9\\\\\\\\x97\\\\\\\\xb4\\\\\\\\xe7\\\\\\\\xbb\\\\\\\\x93\\\\\\\\xe6\\\\\\\\x9e\\\\\\\\x9c\\\\\\\\xef\\\\\\\\xbc\\\\\\\\x8c\\\\\\\\xe8\\\\\\\\x80\\\\\\\\x8c\\\\\\\\xe6\\\\\\\\x98\\\\\\\\xaf\\\\\\\\xe9\\\\\\\\x80\\\\\\\\x9a\\\\\\\\xe8\\\\\\\\xbf\\\\\\\\x87 iterable \\\\\\\\xe5\\\\\\\\xaf\\\\\\\\xb9\\\\\\\\xe8\\\\\\\\xb1\\\\\\\\xa1\\\\\\\\xe6\\\\\\\\x9d\\\\\\\\xa5\\\\\\\\xe8\\\\\\\\xbf\\\\\\\\xad\\\\\\\\xe4\\\\\\\\xbb\\\\\\\\xa3\\\\\\\\xe3\\\\\\\\x80\\\\\\\\x82\\\\\\\\xe4\\\\\\\\xbe\\\\\\\\x8b\\\\\\\\xe5\\\\\\\\xa6\\\\\\\\x82\\\\\\\\xef\\\\\\\\xbc\\\\\\\\x8c\\\\\\\\xe5\\\\\\\\x9c\\\\\\\\xa8 Python3.x \\\\\\\\xe4\\\\\\\\xb8\\\\\\\\xad\\\\\\\\xef\\\\\\\\xbc\\\\\\\\x8c\\\\\\\\xe4\\\\\\\\xbb\\\\\\\\xa3\\\\\\\\xe7\\\\\\\\xa0\\\\\\\\x81\\\\\\\\xef\\\\\\\\xbc\\\\\\\\x9a\\\\\"\\\\\\\\n   ]\\\\\\\\n  },\\\\\\\\n  {\\\\\\\\n   \\\\\"cell_type\\\\\": \\\\\"code\\\\\",\\\\\\\\n   \\\\\"execution_count\\\\\": 52,\\\\\\\\n   \\\\\"metadata\\\\\": {\\\\\\\\n    \\\\\"collapsed\\\\\": false\\\\\\\\n   },\\\\\\\\n   \\\\\"outputs\\\\\": [],\\\\\\\\n   \\\\\"source\\\\\": [\\\\\\\\n    \\\\\" class Fab(object): \\\\\\\\\\\\\\\\n\\\\\",\\\\\\\\n    \\\\\"\\\\\\\\\\\\\\\\n\\\\\",\\\\\\\\n    \\\\\"    def __init_'\n",
      "b'_(self, max): \\\\\\\\\\\\\\\\n\\\\\",\\\\\\\\n    \\\\\"        self.max = max \\\\\\\\\\\\\\\\n\\\\\",\\\\\\\\n    \\\\\"        self.n, self.a, self.b = 0, 0, 1 \\\\\\\\\\\\\\\\n\\\\\",\\\\\\\\n    \\\\\"\\\\\\\\\\\\\\\\n\\\\\",\\\\\\\\n    \\\\\"    def __iter__(self): \\\\\\\\\\\\\\\\n\\\\\",\\\\\\\\n    \\\\\"        return self \\\\\\\\\\\\\\\\n\\\\\",\\\\\\\\n    \\\\\"\\\\\\\\\\\\\\\\n\\\\\",\\\\\\\\n    \\\\\"    def __next__(self): \\\\\\\\\\\\\\\\n\\\\\",\\\\\\\\n    \\\\\"        if self.n < self.max: \\\\\\\\\\\\\\\\n\\\\\",\\\\\\\\n    \\\\\"            r = self.b \\\\\\\\\\\\\\\\n\\\\\",\\\\\\\\n    \\\\\"            self.a, self.b = self.b, self.a + self.b \\\\\\\\\\\\\\\\n\\\\\",\\\\\\\\n    \\\\\"            self.n = self.n + 1 \\\\\\\\\\\\\\\\n\\\\\",\\\\\\\\n    \\\\\"            return r \\\\\\\\\\\\\\\\n\\\\\",\\\\\\\\n    \\\\\"        raise StopIteration()\\\\\"\\\\\\\\n   ]\\\\\\\\n  },\\\\\\\\n  {\\\\\\\\n   \\\\\"cell_type\\\\\": \\\\\"code\\\\\",\\\\\\\\n   \\\\\"execution_count\\\\\": 53,\\\\\\\\n   \\\\\"metadata\\\\\": {\\\\\\\\n    \\\\\"collapsed\\\\\": false\\\\\\\\n   },\\\\\\\\n   \\\\\"outputs\\\\\": [\\\\\\\\n    {\\\\\\\\n     \\\\\"name\\\\\": \\\\\"stdout\\\\\",\\\\\\\\n     \\\\\"output_t\\'\\\\n\",\\n      \"b\\'ype\\\\\": \\\\\"stream\\\\\",\\\\\\\\n     \\\\\"text\\\\\": [\\\\\\\\n      \\\\\"1\\\\\\\\\\\\\\\\n\\\\\",\\\\\\\\n      \\\\\"1\\\\\\\\\\\\\\\\n\\\\\",\\\\\\\\n      \\\\\"2\\\\\\\\\\\\\\\\n\\\\\",\\\\\\\\n      \\\\\"3\\\\\\\\\\\\\\\\n\\\\\",\\\\\\\\n      \\\\\"5\\\\\\\\\\\\\\\\n\\\\\"\\\\\\\\n     ]\\\\\\\\n    }\\\\\\\\n   ],\\\\\\\\n   \\\\\"source\\\\\": [\\\\\\\\n    \\\\\"for n in Fab(5):\\\\\\\\\\\\\\\\n\\\\\",\\\\\\\\n    \\\\\"    print(n)\\\\\"\\\\\\\\n  '\n",
      "b' ]\\\\\\\\n  },\\\\\\\\n  {\\\\\\\\n   \\\\\"cell_type\\\\\": \\\\\"markdown\\\\\",\\\\\\\\n   \\\\\"metadata\\\\\": {},\\\\\\\\n   \\\\\"source\\\\\": [\\\\\\\\n    \\\\\"**\\\\\\\\xe4\\\\\\\\xbd\\\\\\\\xbf\\\\\\\\xe7\\\\\\\\x94\\\\\\\\xa8yield**\\\\\"\\\\\\\\n   ]\\\\\\\\n  },\\\\\\\\n  {\\\\\\\\n   \\\\\"cell_type\\\\\": \\\\\"code\\\\\",\\\\\\\\n   \\\\\"execution_count\\\\\": 54,\\\\\\\\n   \\\\\"metadata\\\\\": {\\\\\\\\n    \\\\\"collapsed\\\\\": false\\\\\\\\n   },\\\\\\\\n   \\\\\"outputs\\\\\": [],\\\\\\\\n   \\\\\"source\\\\\": [\\\\\\\\n    \\\\\"def fab(max):\\\\\\\\\\\\\\\\n\\\\\",\\\\\\\\n    \\\\\"    n, a, b = 0, 0, 1\\\\\\\\\\\\\\\\n\\\\\",\\\\\\\\n    \\\\\"    while n < max:\\\\\\\\\\\\\\\\n\\\\\",\\\\\\\\n    \\\\\"        yield b\\\\\\\\\\\\\\\\n\\\\\",\\\\\\\\n    \\\\\"        a, b = b, a + b\\\\\\\\\\\\\\\\n\\\\\",\\\\\\\\n    \\\\\"        n = n + 1\\\\\"\\\\\\\\n   ]\\\\\\\\n  },\\\\\\\\n  {\\\\\\\\n   \\\\\"cell_type\\\\\": \\\\\"markdown\\\\\",\\\\\\\\n   \\\\\"metadata\\\\\": {},\\\\\\\\n   \\\\\"source\\\\\": [\\\\\\\\n    \\\\\"**\\\\\\\\xe7\\\\\\\\xac\\\\\\\\xac\\\\\\\\xe5\\\\\\\\x9b\\\\\\\\x9b\\\\\\\\xe4\\\\\\\\xb8\\\\\\\\xaa\\\\\\\\xe7\\\\\\\\x89\\\\\\\\x88\\\\\\\\xe6\\\\\\\\x9c\\\\\\\\xac\\\\\\\\xe7\\\\\\\\x9a\\\\\\\\x84fab\\\\\\\\xe5\\\\\\\\x92\\\\\\\\x8c\\\\\\\\xe7\\\\\\\\xac\\\\\\\\xac\\\\\\\\xe4\\\\\\\\xb8\\\\\\\\x80\\\\\\\\xe7\\\\\\\\x89\\\\\\\\x88\\\\\\\\xe7\\\\\\\\x9b\\\\\\\\xb8\\\\\\\\xe6\\\\\\\\xaf\\\\\\\\x94\\\\\\\\xef\\\\\\\\xbc\\\\\\\\x8c\\\\\\\\xe4\\\\\\\\xbb\\\\\\\\x85\\\\\\\\xe4\\\\\\\\xbb\\\\\\\\x85\\\\\\\\xe6\\\\\\\\x8a\\\\\\\\x8aprint b\\\\\\\\xe6\\\\\\\\x94\\\\\\\\xb9\\\\\\\\xe4\\\\\\\\xb8\\\\\\\\xba\\\\\\\\xe4\\\\\\\\xba\\\\\\\\x86yield b\\\\\\\\xef\\\\\\\\xbc\\\\\\\\x8c\\\\\\\\xe5\\\\\\\\xb0\\\\\\\\xb1\\\\\\\\xe5\\\\\\\\x9c\\\\\\\\xa8\\\\\\\\xe4\\\\\\\\xbf\\\\\\\\x9d\\\\\\\\xe6\\\\\\\\x8c\\\\\\\\x81\\\\\\\\xe7\\\\\\\\xae\\\\\\\\x80\\\\\\\\xe'\n",
      "b'6\\\\\\\\xb4\\\\\\\\x81\\\\\\\\xe6\\\\\\\\x80\\\\\\\\xa7\\\\\\\\xe7\\\\\\\\x9a\\\\\\\\x84\\\\\\\\xe5\\\\\\\\x90\\\\\\\\x8c\\\\\\\\xe6\\\\\\\\x97\\\\\\\\xb6\\\\\\\\xe8\\\\\\\\x8e\\\\\\\\xb7\\\\\\\\xe5\\\\\\\\xbe\\\\\\\\x97\\\\\\\\xe4\\\\\\\\xba\\\\\\\\x86iterable\\\\\\\\xe7\\\\\\\\x9a\\\\\\\\x84\\\\\\\\xe6\\\\\\\\x95\\\\\\\\x88\\\\\\\\xe6\\\\\\\\x9e\\\\\\\\x9c**\\\\\"\\\\\\\\n   ]\\\\\\\\n  },\\\\\\\\n  {\\\\\\\\n   \\\\\"cell_type\\\\\": \\\\\"code\\\\\",\\\\\\\\n   \\\\\"execution_count\\\\\": 55,\\\\\\\\n   \\\\\"metadata\\\\\": {\\\\\\\\n    \\\\\"collapsed\\\\\": false\\\\\\\\n   },\\\\\\\\n   \\\\\"outputs\\\\\": [\\\\\\\\n    {\\\\\\\\n     \\\\\"name\\\\\": \\\\\"stdout\\\\\",\\\\\\\\n     \\\\\"output_type\\\\\": \\\\\"stream\\\\\",\\\\\\\\n     \\\\\"text\\\\\": [\\\\\\\\n      \\\\\"1\\\\\\\\\\\\\\\\n\\\\\",\\\\\\\\n      \\\\\"1\\\\\\\\\\\\\\\\n\\\\\",\\'\\\\n\",\\n      \"b\\'\\\\\\\\n      \\\\\"2\\\\\\\\\\\\\\\\n\\\\\",\\\\\\\\n      \\\\\"3\\\\\\\\\\\\\\\\n\\\\\",\\\\\\\\n      \\\\\"5\\\\\\\\\\\\\\\\n\\\\\"\\\\\\\\n     ]\\\\\\\\n    }\\\\\\\\n   ],\\\\\\\\n   \\\\\"source\\\\\": [\\\\\\\\n    \\\\\"for n in fab(5):\\\\\\\\\\\\\\\\n\\\\\",\\\\\\\\n    \\\\\"    print(n)\\\\\"\\\\\\\\n   ]\\\\\\\\n  },\\\\\\\\n  {\\\\\\\\n   \\\\\"cell_type\\\\\": \\\\\"markdown\\\\\",\\\\\\\\n   \\\\\"metadata\\\\\": {},\\\\\\\\n   \\\\\"source\\\\\": [\\\\\\\\n    \\\\\"\\\\\\\\xe7\\\\\\\\xae\\\\\\\\x80\\\\\\\\xe5\\\\\\\\x8d\\\\\\\\x95\\\\\\\\xe7\\\\\\\\x9a\\\\\\\\x84\\\\\\\\xe8\\\\\\\\xae\\\\\\\\xb2\\\\\\\\xef\\\\\\\\xbc\\\\\\\\x8cyield\\\\\\\\xe7\\\\\\\\x9a\\\\\\\\x84\\\\\\\\xe4\\\\\\\\xbd\\\\\\\\x9c\\\\\\\\xe7\\\\\\\\x94\\\\\\\\xa8\\\\\\\\xe5\\\\\\\\xb0\\\\\\\\xb1\\\\\\\\xe6\\\\\\\\x98\\\\\\\\xaf\\\\\\\\xe6\\\\\\\\x8a\\\\\\\\x8a\\\\\\\\xe4\\\\\\\\xb8\\\\\\\\x80\\\\\\\\xe4\\\\\\\\xb8\\\\\\\\xaa\\\\\\\\xe5\\\\\\\\x87\\\\\\\\xbd\\\\\\\\xe6\\\\\\\\x95\\\\\\\\xb0\\\\\\\\xe5\\\\\\\\x8f\\\\\\\\x98\\\\\\\\xe6\\\\\\\\x88\\\\\\\\x90\\\\\\\\xe4\\\\\\\\xb8\\\\\\\\x80\\\\\\\\xe4\\\\\\\\xb'\n",
      "b'8\\\\\\\\xaagenerator\\\\\\\\xef\\\\\\\\xbc\\\\\\\\x8c\\\\\\\\xe5\\\\\\\\xb8\\\\\\\\xa6\\\\\\\\xe6\\\\\\\\x9c\\\\\\\\x89yield\\\\\\\\xe7\\\\\\\\x9a\\\\\\\\x84\\\\\\\\xe5\\\\\\\\x87\\\\\\\\xbd\\\\\\\\xe6\\\\\\\\x95\\\\\\\\xb0\\\\\\\\xe4\\\\\\\\xb8\\\\\\\\x8d\\\\\\\\xe5\\\\\\\\x86\\\\\\\\x8d\\\\\\\\xe6\\\\\\\\x98\\\\\\\\xaf\\\\\\\\xe4\\\\\\\\xb8\\\\\\\\x80\\\\\\\\xe4\\\\\\\\xb8\\\\\\\\xaa\\\\\\\\xe6\\\\\\\\x99\\\\\\\\xae\\\\\\\\xe9\\\\\\\\x80\\\\\\\\x9a\\\\\\\\xe5\\\\\\\\x87\\\\\\\\xbd\\\\\\\\xe6\\\\\\\\x95\\\\\\\\xb0\\\\\\\\xef\\\\\\\\xbc\\\\\\\\x8cPython\\\\\\\\xe8\\\\\\\\xa7\\\\\\\\xa3\\\\\\\\xe9\\\\\\\\x87\\\\\\\\x8a\\\\\\\\xe5\\\\\\\\x99\\\\\\\\xa8\\\\\\\\xe4\\\\\\\\xbc\\\\\\\\x9a\\\\\\\\xe5\\\\\\\\xb0\\\\\\\\x86\\\\\\\\xe5\\\\\\\\x85\\\\\\\\xb6\\\\\\\\xe8\\\\\\\\xa7\\\\\\\\x86\\\\\\\\xe4\\\\\\\\xb8\\\\\\\\xba\\\\\\\\xe4\\\\\\\\xb8\\\\\\\\x80\\\\\\\\xe4\\\\\\\\xb8\\\\\\\\xaagenerator\\\\\\\\xef\\\\\\\\xbc\\\\\\\\x8c\\\\\\\\xe8\\\\\\\\xb0\\\\\\\\x83\\\\\\\\xe7\\\\\\\\x94\\\\\\\\xa8fab(5)\\\\\\\\xe4\\\\\\\\xb8\\\\\\\\x8d\\\\\\\\xe4\\\\\\\\xbc\\\\\\\\x9a\\\\\\\\xe6\\\\\\\\x89\\\\\\\\xa7\\\\\\\\xe8\\\\\\\\xa1\\\\\\\\x8cfab\\\\\\\\xe5\\\\\\\\x87\\\\\\\\xbd\\\\\\\\xe6\\\\\\\\x95\\\\\\\\xb0\\\\\\\\xef\\\\\\\\xbc\\\\\\\\x8c\\\\\\\\xe8\\\\\\\\x80\\\\\\\\x8c\\\\\\\\xe6\\\\\\\\x98\\\\\\\\xaf\\\\\\\\xe8\\\\\\\\xbf\\\\\\\\x94\\\\\\\\xe5\\\\\\\\x9b\\\\\\\\x9e\\\\\\\\xe4\\\\\\\\xb8\\\\\\\\x80\\\\\\\\xe4\\\\\\\\xb8\\\\\\\\xaagenerator\\\\\\\\xef\\\\\\\\xbc\\\\\\\\x8c\\\\\\\\xe8\\\\\\\\xb0\\\\\\\\x83\\\\\\\\xe7\\\\\\\\x94\\\\\\\\xa8fab(5)\\\\\\\\xe4\\\\\\\\xb8\\\\\\\\x8d\\\\\\\\xe4\\\\\\\\xbc\\\\\\\\x9a\\\\\\\\xe6\\\\\\\\x89\\\\\\\\xa7\\\\\\\\xe8\\\\\\\\xa1\\\\\\\\x8cfab\\\\\\\\xe5\\\\\\\\x87\\\\\\\\xbd\\\\\\\\xe6\\\\\\\\x95\\\\\\\\xb0\\\\\\\\xef\\\\\\\\xbc\\\\\\\\x8c\\\\\\\\xe8\\\\\\\\x80\\\\\\\\x8c\\\\\\\\xe6\\\\\\\\x98\\\\\\\\xaf\\\\\\\\xe8\\\\\\\\xbf\\\\\\\\x94\\\\\\\\xe5\\\\\\\\x9b\\\\\\\\x9e\\\\\\\\xe4\\\\\\\\xb8\\\\\\\\x80\\\\\\\\xe4\\\\\\\\xb8\\\\\\\\xaaiterable\\\\\\\\xe5\\\\\\\\xaf\\\\\\\\xb9\\\\\\\\xe8\\\\\\\\xb1\\\\\\\\xa1\\\\\\\\xef\\\\\\\\xbc\\\\\\\\x81\\\\\\\\xe5\\\\\\\\x9c\\\\\\\\xa8for\\\\\\\\xe5\\\\\\\\xbe\\\\\\\\xaa\\\\\\\\xe7\\\\'\n",
      "b'\\\\x8e\\\\\\\\xaf\\\\\\\\xe6\\\\\\\\x89\\\\\\\\xa7\\\\\\\\xe8\\\\\\\\xa1\\\\\\\\x8c\\\\\\\\xe7\\\\\\\\x9a\\\\\\\\x84\\\\\\\\xe6\\\\\\\\x97\\\\\\\\xb6\\\\\\\\xef\\\\\\\\xbc\\\\\\\\x8c\\\\\\\\xe6\\\\\\\\xaf\\\\\\\\x8f\\\\\\\\xe6\\\\\\\\xac\\\\\\\\xa1\\\\\\\\xe5\\\\\\\\xbe\\\\\\\\xaa\\\\\\\\xe7\\\\\\\\x8e\\\\\\\\xaf\\\\\\\\xe9\\\\\\\\x83\\\\\\\\xbd\\\\\\\\xe4\\\\\\\\xbc\\\\\\\\x9a\\\\\\\\xe6\\\\\\\\x89\\\\\\\\xa7\\\\\\\\xe8\\\\\\\\xa1\\\\\\\\x8cfab\\\\\\\\xe5\\\\\\\\x87\\\\\\\\xbd\\\\\\\\xe6\\\\\\\\x95\\\\\\\\xb0\\\\\\\\xe5\\\\\\\\x86\\\\\\\\x85\\\\\\\\xe9\\\\\\\\x83\\\\\\\\xa8\\\\\\\\xe7\\\\\\\\x9a\\\\\\\\x84\\\\\\\\xe4\\\\\\\\xbb\\\\\\\\xa3\\\\\\\\xe7\\\\\\\\xa0\\\\\\\\x81\\\\\\\\xef\\\\\\\\xbc\\\\\\\\x8c\\\\\\\\xe6\\\\\\\\x89\\\\\\\\xa7\\\\\\\\xe8\\\\\\\\xa1\\\\\\\\x8c\\\\\\\\xe5\\\\\\\\x88\\\\\\\\xb0yield b\\\\\\\\xe6\\\\\\\\x97\\\\\\\\xb6\\\\\\\\xef\\\\\\\\xbc\\\\\\\\x8cfab\\\\\\\\xe5\\\\\\\\x87\\\\\\\\xbd\\\\\\\\xe6\\\\\\\\x95\\\\\\\\xb0\\\\\\\\xe5\\\\\\\\xb0\\\\\\\\xb1\\\\\\\\xe8\\\\\\\\xbf\\\\\\\\x94\\\\\\\\xe5\\\\\\\\x9b\\\\\\\\x9e\\\\\\\\xe4\\\\\\\\xb8\\\\\\\\x80\\\\\\\\xe4\\\\\\\\xb8\\\\\\\\xaa\\\\\\\\xe8\\\\\\\\xbf\\\\\\\\xad\\\\\\\\xe4\\\\\\\\xbb\\\\\\\\xa3\\\\\\\\xe5\\\\\\\\x80\\\\\\\\xbc\\\\\\\\xef\\\\\\\\xbc\\\\\\\\x8c\\\\\\\\xe4\\\\\\\\xb8\\\\\\\\x8b\\\\\\\\xe6\\\\\\\\xac\\\\\\\\xa1\\\\\\\\xe8\\\\\\\\xbf\\\\\\\\xad\\\\\\\\xe4\\\\\\\\xbb\\\\\\\\xa3\\\\\\\\xe6\\\\\\\\x97\\\\\\\\xb6\\\\\\\\xef\\\\\\\\xbc\\\\\\\\x8c\\\\\\\\xe4\\\\\\\\xbb\\\\\\\\xa3\\\\\\\\xe7\\\\\\\\xa0\\\\\\\\x81\\\\\\\\xe4\\\\\\\\xbb\\\\\\\\x8eyield b\\\\\\\\xe7\\\\\\\\x9a\\\\\\\\x84\\\\\\\\xe4\\\\\\\\xb8\\\\\\\\x8b\\\\\\\\xe4\\\\\\\\xb8\\\\\\\\x80\\\\\\\\xe6\\\\\\\\x9d\\\\\\\\xa1\\\\\\\\xe8\\\\\\\\xaf\\\\\\\\xad\\\\\\\\xe5\\\\\\\\x8f\\\\\\\\xa5\\\\\\\\xe7\\\\\\\\xbb\\\\\\\\xa7\\\\\\\\xe7\\\\\\\\xbb\\\\\\\\xad\\\\\\\\xe6\\\\\\\\x89\\\\\\\\xa7\\\\\\\\xe8\\\\\\\\xa1\\\\\\\\x8c\\\\\\\\xef\\\\\\\\xbc\\\\\\\\x8c\\\\\\\\xe8\\\\\\\\x80\\\\\\\\x8c\\\\\\\\xe5\\\\\\\\x87\\\\\\\\xbd\\\\\\\\xe6\\\\\\\\x95\\\\\\\\xb0\\\\\\\\xe7\\\\\\\\x9a\\\\\\\\x84\\\\\\\\xe6\\\\\\\\x9c\\\\\\\\xac\\\\\\\\xe5\\\\\\\\x9c\\\\\\\\xb0\\\\\\\\xe5\\\\\\\\x8f\\\\\\\\x98\\\\\\\\xe9\\\\\\\\x87\\\\\\\\x8f\\\\\\\\xe7\\\\\\\\x9c\\\\\\\\x8b\\\\\\\\xe8'\n",
      "b'\\\\\\\\xb5\\\\\\\\xb7\\\\\\\\xe6\\\\\\\\x9d\\\\\\\\xa5\\\\\\\\xe5\\\\\\\\x92\\\\\\\\x8c\\\\\\\\xe4\\\\\\\\xb8\\\\\\\\x8a\\\\\\\\xe6\\\\\\\\xac\\\\\\\\xa1\\\\\\\\xe4\\\\\\\\xb8\\\\\\\\xad\\\\\\\\xe6\\\\\\\\x96\\\\\\\\xad\\\\\\\\xe6\\\\\\\\x89\\\\\\\\xa7\\\\\\\\xe8\\\\\\\\xa1\\\\\\\\x8c\\\\\\\\xe5\\\\\\\\x89\\\\\\\\x8d\\\\\\\\xe6\\\\\\\\x98\\\\\\\\xaf\\\\\\\\xe5\\\\\\\\xae\\\\\\\\x8c\\\\\\\\xe5\\\\\\\\x85\\\\\\\\xa8\\\\\\\\xe4\\\\\\\\xb8\\\\\\\\x80\\\\\\\\xe6\\\\\\\\xa0\\\\\\\\xb7\\\\\\\\xe7\\\\\\\\x9a\\\\\\\\x84\\\\\\\\xef\\\\\\\\xbc\\\\\\\\x8c\\\\\\\\xe4\\\\\\\\xba\\\\\\\\x8e\\\\\\\\xe6\\\\\\\\x98\\\\\\\\xaf\\\\\\\\xe5\\\\\\\\x87\\\\\\\\xbd\\\\\\\\xe6\\\\\\\\x95\\\\\\\\xb0\\\\\\\\xe7\\\\\\\\xbb\\\\\\\\xa7\\\\\\\\xe7\\\\\\\\xbb\\\\\\\\xad\\\\\\\\xe6\\\\\\\\x89\\\\\\\\xa7\\\\\\\\xe8\\\\\\\\xa1\\\\\\\\x8c\\\\\\\\xef\\\\\\\\xbc\\\\\\\\x8c\\\\\\\\xe7\\\\\\\\x9b\\\\\\\\xb4\\\\\\\\xe5\\\\\\\\x88\\\\\\\\xb0\\\\\\\\xe5\\\\\\\\x86\\\\\\\\x8d\\\\\\\\xe6\\\\\\\\xac\\\\\\\\xa1\\\\\\\\xe9\\\\\\\\x81\\\\\\\\x87\\\\\\\\xe5\\\\\\\\x88\\\\\\\\xb0yield\\\\\\\\xe3\\\\\\\\x80\\\\\\\\x82\\\\\"\\\\\\\\n   ]\\\\\\\\n  },\\\\\\\\n  {\\\\\\\\n   \\\\\"cell_type\\\\\": \\\\\"code\\\\\",\\\\\\\\n   \\\\\"execution_count\\\\\": 56,\\\\\\\\n   \\\\\"metadata\\\\\": {\\\\\\\\n    \\\\\"collapsed\\\\\": false\\\\\\\\n   },\\\\\\\\n   \\\\\"outputs\\\\\": [\\\\\\\\n    {\\\\\\\\n     \\\\\"name\\\\\": \\\\\"stdout\\\\\",\\\\\\\\n     \\\\\"output_type\\\\\": \\\\\"stre\\'\\\\n\",\\n      \"b\\'am\\\\\",\\\\\\\\n     \\\\\"text\\\\\": [\\\\\\\\n      \\\\\"1\\\\\\\\\\\\\\\\n\\\\\",\\\\\\\\n      \\\\\"1\\\\\\\\\\\\\\\\n\\\\\",\\\\\\\\n      \\\\\"2\\\\\\\\\\\\\\\\n\\\\\",\\\\\\\\n      \\\\\"3\\\\\\\\\\\\\\\\n\\\\\",\\\\\\\\n      \\\\\"5\\\\\\\\\\\\\\\\n\\\\\"\\\\\\\\n     ]\\\\\\\\n    },\\\\\\\\n    {\\\\\\\\n     \\\\\"ename\\\\\": \\\\\"StopIteration\\\\\",\\\\\\\\n     \\\\\"evalue\\\\\": \\\\\"\\\\\",\\\\\\\\n     \\\\\"output_type\\\\\": \\\\\"error\\\\\",\\\\\\\\n     \\\\\"traceback\\\\\": [\\\\\\\\n      \\\\\"\\\\\\\\\\\\\\\\u00'\n",
      "b'1b[1;31m---------------------------------------------------------------------------\\\\\\\\\\\\\\\\u001b[0m\\\\\",\\\\\\\\n      \\\\\"\\\\\\\\\\\\\\\\u001b[1;31mStopIteration\\\\\\\\\\\\\\\\u001b[0m                             Traceback (most recent call last)\\\\\",\\\\\\\\n      \\\\\"\\\\\\\\\\\\\\\\u001b[1;32m<ipython-input-56-8f0eedf9b966>\\\\\\\\\\\\\\\\u001b[0m in \\\\\\\\\\\\\\\\u001b[0;36m<module>\\\\\\\\\\\\\\\\u001b[1;34m()\\\\\\\\\\\\\\\\u001b[0m\\\\\\\\\\\\\\\\n\\\\\\\\\\\\\\\\u001b[0;32m      5\\\\\\\\\\\\\\\\u001b[0m \\\\\\\\\\\\\\\\u001b[0mprint\\\\\\\\\\\\\\\\u001b[0m\\\\\\\\\\\\\\\\u001b[1;33m(\\\\\\\\\\\\\\\\u001b[0m\\\\\\\\\\\\\\\\u001b[0mf\\\\\\\\\\\\\\\\u001b[0m\\\\\\\\\\\\\\\\u001b[1;33m.\\\\\\\\\\\\\\\\u001b[0m\\\\\\\\\\\\\\\\u001b[0m__next__\\\\\\\\\\\\\\\\u001b[0m\\\\\\\\\\\\\\\\u001b[1;33m(\\\\\\\\\\\\\\\\u001b[0m\\\\\\\\\\\\\\\\u001b[1;33m)\\\\\\\\\\\\\\\\u001b[0m\\\\\\\\\\\\\\\\u001b[1;33m)\\\\\\\\\\\\\\\\u001b[0m\\\\\\\\\\\\\\\\u001b[1;33m\\\\\\\\\\\\\\\\u001b[0m\\\\\\\\\\\\\\\\u001b[0m\\\\\\\\\\\\\\\\n\\\\\\\\\\\\\\\\u001b[0;32m      6\\\\\\\\\\\\\\\\u001b[0m \\\\\\\\\\\\\\\\u001b[0mprint\\\\\\\\\\\\\\\\u001b[0m\\\\\\\\\\\\\\\\u001b[1;33m(\\\\\\\\\\\\\\\\u001b[0m\\\\\\\\\\\\\\\\u001b[0mf\\\\\\\\\\\\\\\\u001b[0m\\\\\\\\\\\\\\\\u001b[1;33m.\\\\\\\\\\\\\\\\u001b[0m\\\\\\\\\\\\\\\\u001b[0m__next__\\\\\\\\\\\\\\\\u001b[0m\\\\\\\\\\\\\\\\u001b[1;33m(\\\\\\\\\\\\\\\\u001b[0m\\\\\\\\\\\\\\\\u001b[1;33m)\\\\\\\\\\\\\\\\u001b[0m\\\\\\\\\\\\\\\\u001b[1;33m)\\\\\\\\\\\\\\\\u001b[0m\\\\\\\\\\\\\\\\u001b[1;33m\\\\\\\\\\\\\\\\u001b[0m\\\\\\\\\\\\\\\\u001b[0m\\\\\\\\\\\\\\\\n\\\\\\\\\\\\\\\\u001b[1;32m----> 7\\\\\\\\\\\\\\\\u00\\'\\\\n\",\\n      \"b\\'1b[1;33m \\\\\\\\\\\\\\\\u001b[0mprint'\n",
      "b'\\\\\\\\\\\\\\\\u001b[0m\\\\\\\\\\\\\\\\u001b[1;33m(\\\\\\\\\\\\\\\\u001b[0m\\\\\\\\\\\\\\\\u001b[0mf\\\\\\\\\\\\\\\\u001b[0m\\\\\\\\\\\\\\\\u001b[1;33m.\\\\\\\\\\\\\\\\u001b[0m\\\\\\\\\\\\\\\\u001b[0m__next__\\\\\\\\\\\\\\\\u001b[0m\\\\\\\\\\\\\\\\u001b[1;33m(\\\\\\\\\\\\\\\\u001b[0m\\\\\\\\\\\\\\\\u001b[1;33m)\\\\\\\\\\\\\\\\u001b[0m\\\\\\\\\\\\\\\\u001b[1;33m)\\\\\\\\\\\\\\\\u001b[0m\\\\\\\\\\\\\\\\u001b[1;33m\\\\\\\\\\\\\\\\u001b[0m\\\\\\\\\\\\\\\\u001b[0m\\\\\\\\\\\\\\\\n\\\\\\\\\\\\\\\\u001b[0m\\\\\",\\\\\\\\n      \\\\\"\\\\\\\\\\\\\\\\u001b[1;31mStopIteration\\\\\\\\\\\\\\\\u001b[0m: \\\\\"\\\\\\\\n     ]\\\\\\\\n    }\\\\\\\\n   ],\\\\\\\\n   \\\\\"source\\\\\": [\\\\\\\\n    \\\\\"f = fab(5)\\\\\\\\\\\\\\\\n\\\\\",\\\\\\\\n    \\\\\"print(f.__next__())\\\\\\\\\\\\\\\\n\\\\\",\\\\\\\\n    \\\\\"print(f.__next__())\\\\\\\\\\\\\\\\n\\\\\",\\\\\\\\n    \\\\\"print(f.__next__())\\\\\\\\\\\\\\\\n\\\\\",\\\\\\\\n    \\\\\"print(f.__next__())\\\\\\\\\\\\\\\\n\\\\\",\\\\\\\\n    \\\\\"print(f.__next__())\\\\\\\\\\\\\\\\n\\\\\",\\\\\\\\n    \\\\\"print(f.__next__())\\\\\"\\\\\\\\n   ]\\\\\\\\n  },\\\\\\\\n  {\\\\\\\\n   \\\\\"cell_type\\\\\": \\\\\"markdown\\\\\",\\\\\\\\n   \\\\\"metadata\\\\\": {},\\\\\\\\n   \\\\\"source\\\\\": [\\\\\\\\n    \\\\\"\\\\\\\\xe5\\\\\\\\x9c\\\\\\\\xa8\\\\\\\\xe5\\\\\\\\x87\\\\\\\\xbd\\\\\\\\xe6\\\\\\\\x95\\\\\\\\xb0\\\\\\\\xe6\\\\\\\\x89\\\\\\\\xa7\\\\\\\\xe8\\\\\\\\xa1\\\\\\\\x8c\\\\\\\\xe7\\\\\\\\xbb\\\\\\\\x93\\\\\\\\xe6\\\\\\\\x9d\\\\\\\\x9f\\\\\\\\xe6\\\\\\\\x97\\\\\\\\xb6\\\\\\\\xef\\\\\\\\xbc\\\\\\\\x8cgenerator\\\\\\\\xe8\\\\\\\\x87\\\\\\\\xaa\\\\\\\\xe5\\\\\\\\x8a\\\\\\\\xa8\\\\\\\\xe6\\\\\\\\x8a\\\\\\\\x9b\\\\\\\\xe5\\\\\\\\x87\\\\\\\\xbaStopIteration\\\\\\\\xe5\\\\\\\\xbc\\\\\\\\x82\\\\\\\\xe5\\\\\\\\xb8\\\\\\\\xb8\\\\\\\\xef\\\\\\\\xbc\\\\\\\\x8c\\\\\\\\xe8\\\\\\\\xa1\\\\\\\\xa8\\\\\\\\xe7\\\\\\\\xa4\\\\\\\\xba\\\\\\\\xe8\\\\\\\\xbf\\\\\\\\xad\\\\\\\\xe4\\\\\\\\x'\n",
      "b'bb\\\\\\\\xa3\\\\\\\\xe5\\\\\\\\xae\\\\\\\\x8c\\\\\\\\xe6\\\\\\\\x88\\\\\\\\x90\\\\\\\\xe3\\\\\\\\x80\\\\\\\\x82\\\\\\\\xe5\\\\\\\\x9c\\\\\\\\xa8for\\\\\\\\xe5\\\\\\\\xbe\\\\\\\\xaa\\\\\\\\xe7\\\\\\\\x8e\\\\\\\\xaf\\\\\\\\xe9\\\\\\\\x87\\\\\\\\x8c\\\\\\\\xef\\\\\\\\xbc\\\\\\\\x8c\\\\\\\\xe6\\\\\\\\x97\\\\\\\\xa0\\\\\\\\xe9\\\\\\\\x9c\\\\\\\\x80\\\\\\\\xe5\\\\\\\\xa4\\\\\\\\x84\\\\\\\\xe7\\\\\\\\x90\\\\\\\\x86StopIteration\\\\\\\\xe5\\\\\\\\xbc\\\\\\\\x82\\\\\\\\xe5\\\\\\\\xb8\\\\\\\\xb8\\\\\\\\xef\\\\\\\\xbc\\\\\\\\x8c\\\\\\\\xe5\\\\\\\\xbe\\\\\\\\xaa\\\\\\\\xe7\\\\\\\\x8e\\\\\\\\xaf\\\\\\\\xe4\\\\\\\\xbc\\\\\\\\x9a\\\\\\\\xe8\\\\\\\\x87\\\\\\\\xaa\\\\\\\\xe5\\\\\\\\x8a\\\\\\\\xa8\\\\\\\\xe7\\\\\\\\xbb\\\\\\\\x93\\\\\\\\xe6\\\\\\\\x9d\\\\\\\\x9f\\\\\\\\xe3\\\\\\\\x80\\\\\\\\x82\\\\\"\\\\\\\\n   ]\\\\\\\\n  },\\\\\\\\n  {\\\\\\\\n   \\\\\"cell_type\\\\\": \\\\\"markdown\\\\\",\\\\\\\\n   \\\\\"metadata\\\\\": {},\\\\\\\\n   \\\\\"source\\\\\": [\\\\\\\\n    \\\\\"\\\\\\\\xe4\\\\\\\\xb8\\\\\\\\x80\\\\\\\\xe4\\\\\\\\xb8\\\\\\\\xaa\\\\\\\\xe5\\\\\\\\xb8\\\\\\\\xa6\\\\\\\\xe6\\\\\\\\x9c\\\\\\\\x89 yield \\\\\\\\xe7\\\\\\\\x9a\\\\\\\\x84\\\\\\\\xe5\\\\\\\\x87\\\\\\\\xbd\\\\\\\\xe6\\\\\\\\x95\\\\\\\\xb0\\\\\\\\xe5\\\\\\\\xb0\\\\\\\\xb1\\\\\\\\xe6\\\\\\\\x98\\\\\\\\xaf\\\\\\\\xe4\\\\\\\\xb8\\\\\\\\x80\\\\\\\\xe4\\\\\\\\xb8\\\\\\\\xaa generator\\\\\\\\xef\\\\\\\\xbc\\\\\\\\x8c\\\\\\\\xe5\\\\\\\\xae\\\\\\\\x83\\\\\\\\xe5\\\\\\\\x92\\\\\\\\x8c\\\\\\\\xe6\\\\\\\\x99\\\\\\\\xae\\\\\\\\xe9\\\\\\\\x80\\\\\\\\x9a\\\\\\\\xe5\\\\\\\\x87\\\\\\\\xbd\\\\\\\\xe6\\\\\\\\x95\\\\\\\\xb0\\\\\\\\xe4\\\\\\\\xb8\\\\\\\\x8d\\\\\\\\xe5\\\\\\\\x90\\\\\\\\x8c\\\\\\\\xef\\\\\\\\xbc\\\\\\\\x8c\\\\\\\\xe7\\\\\\\\x94\\\\\\\\x9f\\\\\\\\xe6\\\\\\\\x88\\\\\\\\x90\\\\\\\\xe4\\\\\\\\xb8\\\\\\\\x80\\\\\\\\xe4\\\\\\\\xb8\\\\\\\\xaa generator \\\\\\\\xe7\\\\\\\\x9c\\\\\\\\x8b\\\\\\\\xe8\\\\\\\\xb5\\\\\\\\xb7\\\\\\\\xe6\\\\\\\\x9d\\\\\\\\xa5\\\\\\\\xe5\\\\\\\\x83\\\\\\\\x8f\\\\\\\\xe5\\\\\\\\x87\\\\\\\\xbd\\\\\\\\xe6\\\\\\\\x95\\\\\\\\xb0\\\\\\\\xe8\\\\\\\\xb0\\\\\\\\x83\\\\\\\\xe7\\\\\\\\x94\\\\\\\\xa8\\\\\\\\xef\\\\\\\\xbc\\\\\\\\x8c\\\\\\\\xe4\\\\\\\\xbd\\\\'\n",
      "b'\\\\x86\\\\\\\\xe4\\\\\\\\xb8\\\\\\\\x8d\\\\\\\\xe4\\\\\\\\xbc\\\\\\\\x9a\\\\\\\\xe6\\\\\\\\x89\\\\\\\\xa7\\\\\\\\xe8\\\\\\\\xa1\\\\\\\\x8c\\\\\\\\xe4\\\\\\\\xbb\\\\\\\\xbb\\\\\\\\xe4\\\\\\\\xbd\\\\\\\\x95\\\\\\\\xe5\\\\\\\\x87\\\\\\\\xbd\\\\\\\\xe6\\\\\\\\x95\\\\\\\\xb0\\\\\\\\xe4\\\\\\\\xbb\\\\\\\\xa3\\\\\\\\xe7\\\\\\\\xa0\\\\\\\\x81\\\\\\\\xef\\\\\\\\xbc\\\\\\\\x8c\\\\\\\\xe7\\\\\\\\x9b\\\\\\\\xb4\\\\\\\\xe5\\\\\\\\x88\\\\\\\\xb0\\\\\\\\xe5\\\\\\\\xaf\\\\\\\\xb9\\\\\\\\xe5\\\\\\\\x85\\\\\\\\xb6\\\\\\\\xe8\\\\\\\\xb0\\\\\\\\x83\\\\\\\\xe7\\\\\\\\x94\\\\\\\\xa8 next()\\\\\\\\xef\\'\\\\n\",\\n      \"b\\'\\\\\\\\xbc\\\\\\\\x88\\\\\\\\xe5\\\\\\\\x9c\\\\\\\\xa8 for \\\\\\\\xe5\\\\\\\\xbe\\\\\\\\xaa\\\\\\\\xe7\\\\\\\\x8e\\\\\\\\xaf\\\\\\\\xe4\\\\\\\\xb8\\\\\\\\xad\\\\\\\\xe4\\\\\\\\xbc\\\\\\\\x9a\\\\\\\\xe8\\\\\\\\x87\\\\\\\\xaa\\\\\\\\xe5\\\\\\\\x8a\\\\\\\\xa8\\\\\\\\xe8\\\\\\\\xb0\\\\\\\\x83\\\\\\\\xe7\\\\\\\\x94\\\\\\\\xa8 next()\\\\\\\\xef\\\\\\\\xbc\\\\\\\\x89\\\\\\\\xe6\\\\\\\\x89\\\\\\\\x8d\\\\\\\\xe5\\\\\\\\xbc\\\\\\\\x80\\\\\\\\xe5\\\\\\\\xa7\\\\\\\\x8b\\\\\\\\xe6\\\\\\\\x89\\\\\\\\xa7\\\\\\\\xe8\\\\\\\\xa1\\\\\\\\x8c\\\\\\\\xe3\\\\\\\\x80\\\\\\\\x82\\\\\\\\xe8\\\\\\\\x99\\\\\\\\xbd\\\\\\\\xe7\\\\\\\\x84\\\\\\\\xb6\\\\\\\\xe6\\\\\\\\x89\\\\\\\\xa7\\\\\\\\xe8\\\\\\\\xa1\\\\\\\\x8c\\\\\\\\xe6\\\\\\\\xb5\\\\\\\\x81\\\\\\\\xe7\\\\\\\\xa8\\\\\\\\x8b\\\\\\\\xe4\\\\\\\\xbb\\\\\\\\x8d\\\\\\\\xe6\\\\\\\\x8c\\\\\\\\x89\\\\\\\\xe5\\\\\\\\x87\\\\\\\\xbd\\\\\\\\xe6\\\\\\\\x95\\\\\\\\xb0\\\\\\\\xe7\\\\\\\\x9a\\\\\\\\x84\\\\\\\\xe6\\\\\\\\xb5\\\\\\\\x81\\\\\\\\xe7\\\\\\\\xa8\\\\\\\\x8b\\\\\\\\xe6\\\\\\\\x89\\\\\\\\xa7\\\\\\\\xe8\\\\\\\\xa1\\\\\\\\x8c\\\\\\\\xef\\\\\\\\xbc\\\\\\\\x8c\\\\\\\\xe4\\\\\\\\xbd\\\\\\\\x86\\\\\\\\xe6\\\\\\\\xaf\\\\\\\\x8f\\\\\\\\xe6\\\\\\\\x89\\\\\\\\xa7\\\\\\\\xe8\\\\\\\\xa1\\\\\\\\x8c\\\\\\\\xe5\\\\\\\\x88\\\\\\\\xb0\\\\\\\\xe4\\\\\\\\xb8\\\\\\\\x80\\\\\\\\xe4\\\\\\\\xb8\\\\\\\\xaa yield \\\\\\\\xe8\\\\\\\\xaf\\\\\\\\xad\\\\\\\\xe5\\\\\\\\x8f\\\\\\\\xa5\\\\\\\\xe5\\\\\\\\xb0\\\\\\\\xb1\\\\\\\\xe4\\\\\\\\xbc\\\\\\\\x9a\\\\\\\\xe4\\\\\\\\xb8\\\\\\\\xad\\\\\\\\xe6\\\\\\\\x96\\\\\\\\xad\\\\\\\\xef\\\\\\\\xbc\\\\\\\\x8c\\\\\\\\xe5\\\\\\\\xb9\\\\\\\\xb6\\\\\\\\xe'\n",
      "b'8\\\\\\\\xbf\\\\\\\\x94\\\\\\\\xe5\\\\\\\\x9b\\\\\\\\x9e\\\\\\\\xe4\\\\\\\\xb8\\\\\\\\x80\\\\\\\\xe4\\\\\\\\xb8\\\\\\\\xaa\\\\\\\\xe8\\\\\\\\xbf\\\\\\\\xad\\\\\\\\xe4\\\\\\\\xbb\\\\\\\\xa3\\\\\\\\xe5\\\\\\\\x80\\\\\\\\xbc\\\\\\\\xef\\\\\\\\xbc\\\\\\\\x8c\\\\\\\\xe4\\\\\\\\xb8\\\\\\\\x8b\\\\\\\\xe6\\\\\\\\xac\\\\\\\\xa1\\\\\\\\xe6\\\\\\\\x89\\\\\\\\xa7\\\\\\\\xe8\\\\\\\\xa1\\\\\\\\x8c\\\\\\\\xe6\\\\\\\\x97\\\\\\\\xb6\\\\\\\\xe4\\\\\\\\xbb\\\\\\\\x8e yield \\\\\\\\xe7\\\\\\\\x9a\\\\\\\\x84\\\\\\\\xe4\\\\\\\\xb8\\\\\\\\x8b\\\\\\\\xe4\\\\\\\\xb8\\\\\\\\x80\\\\\\\\xe4\\\\\\\\xb8\\\\\\\\xaa\\\\\\\\xe8\\\\\\\\xaf\\\\\\\\xad\\\\\\\\xe5\\\\\\\\x8f\\\\\\\\xa5\\\\\\\\xe7\\\\\\\\xbb\\\\\\\\xa7\\\\\\\\xe7\\\\\\\\xbb\\\\\\\\xad\\\\\\\\xe6\\\\\\\\x89\\\\\\\\xa7\\\\\\\\xe8\\\\\\\\xa1\\\\\\\\x8c\\\\\\\\xe3\\\\\\\\x80\\\\\\\\x82\\\\\\\\xe7\\\\\\\\x9c\\\\\\\\x8b\\\\\\\\xe8\\\\\\\\xb5\\\\\\\\xb7\\\\\\\\xe6\\\\\\\\x9d\\\\\\\\xa5\\\\\\\\xe5\\\\\\\\xb0\\\\\\\\xb1\\\\\\\\xe5\\\\\\\\xa5\\\\\\\\xbd\\\\\\\\xe5\\\\\\\\x83\\\\\\\\x8f\\\\\\\\xe4\\\\\\\\xb8\\\\\\\\x80\\\\\\\\xe4\\\\\\\\xb8\\\\\\\\xaa\\\\\\\\xe5\\\\\\\\x87\\\\\\\\xbd\\\\\\\\xe6\\\\\\\\x95\\\\\\\\xb0\\\\\\\\xe5\\\\\\\\x9c\\\\\\\\xa8\\\\\\\\xe6\\\\\\\\xad\\\\\\\\xa3\\\\\\\\xe5\\\\\\\\xb8\\\\\\\\xb8\\\\\\\\xe6\\\\\\\\x89\\\\\\\\xa7\\\\\\\\xe8\\\\\\\\xa1\\\\\\\\x8c\\\\\\\\xe7\\\\\\\\x9a\\\\\\\\x84\\\\\\\\xe8\\\\\\\\xbf\\\\\\\\x87\\\\\\\\xe7\\\\\\\\xa8\\\\\\\\x8b\\\\\\\\xe4\\\\\\\\xb8\\\\\\\\xad\\\\\\\\xe8\\\\\\\\xa2\\\\\\\\xab yield \\\\\\\\xe4\\\\\\\\xb8\\\\\\\\xad\\\\\\\\xe6\\\\\\\\x96\\\\\\\\xad\\\\\\\\xe4\\\\\\\\xba\\\\\\\\x86\\\\\\\\xe6\\\\\\\\x95\\\\\\\\xb0\\\\\\\\xe6\\\\\\\\xac\\\\\\\\xa1\\\\\\\\xef\\\\\\\\xbc\\\\\\\\x8c\\\\\\\\xe6\\\\\\\\xaf\\\\\\\\x8f\\\\\\\\xe6\\\\\\\\xac\\\\\\\\xa1\\\\\\\\xe4\\\\\\\\xb8\\\\\\\\xad\\\\\\\\xe6\\\\\\\\x96\\\\\\\\xad\\\\\\\\xe9\\\\\\\\x83\\\\\\\\xbd\\\\\\\\xe4\\\\\\\\xbc\\\\\\\\x9a\\\\\\\\xe9\\\\\\\\x80\\\\\\\\x9a\\\\\\\\xe8\\\\\\\\xbf\\\\\\\\x87 yield \\\\\\\\xe8\\\\\\\\xbf\\\\\\\\x94\\\\\\\\xe5\\\\\\\\x9b\\\\\\\\x9e\\\\\\\\xe5\\\\\\\\xbd\\\\\\\\x93\\\\\\\\xe5\\\\\\\\x89\\\\\\\\x8d\\\\\\\\xe7\\\\\\\\x9a\\\\\\\\x84\\\\\\\\xe8\\\\\\\\xbf\\\\\\\\xad\\\\\\\\xe4\\\\\\\\xbb\\\\\\\\xa3\\\\\\\\xe5\\\\\\\\x80\\\\\\\\xbc\\\\\\\\'\n",
      "b'xe3\\\\\\\\x80\\\\\\\\x82\\\\\"\\\\\\\\n   ]\\\\\\\\n  },\\\\\\\\n  {\\\\\\\\n   \\\\\"cell_type\\\\\": \\\\\"markdown\\\\\",\\\\\\\\n   \\\\\"metadata\\\\\": {},\\\\\\\\n   \\\\\"source\\\\\": [\\\\\\\\n    \\\\\"yield \\\\\\\\xe7\\\\\\\\x9a\\\\\\\\x84\\\\\\\\xe5\\\\\\\\xa5\\\\\\\\xbd\\\\\\\\xe5\\\\\\\\xa4\\\\\\\\x84\\\\\\\\xe6\\\\\\\\x98\\\\\\\\xaf\\\\\\\\xe6\\\\\\\\x98\\\\\\\\xbe\\\\\\\\xe8\\\\\\\\x80\\\\\\\\x8c\\\\\\\\xe6\\\\\\\\x98\\\\\\\\x93\\\\\\\\xe8\\\\\\\\xa7\\\\\\\\x81\\\\\\\\xe7\\\\\\\\x9a\\\\\\\\x84\\\\\\\\xef\\\\\\\\xbc\\\\\\\\x8c\\\\\\\\xe6\\\\\\\\x8a\\\\\\\\x8a\\\\\\\\xe4\\\\\\\\xb8\\\\\\\\x80\\\\\\\\xe4\\\\\\\\xb8\\\\\\\\xaa\\\\\\\\xe5\\\\\\\\x87\\\\\\\\xbd\\\\\\\\xe6\\\\\\\\x95\\\\\\\\xb0\\\\\\\\xe6\\\\\\\\x94\\\\\\\\xb9\\\\\\\\xe5\\\\\\\\x86\\\\\\\\x99\\\\\\\\xe4\\\\\\\\xb8\\\\\\\\xba\\\\\\\\xe4\\\\\\\\xb8\\\\\\\\x80\\\\\\\\xe4\\\\\\\\xb8\\\\\\\\xaa generator \\\\\\\\xe5\\\\\\\\xb0\\\\\\\\xb1\\\\\\\\xe8\\\\\\\\x8e\\\\\\\\xb7\\\\\\\\xe5\\\\\\\\xbe\\\\\\\\x97\\\\\\\\xe4\\\\\\\\xba\\\\\\\\x86\\\\\\\\xe8\\\\\\\\xbf\\\\\\\\xad\\\\\\\\xe4\\\\\\\\xbb\\\\\\\\xa3\\\\\\\\xe8\\\\\\\\x83\\\\\\\\xbd\\\\\\\\xe5\\\\\\\\x8a\\\\\\\\x9b\\\\\\\\xef\\\\\\\\xbc\\\\\\\\x8c\\\\\\\\xe6\\\\\\\\xaf\\\\\\\\x94\\\\\\\\xe8\\\\\\\\xb5\\\\\\\\xb7\\\\\\\\xe7\\\\\\\\x94\\\\\\\\xa8\\\\\\\\xe7\\\\\\\\xb1\\\\\\\\xbb\\\\\\\\xe7\\\\\\\\x9a\\\\\\\\x84\\\\\\\\xe5\\\\\\\\xae\\\\\\\\x9e\\\\\\\\xe4\\\\\\\\xbe\\\\\\\\x8b\\\\\\\\xe4\\\\\\\\xbf\\\\\\\\x9d\\\\\\\\xe5\\\\\\\\xad\\\\\\\\x98\\\\\\\\xe7\\\\\\\\x8a\\\\\\\\xb6\\\\\\\\xe6\\\\\\\\x80\\\\\\\\x81\\\\\\\\xe6\\\\\\\\x9d\\\\\\\\xa5\\\\\\\\xe8\\\\\\\\xae\\\\\\\\xa1\\\\\\\\xe7\\\\\\\\xae\\\\\\\\x97\\\\\\\\xe4\\\\\\\\xb8\\\\\\\\x8b\\\\\\\\xe4\\\\\\\\xb8\\\\\\\\x80\\\\\\\\xe4\\\\\\\\xb8\\\\\\\\xaa next() \\\\\\\\xe7\\\\\\\\x9a\\\\\\\\x84\\\\\\\\xe5\\\\\\\\x80\\\\\\\\xbc\\\\\\\\xef\\\\\\\\xbc\\\\\\\\x8c\\\\\\\\xe4\\\\\\\\xb8\\\\\\\\x8d\\\\\\\\xe4\\\\\\\\xbb\\\\\\\\x85\\\\\\\\xe4\\\\\\\\xbb\\\\\\\\xa3\\\\\\\\xe7\\\\\\\\xa0\\\\\\\\x81\\\\\\\\xe7\\\\\\\\xae\\\\\\\\x80\\\\\\\\xe6\\\\\\\\xb4\\\\\\\\x81\\\\\\\\xef\\\\\\\\xbc\\\\\\\\x8c\\\\\\\\xe8\\\\\\\\x80\\\\\\\\x8c\\\\\\\\xe4\\\\\\\\xb8\\\\\\\\x94\\\\\\\\xe6\\\\\\\\x8'\n",
      "b'9\\\\\\\\xa7\\\\\\\\xe8\\\\\\\\xa1\\\\\\\\x8c\\\\\\\\xe6\\\\\\\\xb5\\\\\\\\x81\\\\\\\\xe7\\\\\\\\xa8\\\\\\\\x8b\\\\\\\\xe5\\\\\\\\xbc\\\\\\\\x82\\\\\\\\xe5\\\\\\\\xb8\\\\\\\\xb8\\\\\\\\xe6\\\\\\\\xb8\\\\\\\\x85\\\\\\\\xe6\\\\\\\\x99\\\\\\\\xb0\\\\\\\\xe3\\\\\\\\x80\\\\\\\\x82\\\\\\\\\\\\\\\\n\\\\\",\\\\\\\\n    \\\\\"\\\\\\\\\\\\\\\\n\\\\\",\\\\\\\\n    \\\\\"\\\\\\\\xe5\\\\\\\\xa6\\\\\\\\x82\\\\\\\\xe4\\\\\\\\xbd\\\\\\\\x95\\\\\\\\xe5\\\\\\\\x88\\\\\\\\xa4\\\\\\\\xe6\\\\\\\\x96\\\\\\\\xad\\\\\\\\xe4\\\\\\\\xb8\\\\\\\\x80\\\\\\\\xe4\\\\\\\\xb8\\\\\\\\xaa\\\\\\\\xe5\\\\\\\\x87\\\\\\\\xbd\\\\\\\\xe6\\\\\\\\x95\\\\\\\\xb0\\\\\\\\xe6\\\\\\\\x98\\\\\\\\xaf\\\\\\\\xe5\\\\\\\\x90\\\\\\\\xa6\\\\\\\\xe6\\\\\\\\x98\\\\\\\\xaf\\\\\\\\xe4\\\\\\\\xb8\\\\\\\\x80\\\\\\\\xe4\\\\\\\\xb8\\\\\\\\xaa\\\\\\\\xe7\\\\\\\\x89\\\\\\\\xb9\\\\\\\\xe6\\\\\\\\xae\\\\\\\\x8a\\\\\\\\xe7\\\\\\\\x9a\\\\\\\\x84 generator \\\\\\\\xe5\\\\\\\\x87\\\\\\\\xbd\\\\\\\\xe6\\\\\\\\x95\\\\\\\\xb0\\\\\\\\xef\\\\\\\\xbc\\\\\\\\x9f\\\\\\\\xe5\\\\\\\\x8f\\\\\\\\xaf\\\\\\\\xe4\\\\\\\\xbb\\\\\\\\xa5\\\\\\\\xe5\\\\\\\\x88\\\\\\\\xa9\\\\\\\\xe7\\\\\\\\x94\\\\\\\\xa8 isgeneratorfunction \\\\\\\\xe5\\\\\\\\x88\\\\\\\\xa4\\\\\\\\xe6\\\\\\\\x96\\\\\\\\xad\\\\\\\\xef\\\\\\\\xbc\\\\\\\\x9a\\\\\\\\\\\\\\\\n\\\\\",\\\\\\\\n    \\\\\"\\\\\\\\\\\\\\\\n\\\\\"\\\\\\\\n   ]\\\\\\\\n  },\\\\\\\\n  {\\\\\\\\n   \\\\\"cell_type\\\\\": \\\\\"code\\\\\",\\\\\\\\n   \\\\\"execution_count\\\\\": null,\\\\\\\\n   \\\\\"metadata\\\\\": {\\\\\\\\n    \\\\\"collapsed\\\\\": false\\\\\\\\n   },\\\\\\\\n   \\\\\"outputs\\\\\": [],\\\\\\\\n   \\\\\"source\\\\\": [\\\\\\\\n    \\\\\"from inspect import isgeneratorfun\\'\\\\n\",\\n      \"b\\'ction\\\\\\\\\\\\\\\\n\\\\\",\\\\\\\\n    \\\\\"isgeneratorfunction(fab)\\\\\"\\\\\\\\n   ]\\\\\\\\n  },\\\\\\\\n  {\\\\\\\\n   \\\\\"cell_type\\\\\": \\\\\"markdown\\\\\",\\\\\\\\n   \\\\\"metadata\\\\\": {},\\\\\\\\n   \\\\\"source\\\\\": [\\\\\\\\n    \\\\\"\\\\\\\\xe8\\\\\\\\xa6\\\\\\\\x81\\\\\\\\xe6\\\\\\\\xb3\\\\\\\\x'\n",
      "b'a8\\\\\\\\xe6\\\\\\\\x84\\\\\\\\x8f\\\\\\\\xe5\\\\\\\\x8c\\\\\\\\xba\\\\\\\\xe5\\\\\\\\x88\\\\\\\\x86fab\\\\\\\\xe5\\\\\\\\x92\\\\\\\\x8cfab(5)\\\\\\\\xef\\\\\\\\xbc\\\\\\\\x8cfab\\\\\\\\xe6\\\\\\\\x98\\\\\\\\xafgenerator function\\\\\\\\xef\\\\\\\\xbc\\\\\\\\x8c\\\\\\\\xe8\\\\\\\\x80\\\\\\\\x8cfab(5)\\\\\\\\xe6\\\\\\\\x98\\\\\\\\xaf\\\\\\\\xe8\\\\\\\\xb0\\\\\\\\x83\\\\\\\\xe7\\\\\\\\x94\\\\\\\\xa8fab\\\\\\\\xe8\\\\\\\\xbf\\\\\\\\x94\\\\\\\\xe5\\\\\\\\x9b\\\\\\\\x9e\\\\\\\\xe7\\\\\\\\x9a\\\\\\\\x84\\\\\\\\xe4\\\\\\\\xb8\\\\\\\\x80\\\\\\\\xe4\\\\\\\\xb8\\\\\\\\xaagenerator\\\\\\\\xef\\\\\\\\xbc\\\\\\\\x8c\\\\\\\\xe5\\\\\\\\xa5\\\\\\\\xbd\\\\\\\\xe6\\\\\\\\xaf\\\\\\\\x94\\\\\\\\xe7\\\\\\\\xb1\\\\\\\\xbb\\\\\\\\xe7\\\\\\\\x9a\\\\\\\\x84\\\\\\\\xe5\\\\\\\\xae\\\\\\\\x9a\\\\\\\\xe4\\\\\\\\xb9\\\\\\\\x89\\\\\\\\xe5\\\\\\\\x92\\\\\\\\x8c\\\\\\\\xe7\\\\\\\\xb1\\\\\\\\xbb\\\\\\\\xe7\\\\\\\\x9a\\\\\\\\x84\\\\\\\\xe5\\\\\\\\xae\\\\\\\\x9e\\\\\\\\xe7\\\\\\\\xb2\\\\\\\\x92\\\\\\\\xe7\\\\\\\\x9a\\\\\\\\x84\\\\\\\\xe5\\\\\\\\x8c\\\\\\\\xba\\\\\\\\xe5\\\\\\\\x88\\\\\\\\xab\\\\\\\\xef\\\\\\\\xbc\\\\\\\\x9a\\\\\"\\\\\\\\n   ]\\\\\\\\n  },\\\\\\\\n  {\\\\\\\\n   \\\\\"cell_type\\\\\": \\\\\"code\\\\\",\\\\\\\\n   \\\\\"execution_count\\\\\": null,\\\\\\\\n   \\\\\"metadata\\\\\": {\\\\\\\\n    \\\\\"collapsed\\\\\": false\\\\\\\\n   },\\\\\\\\n   \\\\\"outputs\\\\\": [],\\\\\\\\n   \\\\\"source\\\\\": [\\\\\\\\n    \\\\\"import types\\\\\\\\\\\\\\\\n\\\\\",\\\\\\\\n    \\\\\"print(isinstance(fab,types.GeneratorType))\\\\\\\\\\\\\\\\n\\\\\",\\\\\\\\n    \\\\\"print(isinstance(fab(5),types.GeneratorType))\\\\\"\\\\\\\\n   ]\\\\\\\\n  },\\\\\\\\n  {\\\\\\\\n   \\\\\"cell_type\\\\\": \\\\\"markdown\\\\\",\\\\\\\\n   \\\\\"metadata\\\\\": {},\\\\\\\\n   \\\\\"source\\\\\": [\\\\\\\\n    \\\\\"\\\\\\\\xe6\\\\\\\\xaf\\\\\\\\x8f\\\\\\\\xe6\\\\\\\\xac\\\\\\\\xa1\\\\\\\\xe8\\\\\\\\xb0\\\\\\\\x83\\\\\\\\xe7\\\\\\\\x94\\\\\\\\xa8fab\\\\'\n",
      "b'\\\\xe5\\\\\\\\x87\\\\\\\\xbd\\\\\\\\xe6\\\\\\\\x95\\\\\\\\xb0\\\\\\\\xe9\\\\\\\\x83\\\\\\\\xbd\\\\\\\\xe4\\\\\\\\xbc\\\\\\\\x9a\\\\\\\\xe7\\\\\\\\x94\\\\\\\\x9f\\\\\\\\xe6\\\\\\\\x88\\\\\\\\x90\\\\\\\\xe4\\\\\\\\xb8\\\\\\\\x80\\\\\\\\xe4\\\\\\\\xb8\\\\\\\\xaa\\\\\\\\xe6\\\\\\\\x96\\\\\\\\xb0\\\\\\\\xe7\\\\\\\\x9a\\\\\\\\x84generator\\\\\\\\xe5\\\\\\\\xae\\\\\\\\x9e\\\\\\\\xe4\\\\\\\\xbe\\\\\\\\x8b\\\\\\\\xef\\\\\\\\xbc\\\\\\\\x8c\\\\\\\\xe5\\\\\\\\x90\\\\\\\\x84\\\\\\\\xe5\\\\\\\\xae\\\\\\\\x9e\\\\\\\\xe4\\\\\\\\xbe\\\\\\\\x8b\\\\\\\\xe4\\\\\\\\xba\\\\\\\\x92\\\\\\\\xe4\\\\\\\\xb8\\\\\\\\x8d\\\\\\\\xe5\\\\\\\\xbd\\\\\\\\xb1\\\\\\\\xe5\\\\\\\\x93\\\\\\\\x8d:\\\\\"\\\\\\\\n   ]\\\\\\\\n  },\\\\\\\\n  {\\\\\\\\n   \\\\\"cell_type\\\\\": \\\\\"code\\\\\",\\\\\\\\n   \\\\\"execution_count\\\\\": 60,\\\\\\\\n   \\\\\"metadata\\\\\": {\\\\\\\\n    \\\\\"collapsed\\\\\": false\\\\\\\\n   },\\\\\\\\n   \\\\\"outputs\\\\\": [\\\\\\\\n    {\\\\\\\\n     \\\\\"name\\\\\": \\\\\"stdout\\\\\",\\\\\\\\n     \\\\\"output_type\\\\\": \\\\\"stream\\\\\",\\\\\\\\n     \\\\\"text\\\\\": [\\\\\\\\n      \\\\\"f1: 1\\\\\\\\\\\\\\\\n\\\\\",\\\\\\\\n      \\\\\"f2: 1\\\\\\\\\\\\\\\\n\\\\\",\\\\\\\\n      \\\\\"f1: 1\\\\\\\\\\\\\\\\n\\\\\",\\\\\\\\n      \\\\\"f2: 1\\\\\\\\\\\\\\\\n\\\\\",\\\\\\\\n      \\\\\"f1: 2\\\\\\\\\\\\\\\\n\\\\\",\\\\\\\\n      \\\\\"f2: 2\\\\\\\\\\\\\\\\n\\\\\",\\\\\\\\n      \\\\\"f1\\'\\\\n\",\\n      \"b\\': 3\\\\\\\\\\\\\\\\n\\\\\",\\\\\\\\n      \\\\\"f2: 3\\\\\\\\\\\\\\\\n\\\\\",\\\\\\\\n      \\\\\"f1: 5\\\\\\\\\\\\\\\\n\\\\\",\\\\\\\\n      \\\\\"f2: 5\\\\\\\\\\\\\\\\n\\\\\"\\\\\\\\n     ]\\\\\\\\n    }\\\\\\\\n   ],\\\\\\\\n   \\\\\"source\\\\\": [\\\\\\\\n    \\\\\"f1 = fab(7)\\\\\\\\\\\\\\\\n\\\\\",\\\\\\\\n    \\\\\"f2 = fab(5)\\\\\\\\\\\\\\\\n\\\\\",\\\\\\\\n    \\\\\"print(\\\\\\\\\\'f1:\\\\\\\\\\',f1.__next__())\\\\\\\\\\\\\\\\n\\\\\",\\\\\\\\n    \\\\\"print(\\\\\\\\\\'f2:\\\\\\\\\\',f2.__next__())\\\\\\\\\\\\\\\\n\\\\\",\\\\\\\\n    \\\\\"print(\\\\\\\\'\n",
      "b'\\'f1:\\\\\\\\\\',f1.__next__())\\\\\\\\\\\\\\\\n\\\\\",\\\\\\\\n    \\\\\"print(\\\\\\\\\\'f2:\\\\\\\\\\',f2.__next__())\\\\\\\\\\\\\\\\n\\\\\",\\\\\\\\n    \\\\\"print(\\\\\\\\\\'f1:\\\\\\\\\\',f1.__next__())\\\\\\\\\\\\\\\\n\\\\\",\\\\\\\\n    \\\\\"print(\\\\\\\\\\'f2:\\\\\\\\\\',f2.__next__())\\\\\\\\\\\\\\\\n\\\\\",\\\\\\\\n    \\\\\"print(\\\\\\\\\\'f1:\\\\\\\\\\',f1.__next__())\\\\\\\\\\\\\\\\n\\\\\",\\\\\\\\n    \\\\\"print(\\\\\\\\\\'f2:\\\\\\\\\\',f2.__next__())\\\\\\\\\\\\\\\\n\\\\\",\\\\\\\\n    \\\\\"print(\\\\\\\\\\'f1:\\\\\\\\\\',f1.__next__())\\\\\\\\\\\\\\\\n\\\\\",\\\\\\\\n    \\\\\"print(\\\\\\\\\\'f2:\\\\\\\\\\',f2.__next__())\\\\\"\\\\\\\\n   ]\\\\\\\\n  },\\\\\\\\n  {\\\\\\\\n   \\\\\"cell_type\\\\\": \\\\\"markdown\\\\\",\\\\\\\\n   \\\\\"metadata\\\\\": {},\\\\\\\\n   \\\\\"source\\\\\": [\\\\\\\\n    \\\\\"\\\\\\\\xe5\\\\\\\\x9c\\\\\\\\xa8\\\\\\\\xe4\\\\\\\\xb8\\\\\\\\x80\\\\\\\\xe4\\\\\\\\xb8\\\\\\\\xaagenerator function\\\\\\\\xe4\\\\\\\\xb8\\\\\\\\xad\\\\\\\\xef\\\\\\\\xbc\\\\\\\\x8c\\\\\\\\xe5\\\\\\\\xa6\\\\\\\\x82\\\\\\\\xe6\\\\\\\\x9e\\\\\\\\x9c\\\\\\\\xe6\\\\\\\\xb2\\\\\\\\xa1\\\\\\\\xe6\\\\\\\\x9c\\\\\\\\x89return\\\\\\\\xef\\\\\\\\xbc\\\\\\\\x8c\\\\\\\\xe5\\\\\\\\x88\\\\\\\\x99\\\\\\\\xe9\\\\\\\\xbb\\\\\\\\x98\\\\\\\\xe8\\\\\\\\xae\\\\\\\\xa4\\\\\\\\xe6\\\\\\\\x89\\\\\\\\xa7\\\\\\\\xe8\\\\\\\\xa1\\\\\\\\x8c\\\\\\\\xe8\\\\\\\\x87\\\\\\\\xb3\\\\\\\\xe5\\\\\\\\x87\\\\\\\\xbd\\\\\\\\xe6\\\\\\\\x95\\\\\\\\xb0\\\\\\\\xe6\\\\\\\\x89\\\\\\\\xa7\\\\\\\\xe8\\\\\\\\xa1\\\\\\\\x8c\\\\\\\\xe5\\\\\\\\xae\\\\\\\\x8c\\\\\\\\xe6\\\\\\\\xaf\\\\\\\\x95\\\\\\\\xef\\\\\\\\xbc\\\\\\\\x8c\\\\\\\\xe5\\\\\\\\xa6\\\\\\\\x82\\\\\\\\xe6\\\\\\\\x9e\\\\\\\\x9c\\\\\\\\xe5\\\\\\\\x9c\\\\\\\\xa8\\\\\\\\xe6\\\\\\\\x89\\\\\\\\xa7\\\\\\\\xe8\\\\\\\\xa1\\\\\\\\x8c\\\\\\\\xe8\\\\\\\\xbf\\\\\\\\x87\\\\\\\\xe7\\\\\\\\xa8\\\\\\\\x8b\\\\\\\\xe4\\\\\\\\xb8\\\\\\\\xadreturn\\\\\\\\xef\\\\\\\\xbc\\\\\\\\x8c\\\\\\\\xe5\\\\\\\\x88\\\\\\\\x99\\\\\\\\xe7\\\\\\\\x9b\\\\\\\\xb4\\\\\\\\xe6\\\\\\\\x8e\\\\\\\\xa5\\\\\\\\xe6\\\\\\\\x8a\\\\'\n",
      "b'\\\\x9b\\\\\\\\xe5\\\\\\\\x87\\\\\\\\xbaStopIteration\\\\\\\\xe7\\\\\\\\xbb\\\\\\\\x88\\\\\\\\xe6\\\\\\\\xad\\\\\\\\xa2\\\\\\\\xe8\\\\\\\\xbf\\\\\\\\xad\\\\\\\\xe4\\\\\\\\xbb\\\\\\\\xa3\\\\\"\\\\\\\\n   ]\\\\\\\\n  },\\\\\\\\n  {\\\\\\\\n   \\\\\"cell_type\\\\\": \\\\\"code\\\\\",\\\\\\\\n   \\\\\"execution_count\\\\\": 62,\\\\\\\\n   \\\\\"metadata\\\\\": {\\\\\\\\n    \\\\\"collapsed\\\\\": true\\\\\\\\n   },\\\\\\\\n   \\\\\"outputs\\\\\": [],\\\\\\\\n   \\\\\"source\\\\\": [\\\\\\\\n    \\\\\"def fab(max):\\\\\\\\\\\\\\\\n\\\\\",\\\\\\\\n    \\\\\"    n, a, b = 0, 0, 1\\\\\\\\\\\\\\\\n\\\\\",\\\\\\\\n    \\\\\"    while n < max:\\\\\\\\\\\\\\\\n\\\\\",\\\\\\\\n    \\\\\"        yield b\\\\\\\\\\\\\\\\n\\\\\",\\\\\\\\n    \\\\\"        a, b = b, a + b\\\\\\\\\\\\\\\\n\\\\\",\\\\\\\\n  \\'\\\\n\",\\n      \"b\\'  \\\\\"        n = n + 1\\\\\\\\\\\\\\\\n\\\\\",\\\\\\\\n    \\\\\"        return b\\\\\"\\\\\\\\n   ]\\\\\\\\n  },\\\\\\\\n  {\\\\\\\\n   \\\\\"cell_type\\\\\": \\\\\"code\\\\\",\\\\\\\\n   \\\\\"execution_count\\\\\": 65,\\\\\\\\n   \\\\\"metadata\\\\\": {\\\\\\\\n    \\\\\"collapsed\\\\\": false\\\\\\\\n   },\\\\\\\\n   \\\\\"outputs\\\\\": [\\\\\\\\n    {\\\\\\\\n     \\\\\"name\\\\\": \\\\\"stdout\\\\\",\\\\\\\\n     \\\\\"output_type\\\\\": \\\\\"stream\\\\\",\\\\\\\\n     \\\\\"text\\\\\": [\\\\\\\\n      \\\\\"f1: 1\\\\\\\\\\\\\\\\n\\\\\"\\\\\\\\n     ]\\\\\\\\n    },\\\\\\\\n    {\\\\\\\\n     \\\\\"ename\\\\\": \\\\\"StopIteration\\\\\",\\\\\\\\n     \\\\\"evalue\\\\\": \\\\\"1\\\\\",\\\\\\\\n     \\\\\"output_type\\\\\": \\\\\"error\\\\\",\\\\\\\\n     \\\\\"traceback\\\\\": [\\\\\\\\n      \\\\\"\\\\\\\\\\\\\\\\u001b[1;31m----------------------------------------------------------'\n",
      "b'-----------------\\\\\\\\\\\\\\\\u001b[0m\\\\\",\\\\\\\\n      \\\\\"\\\\\\\\\\\\\\\\u001b[1;31mStopIteration\\\\\\\\\\\\\\\\u001b[0m                             Traceback (most recent call last)\\\\\",\\\\\\\\n      \\\\\"\\\\\\\\\\\\\\\\u001b[1;32m<ipython-input-65-9d2ddff768f4>\\\\\\\\\\\\\\\\u001b[0m in \\\\\\\\\\\\\\\\u001b[0;36m<module>\\\\\\\\\\\\\\\\u001b[1;34m()\\\\\\\\\\\\\\\\u001b[0m\\\\\\\\\\\\\\\\n\\\\\\\\\\\\\\\\u001b[0;32m      1\\\\\\\\\\\\\\\\u001b[0m \\\\\\\\\\\\\\\\u001b[0mf1\\\\\\\\\\\\\\\\u001b[0m \\\\\\\\\\\\\\\\u001b[1;33m=\\\\\\\\\\\\\\\\u001b[0m \\\\\\\\\\\\\\\\u001b[0mfab\\\\\\\\\\\\\\\\u001b[0m\\\\\\\\\\\\\\\\u001b[1;33m(\\\\\\\\\\\\\\\\u001b[0m\\\\\\\\\\\\\\\\u001b[1;36m7\\\\\\\\\\\\\\\\u001b[0m\\\\\\\\\\\\\\\\u001b[1;33m)\\\\\\\\\\\\\\\\u001b[0m\\\\\\\\\\\\\\\\u001b[1;33m\\\\\\\\\\\\\\\\u001b[0m\\\\\\\\\\\\\\\\u001b[0m\\\\\\\\\\\\\\\\n\\\\\\\\\\\\\\\\u001b[0;32m      2\\\\\\\\\\\\\\\\u001b[0m \\\\\\\\\\\\\\\\u001b[0mprint\\\\\\\\\\\\\\\\u001b[0m\\\\\\\\\\\\\\\\u001b[1;33m(\\\\\\\\\\\\\\\\u001b[0m\\\\\\\\\\\\\\\\u001b[1;34m\\\\\\\\\\'f1:\\\\\\\\\\'\\\\\\\\\\\\\\\\u001b[0m\\\\\\\\\\\\\\\\u001b[1;33m,\\\\\\\\\\\\\\\\u001b[0m\\\\\\\\\\\\\\\\u001b\\'\\\\n\",\\n      \"b\\'[0mf1\\\\\\\\\\\\\\\\u001b[0m\\\\\\\\\\\\\\\\u001b[1;33m.\\\\\\\\\\\\\\\\u001b[0m\\\\\\\\\\\\\\\\u001b[0m__next__\\\\\\\\\\\\\\\\u001b[0m\\\\\\\\\\\\\\\\u001b[1;33m(\\\\\\\\\\\\\\\\u001b[0m\\\\\\\\\\\\\\\\u001b[1;33m)\\\\\\\\\\\\\\\\u001b[0m\\\\\\\\\\\\\\\\u001b[1;33m)\\\\\\\\\\\\\\\\u001b[0m\\\\\\\\\\\\\\\\u001b[1;33m\\\\\\\\\\\\\\\\u001b[0m\\\\\\\\\\\\\\\\u001b[0m\\\\\\\\\\\\\\\\n\\\\\\\\\\\\\\\\u001b[1;32m----> 3\\\\\\\\\\\\\\\\u001b[1;33m \\\\\\\\\\\\\\\\u001b[0mprint\\\\\\\\\\\\\\\\u001b[0m\\\\\\\\\\\\\\\\u001b[1;33m(\\\\\\\\\\\\\\\\u001b[0m\\\\\\\\\\\\\\\\u001b[1;34m\\\\\\\\\\'f1'\n",
      "b':\\\\\\\\\\'\\\\\\\\\\\\\\\\u001b[0m\\\\\\\\\\\\\\\\u001b[1;33m,\\\\\\\\\\\\\\\\u001b[0m\\\\\\\\\\\\\\\\u001b[0mf1\\\\\\\\\\\\\\\\u001b[0m\\\\\\\\\\\\\\\\u001b[1;33m.\\\\\\\\\\\\\\\\u001b[0m\\\\\\\\\\\\\\\\u001b[0m__next__\\\\\\\\\\\\\\\\u001b[0m\\\\\\\\\\\\\\\\u001b[1;33m(\\\\\\\\\\\\\\\\u001b[0m\\\\\\\\\\\\\\\\u001b[1;33m)\\\\\\\\\\\\\\\\u001b[0m\\\\\\\\\\\\\\\\u001b[1;33m)\\\\\\\\\\\\\\\\u001b[0m\\\\\\\\\\\\\\\\u001b[1;33m\\\\\\\\\\\\\\\\u001b[0m\\\\\\\\\\\\\\\\u001b[0m\\\\\\\\\\\\\\\\n\\\\\\\\\\\\\\\\u001b[0m\\\\\",\\\\\\\\n      \\\\\"\\\\\\\\\\\\\\\\u001b[1;31mStopIteration\\\\\\\\\\\\\\\\u001b[0m: 1\\\\\"\\\\\\\\n     ]\\\\\\\\n    }\\\\\\\\n   ],\\\\\\\\n   \\\\\"source\\\\\": [\\\\\\\\n    \\\\\"f1 = fab(7)\\\\\\\\\\\\\\\\n\\\\\",\\\\\\\\n    \\\\\"print(\\\\\\\\\\'f1:\\\\\\\\\\',f1.__next__())\\\\\\\\\\\\\\\\n\\\\\",\\\\\\\\n    \\\\\"print(\\\\\\\\\\'f1:\\\\\\\\\\',f1.__next__())\\\\\"\\\\\\\\n   ]\\\\\\\\n  },\\\\\\\\n  {\\\\\\\\n   \\\\\"cell_type\\\\\": \\\\\"markdown\\\\\",\\\\\\\\n   \\\\\"metadata\\\\\": {},\\\\\\\\n   \\\\\"source\\\\\": [\\\\\\\\n    \\\\\"\\\\\\\\xe5\\\\\\\\x8f\\\\\\\\xa6\\\\\\\\xe4\\\\\\\\xb8\\\\\\\\x80\\\\\\\\xe4\\\\\\\\xb8\\\\\\\\xaayield\\\\\\\\xe7\\\\\\\\x9a\\\\\\\\x84\\\\\\\\xe4\\\\\\\\xbe\\\\\\\\x8b\\\\\\\\xe5\\\\\\\\xad\\\\\\\\x90\\\\\\\\xe6\\\\\\\\x9d\\\\\\\\xa5\\\\\\\\xe6\\\\\\\\xba\\\\\\\\x90\\\\\\\\xe4\\\\\\\\xba\\\\\\\\x8e\\\\\\\\xe6\\\\\\\\x96\\\\\\\\x87\\\\\\\\xe4\\\\\\\\xbb\\\\\\\\xb6\\\\\\\\xe8\\\\\\\\xaf\\\\\\\\xbb\\\\\\\\xe5\\\\\\\\x8f\\\\\\\\x96\\\\\\\\xe3\\\\\\\\x80\\\\\\\\x82\\\\\\\\xe5\\\\\\\\xa6\\\\\\\\x82\\\\\\\\xe6\\\\\\\\x9e\\\\\\\\x9c\\\\\\\\xe7\\\\\\\\x9b\\\\\\\\xb4\\\\\\\\xe6\\\\\\\\x8e\\\\\\\\xa5\\\\\\\\xe5\\\\\\\\xaf\\\\\\\\xb9\\\\\\\\xe6\\\\\\\\x96\\\\\\\\x87\\\\\\\\xe4\\\\\\\\xbb\\\\\\\\xb6\\\\\\\\xe5\\\\\\\\xaf\\\\\\\\xb9\\\\\\\\xe8\\\\\\\\xb1\\\\\\\\xa1\\\\\\\\xe8\\\\\\\\xb0\\\\\\\\x83\\\\\\\\xe7\\\\\\\\x94\\\\\\\\xa8read()\\\\\\\\xe6\\\\\\\\x96\\\\\\\\xb9\\\\\\\\xe6\\\\\\\\xb3\\\\\\\\x95,\\\\\\\\xe4\\\\\\\\xbc\\\\\\\\x'\n",
      "b'9a\\\\\\\\xe5\\\\\\\\xaf\\\\\\\\xbc\\\\\\\\xe8\\\\\\\\x87\\\\\\\\xb4\\\\\\\\xe4\\\\\\\\xb8\\\\\\\\x8d\\\\\\\\xe5\\\\\\\\x8f\\\\\\\\xaf\\\\\\\\xe9\\\\\\\\xa2\\\\\\\\x84\\\\\\\\xe6\\\\\\\\xb5\\\\\\\\x8b\\\\\\\\xe7\\\\\\\\x9a\\\\\\\\x84\\\\\\\\xe5\\\\\\\\x86\\\\\\\\x85\\\\\\\\xe5\\\\\\\\xad\\\\\\\\x98\\\\\\\\xe5\\\\\\\\x8d\\\\\\\\xa0\\\\\\\\xe7\\\\\\\\x94\\\\\\\\xa8\\\\\\\\xe3\\\\\\\\x80\\\\\\\\x82\\\\\\\\xe5\\\\\\\\xa5\\\\\\\\xbd\\\\\\\\xe7\\\\\\\\x9a\\\\\\\\x84\\\\\\\\xe6\\\\\\\\x96\\\\\\\\xb9\\\\\\\\xe6\\\\\\\\xb3\\\\\\\\x95\\\\\\\\xe6\\\\\\\\x98\\\\\\\\xaf\\\\\\\\xe5\\\\\\\\x88\\\\\\\\xa9\\\\\\\\xe7\\\\\\\\x94\\\\\\\\xa8\\\\\\\\xe5\\\\\\\\x9b\\\\\\\\xba\\\\\\\\xe5\\\\\\\\xae\\\\\\\\x9a\\\\\\\\xe9\\\\\\\\x95\\\\\\\\xbf\\\\\\\\xe5\\\\\\\\xba\\\\\\\\xa6\\\\\\\\xe7\\\\\\\\x9a\\\\\\\\x84\\\\\\\\xe7\\\\\\\\xbc\\\\\\\\x93\\\\\\\\xe5\\\\\\\\x86\\\\\\\\xb2\\\\\\\\xe5\\\\\\\\x8c\\\\\\\\xba\\\\\\\\xe4\\\\\\\\xb8\\\\\\\\x8d\\\\\\\\xe6\\\\\\\\x96\\\\\\\\xad\\\\\\\\xe8\\\\\\\\xaf\\\\\\\\xbb\\\\\\\\xe5\\\\\\\\x8f\\\\\\\\x96\\\\\\\\xe6\\\\\\\\x96\\\\\\\\x87\\\\\\\\xe4\\\\\\\\xbb\\\\\\\\xb6\\\\\\\\xe5\\\\\\\\x86\\\\\\\\x85\\\\\\\\xe5\\\\\\\\xae\\\\\\\\xb9\\\\\\\\xe3\\\\\\\\x80\\\\\\\\x82\\\\\\\\xe9\\\\\\\\x80\\\\\\\\x9a\\\\\\\\xe8\\\\\\\\xbf\\\\\\\\x87yield\\\\\\\\xef\\\\\\\\xbc\\\\\\\\x8c\\\\\\\\xe6\\\\\\\\x88\\\\\\\\x91\\\\\\\\xe4\\\\\\\\xbb\\\\\\\\xac\\\\\\\\xe4\\\\\\\\xb8\\\\\\\\x8d\\\\\\\\xe5\\\\\\\\x86\\\\\\\\x8d\\\\\\\\xe9\\\\\\\\x9c\\\\\\\\x80\\\\\\\\xe8\\\\\\\\xa6\\\\\\\\x81\\\\\\\\xe7\\\\\\\\xbc\\\\\\\\x96\\\\\\\\xe5\\\\\\\\x86\\\\\\\\x99\\\\\\\\xe8\\\\\\\\xaf\\\\\\\\xbb\\\\\\\\xe6\\\\\\\\x96\\\\\\\\x87\\\\\\\\xe4\\\\\\\\xbb\\\\\\\\xb6\\\\\\\\xe8\\\\\\\\xbf\\\\\\\\xad\\\\\\\\xe4\\\\\\\\xbb\\\\\\\\xa3\\\\\\\\xe7\\\\\\\\xb1\\\\\\\\xbb\\\\\\\\xef\\\\\\\\xbc\\\\\\\\x8c\\\\\\\\xe5\\\\\\\\xb0\\\\\\\\xb1\\\\\\\\xe5\\\\\\\\x8f\\\\\\\\xaf\\\\\\\\xe4\\\\\\\\xbb\\\\\\\\xa5\\\\\\\\xe8\\\\\\\\xbd\\\\\\\\xbb\\\\\\\\xe6\\\\\\\\x9d\\\\\\\\xbe\\\\\\\\xe5\\\\\\\\xae\\\\\\\\x9e\\\\\\\\xe7\\\\\\\\x8e\\\\\\\\xb0\\\\\\\\xe6\\\\\\\\x96\\\\\\\\x87\\\\\\\\xe4\\\\\\\\xbb\\\\\\\\xb6\\\\\\\\xe8\\\\\\\\xaf\\\\\\\\xbb\\\\\\\\xe5\\\\\\\\x8f\\\\\\\\x96:\\\\\"\\\\\\\\n   ]\\\\\\\\n  },\\\\\\\\n \\'\\\\n\",\\n      \"b\\' {\\\\\\\\n '\n",
      "b'  \\\\\"cell_type\\\\\": \\\\\"code\\\\\",\\\\\\\\n   \\\\\"execution_count\\\\\": 67,\\\\\\\\n   \\\\\"metadata\\\\\": {\\\\\\\\n    \\\\\"collapsed\\\\\": false\\\\\\\\n   },\\\\\\\\n   \\\\\"outputs\\\\\": [],\\\\\\\\n   \\\\\"source\\\\\": [\\\\\\\\n    \\\\\"def read_file(fpath):\\\\\\\\\\\\\\\\n\\\\\",\\\\\\\\n    \\\\\"    BLOCK_SIZE = 1024\\\\\\\\\\\\\\\\n\\\\\",\\\\\\\\n    \\\\\"    with open(fpath,\\\\\\\\\\'rb\\\\\\\\\\') as f:\\\\\\\\\\\\\\\\n\\\\\",\\\\\\\\n    \\\\\"        while True:\\\\\\\\\\\\\\\\n\\\\\",\\\\\\\\n    \\\\\"            block = f.read(BLOCK_SIZE)\\\\\\\\\\\\\\\\n\\\\\",\\\\\\\\n    \\\\\"            if block:\\\\\\\\\\\\\\\\n\\\\\",\\\\\\\\n    \\\\\"                yield block\\\\\\\\\\\\\\\\n\\\\\",\\\\\\\\n    \\\\\"            else:\\\\\\\\\\\\\\\\n\\\\\",\\\\\\\\n    \\\\\"                return\\\\\"\\\\\\\\n   ]\\\\\\\\n  },\\\\\\\\n  {\\\\\\\\n   \\\\\"cell_type\\\\\": \\\\\"code\\\\\",\\\\\\\\n   \\\\\"execution_count\\\\\": 68,\\\\\\\\n   \\\\\"metadata\\\\\": {\\\\\\\\n    \\\\\"collapsed\\\\\": false\\\\\\\\n   },\\\\\\\\n   \\\\\"outputs\\\\\": [\\\\\\\\n    {\\\\\\\\n     \\\\\"data\\\\\": {\\\\\\\\n      \\\\\"text/plain\\\\\": [\\\\\\\\n       \\\\\"<generator object read_file at 0x7fa44d34e5a0>\\\\\"\\\\\\\\n      ]\\\\\\\\n     },\\\\\\\\n     \\\\\"execution_count\\\\\": 68,\\\\\\\\n     \\\\\"metadata\\\\\": {},\\\\\\\\n     \\\\\"output_type\\\\\": \\\\\"execute_result\\\\\"\\\\\\\\n    }\\\\\\\\n   ],\\\\\\\\n   \\\\\"source\\\\\": [\\\\\\\\n    \\\\\"read_file(\\\\\\\\\\'MergeSort.ipynb\\\\\\\\\\')\\\\\"\\\\\\\\n   ]\\\\\\\\n  }\\\\\\\\n ],\\\\\\\\n \\\\\"metadata\\\\\":'\n",
      "b' {\\\\\\\\n  \\\\\"kernelspec\\\\\": {\\\\\\\\n   \\\\\"display_name\\\\\": \\\\\"Python 3\\\\\",\\\\\\\\n   \\\\\"language\\\\\": \\\\\"python\\\\\",\\\\\\\\n   \\\\\"name\\\\\": \\\\\"python3\\\\\"\\\\\\\\n  },\\\\\\\\n  \\\\\"language_info\\\\\": {\\\\\\\\n   \\\\\"codemirror_mode\\\\\": {\\\\\\\\n    \\\\\"name\\\\\": \\\\\"ipython\\\\\",\\\\\\\\n   \\'\\\\n\",\\n      \"b\\' \\\\\"version\\\\\": 3\\\\\\\\n   },\\\\\\\\n   \\\\\"file_extension\\\\\": \\\\\".py\\\\\",\\\\\\\\n   \\\\\"mimetype\\\\\": \\\\\"text/x-python\\\\\",\\\\\\\\n   \\\\\"name\\\\\": \\\\\"python\\\\\",\\\\\\\\n   \\\\\"nbconvert_exporter\\\\\": \\\\\"python\\\\\",\\\\\\\\n   \\\\\"pygments_lexer\\\\\": \\\\\"ipython3\\\\\",\\\\\\\\n   \\\\\"version\\\\\": \\\\\"3.4.3\\\\\"\\\\\\\\n  }\\\\\\\\n },\\\\\\\\n \\\\\"nbformat\\\\\": 4,\\\\\\\\n \\\\\"nbformat_minor\\\\\": 0\\\\\\\\n}\\\\\\\\n\\'\\\\n\"\\n     ]\\n    }\\n   ],\\n   \"source\": [\\n    \"for a in read_file(\\'YieldExample.ipynb\\'):\\\\n\",\\n    \"    print(a)\"\\n   ]\\n  }\\n ],\\n \"metadata\": {\\n  \"kernelspec\": {\\n   \"display_name\": \"Python 3\",\\n   \"language\": \"python\",\\n   \"name\": \"python3\"\\n  },\\n  \"language_info\": {\\n   \"codemirror_mode\": {\\n    \"name\": \"ipython\",\\n    \"version\": 3\\n   },\\n   \"file_extension\": \".py\",\\n   \"mimetype\": \"text/x-python\",\\n   \"name\": \"python\",\\n   \"nbconvert_exporter\": \"python\",\\n   \"pygments_lexer\": \"ipython3\",\\n   \"version\": \"3.4.3\"\\n  '\n",
      "b'}\\n },\\n \"nbformat\": 4,\\n \"nbformat_minor\": 0\\n}\\n'\n"
     ]
    }
   ],
   "source": [
    "for a in read_file('YieldExample.ipynb'):\n",
    "    print(a)"
   ]
  }
 ],
 "metadata": {
  "kernelspec": {
   "display_name": "Python 3",
   "language": "python",
   "name": "python3"
  },
  "language_info": {
   "codemirror_mode": {
    "name": "ipython",
    "version": 3
   },
   "file_extension": ".py",
   "mimetype": "text/x-python",
   "name": "python",
   "nbconvert_exporter": "python",
   "pygments_lexer": "ipython3",
   "version": "3.5.1"
  }
 },
 "nbformat": 4,
 "nbformat_minor": 0
}
