{
 "cells": [
  {
   "cell_type": "code",
   "execution_count": 9,
   "metadata": {
    "collapsed": false
   },
   "outputs": [],
   "source": [
    "class Kls(object):\n",
    "    def __init__(self, data):\n",
    "        self.data = data\n",
    "    def printd(self):\n",
    "        print(self.data)\n",
    "    @staticmethod\n",
    "    def smethod(*arg):\n",
    "        print('Static:', arg)\n",
    "    @classmethod\n",
    "    def cmethod(*arg):\n",
    "        print('Class:', arg)"
   ]
  },
  {
   "cell_type": "code",
   "execution_count": 10,
   "metadata": {
    "collapsed": true
   },
   "outputs": [],
   "source": [
    "ik = Kls(23)"
   ]
  },
  {
   "cell_type": "code",
   "execution_count": 11,
   "metadata": {
    "collapsed": false
   },
   "outputs": [
    {
     "name": "stdout",
     "output_type": "stream",
     "text": [
      "23\n",
      "Static: ()\n"
     ]
    }
   ],
   "source": [
    "ik.printd()\n",
    "ik.smethod()"
   ]
  },
  {
   "cell_type": "code",
   "execution_count": 12,
   "metadata": {
    "collapsed": false
   },
   "outputs": [
    {
     "name": "stdout",
     "output_type": "stream",
     "text": [
      "Class: (<class '__main__.Kls'>,)\n"
     ]
    }
   ],
   "source": [
    "ik.cmethod()"
   ]
  },
  {
   "cell_type": "code",
   "execution_count": 13,
   "metadata": {
    "collapsed": false
   },
   "outputs": [
    {
     "name": "stdout",
     "output_type": "stream",
     "text": [
      "Static: ()\n"
     ]
    }
   ],
   "source": [
    "Kls.smethod()"
   ]
  },
  {
   "cell_type": "code",
   "execution_count": 14,
   "metadata": {
    "collapsed": false
   },
   "outputs": [
    {
     "name": "stdout",
     "output_type": "stream",
     "text": [
      "Class: (<class '__main__.Kls'>,)\n"
     ]
    }
   ],
   "source": [
    "Kls.cmethod()"
   ]
  },
  {
   "cell_type": "code",
   "execution_count": 15,
   "metadata": {
    "collapsed": false
   },
   "outputs": [
    {
     "name": "stdout",
     "output_type": "stream",
     "text": [
      "2\n",
      "2\n"
     ]
    }
   ],
   "source": [
    " class Kls(object):\n",
    "    no_inst = 0\n",
    "    def __init__(self):\n",
    "        Kls.no_inst = Kls.no_inst + 1\n",
    "    @classmethod\n",
    "    def get_no_of_instance(cls_obj):\n",
    "        return cls_obj.no_inst\n",
    "ik1 = Kls()\n",
    "ik2 = Kls()\n",
    "print(ik1.get_no_of_instance())\n",
    "print(Kls.get_no_of_instance())"
   ]
  },
  {
   "cell_type": "code",
   "execution_count": 16,
   "metadata": {
    "collapsed": false
   },
   "outputs": [
    {
     "name": "stdout",
     "output_type": "stream",
     "text": [
      "Reset done for: 12\n",
      "DB connection made for:  12\n"
     ]
    }
   ],
   "source": [
    "IND = 'ON'\n",
    "class Kls(object):\n",
    "    def __init__(self, data):\n",
    "        self.data = data\n",
    "    @staticmethod\n",
    "    def checkind():\n",
    "        return (IND == 'ON')\n",
    "    def do_reset(self):\n",
    "        if self.checkind():\n",
    "            print('Reset done for:', self.data)\n",
    "    def set_db(self):\n",
    "        if self.checkind():\n",
    "            self.db = 'New db connection'\n",
    "        print('DB connection made for: ', self.data)\n",
    "ik1 = Kls(12)\n",
    "ik1.do_reset()\n",
    "ik1.set_db()"
   ]
  }
 ],
 "metadata": {
  "kernelspec": {
   "display_name": "Python 3",
   "language": "python",
   "name": "python3"
  },
  "language_info": {
   "codemirror_mode": {
    "name": "ipython",
    "version": 3
   },
   "file_extension": ".py",
   "mimetype": "text/x-python",
   "name": "python",
   "nbconvert_exporter": "python",
   "pygments_lexer": "ipython3",
   "version": "3.4.3"
  }
 },
 "nbformat": 4,
 "nbformat_minor": 0
}
