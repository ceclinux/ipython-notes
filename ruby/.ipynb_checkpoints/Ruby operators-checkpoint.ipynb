{
 "cells": [
  {
   "cell_type": "code",
   "execution_count": null,
   "metadata": {
    "collapsed": false
   },
   "outputs": [],
   "source": [
    "1 <=> 3"
   ]
  },
  {
   "cell_type": "code",
   "execution_count": null,
   "metadata": {
    "collapsed": false
   },
   "outputs": [],
   "source": [
    "4 <=> 3"
   ]
  },
  {
   "cell_type": "code",
   "execution_count": null,
   "metadata": {
    "collapsed": false
   },
   "outputs": [],
   "source": [
    "3 <=> 3"
   ]
  },
  {
   "cell_type": "markdown",
   "metadata": {},
   "source": [
    "Proc objects are blocks of code that have been bound to a set of local variables. Once bound, the code may be called in different contexts and still access those variables."
   ]
  },
  {
   "cell_type": "code",
   "execution_count": null,
   "metadata": {
    "collapsed": false
   },
   "outputs": [],
   "source": [
    "def gen_times(factor)\n",
    "  return Proc.new {|n| n*factor }\n",
    "end\n",
    "\n",
    "times3 = gen_times(3)\n",
    "times5 = gen_times(5)\n",
    "\n",
    "p times3.call(12)               #=> 36\n",
    "p times5.call(5)                #=> 25\n",
    "p times3.call(times5.call(4))   #=> 60"
   ]
  },
  {
   "cell_type": "code",
   "execution_count": null,
   "metadata": {
    "collapsed": false
   },
   "outputs": [],
   "source": [
    "[1] * 2"
   ]
  },
  {
   "cell_type": "code",
   "execution_count": null,
   "metadata": {
    "collapsed": false
   },
   "outputs": [],
   "source": [
    "[3] + [2, 4]"
   ]
  },
  {
   "cell_type": "markdown",
   "metadata": {},
   "source": [
    "There isn't a `&:` operator in Ruby. What you are seeing is the `&` operator applied to a :symbol.\n",
    "\n",
    "In a method argument list, the `&` operator takes its operand, converts it to a `Proc` object if it isn't already (by calling to_proc on it) and passes it to the method as if a block had been used."
   ]
  },
  {
   "cell_type": "code",
   "execution_count": null,
   "metadata": {
    "collapsed": false
   },
   "outputs": [],
   "source": [
    "my_proc = Proc.new { puts \"foo\" }\n",
    "\n",
    "my_method_call(&my_proc) # is identical to:\n",
    "my_method_call { puts \"foo\" }"
   ]
  },
  {
   "cell_type": "markdown",
   "metadata": {},
   "source": [
    "So the question now becomes **\"What does Symbol#to_proc do?\"**, and that's easy to see in the Rails documentation:"
   ]
  },
  {
   "cell_type": "markdown",
   "metadata": {},
   "source": [
    "Turns the symbol into a simple proc, which is especially useful for enumerations. Examples:"
   ]
  },
  {
   "cell_type": "code",
   "execution_count": null,
   "metadata": {
    "collapsed": false
   },
   "outputs": [],
   "source": [
    "# The same as people.collect { |p| p.name }\n",
    "people.collect(&:name)\n",
    "\n",
    "# The same as people.select { |p| p.manager? }.collect { |p| p.salary }\n",
    "people.select(&:manager?).collect(&:salary)"
   ]
  },
  {
   "cell_type": "code",
   "execution_count": null,
   "metadata": {
    "collapsed": false
   },
   "outputs": [],
   "source": [
    "# The same as people.collect { |p| p.name }\n",
    "people.collect(&:name)\n",
    "\n",
    "# The same as people.select { |p| p.manager? }.collect { |p| p.salary }\n",
    "people.select(&:manager?).collect(&:salary)"
   ]
  }
 ],
 "metadata": {
  "kernelspec": {
   "display_name": "Ruby 2.3.0",
   "language": "ruby",
   "name": "ruby"
  },
  "language_info": {
   "file_extension": ".rb",
   "mimetype": "application/x-ruby",
   "name": "ruby",
   "version": "2.3.0"
  }
 },
 "nbformat": 4,
 "nbformat_minor": 0
}
